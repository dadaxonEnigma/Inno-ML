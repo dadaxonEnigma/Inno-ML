{
 "cells": [
  {
   "cell_type": "code",
   "execution_count": 2,
   "id": "203e547e-19d0-418a-b4b6-a90a3f90b05e",
   "metadata": {},
   "outputs": [],
   "source": [
    "import pandas as pd\n",
    "from sklearn.model_selection import train_test_split\n",
    "from category_encoders import TargetEncoder\n",
    "from sklearn.impute import SimpleImputer"
   ]
  },
  {
   "cell_type": "code",
   "execution_count": 3,
   "id": "34d4ca5b-6964-430c-86b0-6afa51699ca4",
   "metadata": {},
   "outputs": [
    {
     "data": {
      "text/plain": [
       "1010000"
      ]
     },
     "execution_count": 3,
     "metadata": {},
     "output_type": "execute_result"
    }
   ],
   "source": [
    "data = pd.read_csv('football_data.csv',low_memory=False)\n",
    "target = data['Win_Prob']\n",
    "data = data.drop(columns=['Win_Prob'])\n",
    "data.size"
   ]
  },
  {
   "cell_type": "code",
   "execution_count": 4,
   "id": "3140fbc8-cb16-41a7-9ee3-5f9e14eaced7",
   "metadata": {},
   "outputs": [
    {
     "data": {
      "text/plain": [
       "1010000"
      ]
     },
     "execution_count": 4,
     "metadata": {},
     "output_type": "execute_result"
    }
   ],
   "source": [
    "data = data.loc[:, (data != 0).any(axis=0)]\n",
    "data.size"
   ]
  },
  {
   "cell_type": "code",
   "execution_count": 5,
   "id": "e20d4805-0335-4e44-aa68-0d1fb7a2c3d2",
   "metadata": {},
   "outputs": [],
   "source": [
    "if 'Date' in data.columns:\n",
    "    data['Date'] = pd.to_datetime(data['Date'])\n",
    "    data['Year'] = data['Date'].dt.year\n",
    "    data['Month'] = data['Date'].dt.month\n",
    "    data['Day'] = data['Date'].dt.day\n",
    "    data.drop(columns=['Date'], inplace=True)\n",
    "\n",
    "if 'time' in data.columns:\n",
    "    data['Time'] = pd.to_datetime(data['time'], format='%H:%M:%S', errors='coerce')\n",
    "    data['Hour'] = data['Time'].dt.hour\n",
    "    data['Minute'] = data['Time'].dt.minute\n",
    "    data.drop(columns=['Time'], inplace=True)"
   ]
  },
  {
   "cell_type": "code",
   "execution_count": 6,
   "id": "892f5c26-627b-4405-a638-67c220cb25ed",
   "metadata": {},
   "outputs": [
    {
     "data": {
      "text/plain": [
       "970000"
      ]
     },
     "execution_count": 6,
     "metadata": {},
     "output_type": "execute_result"
    }
   ],
   "source": [
    "threshold = len(data) * 0.01  # 1% of total rows to keep\n",
    "data = data.dropna(thresh=threshold, axis=1)\n",
    "data.size"
   ]
  },
  {
   "cell_type": "code",
   "execution_count": 7,
   "id": "f7a9950d-3d4c-4d45-86a1-02a1544b0dc6",
   "metadata": {},
   "outputs": [
    {
     "data": {
      "text/plain": [
       "970000"
      ]
     },
     "execution_count": 7,
     "metadata": {},
     "output_type": "execute_result"
    }
   ],
   "source": [
    "distinct_threshold = 0.99  # 99% distinct values\n",
    "data = data.loc[:, data.nunique() / len(data) < distinct_threshold]\n",
    "data.size"
   ]
  },
  {
   "cell_type": "code",
   "execution_count": 8,
   "id": "195aaa3e-26a8-43f0-891f-29bb7ad3195e",
   "metadata": {},
   "outputs": [],
   "source": [
    "X_train, X_test, y_train, y_test = train_test_split(data, target, test_size=0.2, random_state=42)"
   ]
  },
  {
   "cell_type": "code",
   "execution_count": 9,
   "id": "3e6b8ed8-2f50-4ab7-b3b7-b90e860ffe58",
   "metadata": {},
   "outputs": [],
   "source": [
    "X_train, X_val, y_train, y_val = train_test_split(X_train, y_train, test_size=0.2, random_state=42)"
   ]
  },
  {
   "cell_type": "code",
   "execution_count": 10,
   "id": "b1eaf6a6-3618-4a6e-ae86-b7b262d85ad7",
   "metadata": {},
   "outputs": [],
   "source": [
    "categorical_columns = X_train.select_dtypes(include=['object']).columns.tolist()\n",
    "target_encoder = TargetEncoder(cols=categorical_columns)"
   ]
  },
  {
   "cell_type": "code",
   "execution_count": 11,
   "id": "bd1bc23f-fc88-4c69-a7e7-a47ba86a4564",
   "metadata": {},
   "outputs": [],
   "source": [
    "# Fit the encoder on the training data and transform\n",
    "X_train_encoded = target_encoder.fit_transform(X_train[categorical_columns], y_train)\n",
    "\n",
    "# Non-categorical columns in the training set\n",
    "non_categorical_columns = X_train.select_dtypes(exclude=['object']).columns.tolist()\n",
    "\n",
    "# Concatenating encoded categorical features with the non-categorical columns\n",
    "X_train_encoded = pd.concat([X_train_encoded, X_train[non_categorical_columns].reset_index(drop=True)], axis=1)\n",
    "\n",
    "# Transform validation and test data\n",
    "X_val_encoded = target_encoder.transform(X_val[categorical_columns])\n",
    "X_val_encoded = pd.concat([X_val_encoded, X_val[non_categorical_columns].reset_index(drop=True)], axis=1)\n",
    "\n",
    "X_test_encoded = target_encoder.transform(X_test[categorical_columns])\n",
    "X_test_encoded = pd.concat([X_test_encoded, X_test[non_categorical_columns].reset_index(drop=True)], axis=1)"
   ]
  },
  {
   "cell_type": "code",
   "execution_count": 12,
   "id": "84f37128-5517-4c27-8c52-dc394a4df07c",
   "metadata": {},
   "outputs": [],
   "source": [
    "# Step 10: Impute missing values\n",
    "imputer = SimpleImputer(strategy='mean')  \n",
    "X_train_encoded_imputed = imputer.fit_transform(X_train_encoded)\n",
    "X_train_encoded = pd.DataFrame(X_train_encoded_imputed, columns=X_train_encoded.columns)\n",
    "\n",
    "X_val_encoded_imputed = imputer.transform(X_val_encoded)\n",
    "X_val_encoded = pd.DataFrame(X_val_encoded_imputed, columns=X_val_encoded.columns)\n",
    "\n",
    "X_test_encoded_imputed = imputer.transform(X_test_encoded)\n",
    "X_test_encoded = pd.DataFrame(X_test_encoded_imputed, columns=X_test_encoded.columns)"
   ]
  },
  {
   "cell_type": "code",
   "execution_count": 13,
   "id": "b7dd1be4-0731-4531-a0d5-0b138976a8ea",
   "metadata": {},
   "outputs": [
    {
     "name": "stdout",
     "output_type": "stream",
     "text": [
      "Train shape: (8691, 97)\n",
      "Validation shape: (2946, 97)\n",
      "Test shape: (3590, 97)\n"
     ]
    }
   ],
   "source": [
    "# Display final shapes\n",
    "print(\"Train shape:\", X_train_encoded.shape)\n",
    "print(\"Validation shape:\", X_val_encoded.shape)\n",
    "print(\"Test shape:\", X_test_encoded.shape)"
   ]
  },
  {
   "cell_type": "code",
   "execution_count": 14,
   "id": "a3fa5df5-ffaf-4148-b9f5-f4c0acb3d52d",
   "metadata": {},
   "outputs": [
    {
     "data": {
      "text/plain": [
       "(10000, 97)"
      ]
     },
     "execution_count": 14,
     "metadata": {},
     "output_type": "execute_result"
    }
   ],
   "source": [
    "data.shape"
   ]
  },
  {
   "cell_type": "code",
   "execution_count": null,
   "id": "e0cb1d12-736f-4431-bc89-6c6c709fc3fd",
   "metadata": {},
   "outputs": [],
   "source": []
  }
 ],
 "metadata": {
  "kernelspec": {
   "display_name": "Python 3 (ipykernel)",
   "language": "python",
   "name": "python3"
  },
  "language_info": {
   "codemirror_mode": {
    "name": "ipython",
    "version": 3
   },
   "file_extension": ".py",
   "mimetype": "text/x-python",
   "name": "python",
   "nbconvert_exporter": "python",
   "pygments_lexer": "ipython3",
   "version": "3.12.4"
  }
 },
 "nbformat": 4,
 "nbformat_minor": 5
}
