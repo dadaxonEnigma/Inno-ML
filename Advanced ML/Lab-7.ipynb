{
 "cells": [
  {
   "cell_type": "markdown",
   "metadata": {
    "id": "lLYOztuGtZQr"
   },
   "source": [
    "# Lab 7: Convolutions and Convolutional neural networks\n",
    "\n",
    "```\n",
    "- Machine Learning, Innopolis University (Fall semester 2024)\n",
    "- Instructors: Adil Khan & Gcinizwe Dlamini\n",
    "```\n",
    "<hr>\n",
    "\n",
    "\n",
    "```\n",
    "In this lab, you will practice simple deep learning model in Pytorch.\n",
    "\n",
    "Lab Plan\n",
    "1. Convolutions - application examples\n",
    "2. Building CNN in PyTorch\n",
    "    - example CNN\n",
    "    - comparing with Fully-connected NN\n",
    "\n",
    "```\n",
    "\n",
    "<hr>"
   ]
  },
  {
   "cell_type": "markdown",
   "metadata": {
    "id": "fAlGKi7M0Kcj"
   },
   "source": [
    "## 1. Recap\n",
    "\n",
    "1. What is the use of convolutions? (In general)\n",
    "2. Why use convolutional layers instead of fully-connected ones?\n"
   ]
  },
  {
   "cell_type": "markdown",
   "metadata": {
    "id": "nzMQ4LjY5WP8"
   },
   "source": [
    "\n",
    "## 2. Convolutions\n",
    "Let's upload some image (you can try your own image changing the url)"
   ]
  },
  {
   "cell_type": "code",
   "execution_count": 1,
   "metadata": {
    "colab": {
     "base_uri": "https://localhost:8080/"
    },
    "id": "sfRMgrloCA5s",
    "outputId": "cacdbec4-ac41-4b0b-e0bf-bf069e08dedf"
   },
   "outputs": [
    {
     "data": {
      "text/plain": [
       "('grid_img.jpg', <http.client.HTTPMessage at 0x121ce0b1ae0>)"
      ]
     },
     "execution_count": 1,
     "metadata": {},
     "output_type": "execute_result"
    }
   ],
   "source": [
    "import urllib.request\n",
    "url = \"https://www.dropbox.com/scl/fi/0n8y4jtqdt51xedwgpb5g/grid_img.jpg?rlkey=ud5912lz83u0z05dicfvq1w3z&st=stuhlkhe&dl=1\"\n",
    "filename = 'grid_img.jpg'\n",
    "urllib.request.urlretrieve(url, filename)"
   ]
  },
  {
   "cell_type": "markdown",
   "metadata": {
    "id": "W9_2KmSBCA5t"
   },
   "source": [
    "## 2. Reading image data"
   ]
  },
  {
   "cell_type": "code",
   "execution_count": 4,
   "metadata": {
    "colab": {
     "base_uri": "https://localhost:8080/",
     "height": 452
    },
    "id": "x5hHytSOsgMR",
    "outputId": "c672faa5-4bff-4039-f69d-10a2c4fb452f"
   },
   "outputs": [
    {
     "ename": "ModuleNotFoundError",
     "evalue": "No module named 'skimage'",
     "output_type": "error",
     "traceback": [
      "\u001b[1;31m---------------------------------------------------------------------------\u001b[0m",
      "\u001b[1;31mModuleNotFoundError\u001b[0m                       Traceback (most recent call last)",
      "Cell \u001b[1;32mIn[4], line 3\u001b[0m\n\u001b[0;32m      1\u001b[0m \u001b[38;5;28;01mimport\u001b[39;00m \u001b[38;5;21;01mnumpy\u001b[39;00m \u001b[38;5;28;01mas\u001b[39;00m \u001b[38;5;21;01mnp\u001b[39;00m\n\u001b[0;32m      2\u001b[0m \u001b[38;5;28;01mimport\u001b[39;00m \u001b[38;5;21;01mmatplotlib\u001b[39;00m\u001b[38;5;21;01m.\u001b[39;00m\u001b[38;5;21;01mpyplot\u001b[39;00m \u001b[38;5;28;01mas\u001b[39;00m \u001b[38;5;21;01mplt\u001b[39;00m\n\u001b[1;32m----> 3\u001b[0m \u001b[38;5;28;01mfrom\u001b[39;00m \u001b[38;5;21;01mskimage\u001b[39;00m\u001b[38;5;21;01m.\u001b[39;00m\u001b[38;5;21;01mcolor\u001b[39;00m \u001b[38;5;28;01mimport\u001b[39;00m rgb2gray\n\u001b[0;32m      4\u001b[0m \u001b[38;5;28;01mfrom\u001b[39;00m \u001b[38;5;21;01mscipy\u001b[39;00m \u001b[38;5;28;01mimport\u001b[39;00m ndimage\n\u001b[0;32m      6\u001b[0m \u001b[38;5;66;03m# Let's read and plot the image\u001b[39;00m\n",
      "\u001b[1;31mModuleNotFoundError\u001b[0m: No module named 'skimage'"
     ]
    }
   ],
   "source": [
    "import numpy as np\n",
    "import matplotlib.pyplot as plt\n",
    "from skimage.color import rgb2gray\n",
    "from scipy import ndimage\n",
    "\n",
    "# Let's read and plot the image\n",
    "image = plt.imread('grid_img.jpg')\n",
    "plt.imshow(image)"
   ]
  },
  {
   "cell_type": "markdown",
   "metadata": {
    "id": "gTYvsdE2CA5u"
   },
   "source": [
    "## 2.1 Operations on Image Data"
   ]
  },
  {
   "cell_type": "code",
   "execution_count": null,
   "metadata": {
    "colab": {
     "base_uri": "https://localhost:8080/",
     "height": 470
    },
    "id": "KP8e6uQJhHI4",
    "outputId": "e7791151-1936-4c81-f925-8e2eeb98c567"
   },
   "outputs": [],
   "source": [
    "gray_image = rgb2gray(image)\n",
    "plt.imshow(gray_image * 100, cmap='gray')\n",
    "print(\"original img shape: \", image.shape)\n",
    "print(\"grayscale img shape\", gray_image.shape)"
   ]
  },
  {
   "cell_type": "markdown",
   "metadata": {
    "id": "R9rAp-QwCA5u"
   },
   "source": [
    "## 2.2 Convolutions for edge-detecting"
   ]
  },
  {
   "cell_type": "code",
   "execution_count": null,
   "metadata": {
    "colab": {
     "base_uri": "https://localhost:8080/"
    },
    "id": "LSMZkTdJdCLA",
    "outputId": "c1561fa8-8c0b-4dac-a7d3-ba68fa4f71b6"
   },
   "outputs": [],
   "source": [
    "# first, let's define edge-detecting filters\n",
    "horizontal_kernel = np.array([[1, 1, 1],\n",
    "                              [0, 0, 0],\n",
    "                              [-1, -1, -1]])\n",
    "print(horizontal_kernel, 'is a kernel for detecting horizontal edges')\n",
    "\n",
    "vertical_kernel = np.array([[-1, 0, 1],\n",
    "                            [-1, 0, 1],\n",
    "                            [-1, 0, 1]])\n",
    "print(vertical_kernel, 'is a kernel for detecting vertical edges')\n",
    "\n",
    "# out_h = ndimage.convolve(gray_image, sobel_horizontal, mode='reflect')\n",
    "# out_v = ndimage.convolve(gray_image, sobel_vertical, mode='reflect')"
   ]
  },
  {
   "cell_type": "markdown",
   "metadata": {
    "id": "AU4OpcZ6l6Tu"
   },
   "source": [
    "Let's apply different types of convolutions on this image. Complete the following function.\n",
    "\n",
    "Take care of dimensions - the resuting image should be of the same size.\n",
    "Hint:\n",
    "\n",
    "![alt text](https://i.gyazo.com/5265866b07235dfa181de39913e94713.png)\n",
    "\n",
    "**TASK:** Define the convolution method"
   ]
  },
  {
   "cell_type": "code",
   "execution_count": 3,
   "metadata": {
    "colab": {
     "base_uri": "https://localhost:8080/",
     "height": 452
    },
    "id": "1Nsy_UK-jO3h",
    "outputId": "3b77d72d-494e-4ee5-b809-0d2a94084fd3"
   },
   "outputs": [
    {
     "ename": "NameError",
     "evalue": "name 'gray_image' is not defined",
     "output_type": "error",
     "traceback": [
      "\u001b[1;31m---------------------------------------------------------------------------\u001b[0m",
      "\u001b[1;31mNameError\u001b[0m                                 Traceback (most recent call last)",
      "Cell \u001b[1;32mIn[3], line 25\u001b[0m\n\u001b[0;32m     22\u001b[0m     \u001b[38;5;28;01mreturn\u001b[39;00m result\n\u001b[0;32m     24\u001b[0m \u001b[38;5;66;03m# Example usage\u001b[39;00m\n\u001b[1;32m---> 25\u001b[0m c \u001b[38;5;241m=\u001b[39m convolve(\u001b[43mgray_image\u001b[49m, horizontal_kernel)\n\u001b[0;32m     26\u001b[0m \u001b[38;5;28mprint\u001b[39m(\u001b[38;5;124m\"\u001b[39m\u001b[38;5;124mHorizontal kernel applied\u001b[39m\u001b[38;5;124m\"\u001b[39m)\n\u001b[0;32m     27\u001b[0m plt\u001b[38;5;241m.\u001b[39mimshow(c, cmap\u001b[38;5;241m=\u001b[39m\u001b[38;5;124m'\u001b[39m\u001b[38;5;124mgray\u001b[39m\u001b[38;5;124m'\u001b[39m)\n",
      "\u001b[1;31mNameError\u001b[0m: name 'gray_image' is not defined"
     ]
    }
   ],
   "source": [
    "# Apply kernel on input image such that the image size is preserved\n",
    "def convolve(img, kernel):\n",
    "    height, width = img.shape\n",
    "    kernel_size  = kernel.shape[0]\n",
    "\n",
    "    # Ensure the kernel size is odd for symmetrical padding\n",
    "    if (kernel_size  - 1) % 2 != 0:\n",
    "        raise ValueError(\"Invalid kernel size. Kernel size must be odd for proper padding.\")\n",
    "\n",
    "    padding = (kernel_size  - 1) // 2\n",
    "\n",
    "    # Use np.pad for consistent padding, with zero padding on edges\n",
    "    padded_img = np.pad(img, ((padding,)), mode='constant', constant_values=0)\n",
    "\n",
    "    # Initialize the result array\n",
    "    result = [[np.sum(padded_img[i:i+kernel_size, j:j+kernel_size] * kernel) \n",
    "                    for j in range(width)] \n",
    "                    for i in range(height)]\n",
    "\n",
    "    # TODO : Perform convolution by sliding the kernel over the image\n",
    "\n",
    "    return result\n",
    "\n",
    "# Example usage\n",
    "c = convolve(gray_image, horizontal_kernel)\n",
    "print(\"Horizontal kernel applied\")\n",
    "plt.imshow(c, cmap='gray')\n",
    "plt.show()"
   ]
  },
  {
   "cell_type": "code",
   "execution_count": 19,
   "metadata": {
    "colab": {
     "base_uri": "https://localhost:8080/",
     "height": 470
    },
    "id": "Fae1sNb6upVm",
    "outputId": "7245579d-47db-4a7f-c09e-90f3ea3ea209"
   },
   "outputs": [
    {
     "name": "stdout",
     "output_type": "stream",
     "text": [
      "Vertical kernel applied\n"
     ]
    },
    {
     "data": {
      "text/plain": [
       "<matplotlib.image.AxesImage at 0x20ff1376e10>"
      ]
     },
     "execution_count": 19,
     "metadata": {},
     "output_type": "execute_result"
    },
    {
     "data": {
      "image/png": "[encoded data removed]",
      "text/plain": [
       "<Figure size 640x480 with 1 Axes>"
      ]
     },
     "metadata": {},
     "output_type": "display_data"
    }
   ],
   "source": [
    "c = convolve(gray_image, vertical_kernel)\n",
    "print(\"Vertical kernel applied\")\n",
    "plt.imshow(c, cmap='gray')"
   ]
  },
  {
   "cell_type": "code",
   "execution_count": 21,
   "metadata": {
    "colab": {
     "base_uri": "https://localhost:8080/",
     "height": 452
    },
    "id": "Tbldlmjd4V2V",
    "outputId": "6cb72f99-b49b-4c8e-bebd-aefbcc3564bc"
   },
   "outputs": [
    {
     "name": "stdout",
     "output_type": "stream",
     "text": [
      "Your kernel applied\n"
     ]
    },
    {
     "data": {
      "image/png": "[encoded data removed]",
      "text/plain": [
       "<Figure size 640x480 with 1 Axes>"
      ]
     },
     "metadata": {},
     "output_type": "display_data"
    }
   ],
   "source": [
    "# play with numbers, see how changing the kernel affects the result\n",
    "your_kernel = np.array([[-1, -2, -3],\n",
    "                        [0, 0, -2],\n",
    "                        [0, 0, -1]])\n",
    "\n",
    "c = convolve(gray_image, your_kernel)\n",
    "print(\"Your kernel applied\")\n",
    "plt.imshow(c, cmap='gray')\n",
    "\n",
    "some_kernel = np.array([[-1]])"
   ]
  },
  {
   "cell_type": "markdown",
   "metadata": {
    "id": "YcGwL_d__qH6"
   },
   "source": [
    "## 3. CNN with PyTorch\n",
    "\n",
    "### 3.1. Data Loading"
   ]
  },
  {
   "cell_type": "code",
   "execution_count": 23,
   "metadata": {
    "id": "X_PBgoYvBzzw"
   },
   "outputs": [
    {
     "name": "stdout",
     "output_type": "stream",
     "text": [
      "Downloading http://yann.lecun.com/exdb/mnist/train-images-idx3-ubyte.gz\n",
      "Failed to download (trying next):\n",
      "HTTP Error 403: Forbidden\n",
      "\n",
      "Downloading https://ossci-datasets.s3.amazonaws.com/mnist/train-images-idx3-ubyte.gz\n",
      "Downloading https://ossci-datasets.s3.amazonaws.com/mnist/train-images-idx3-ubyte.gz to .\\data\\MNIST\\raw\\train-images-idx3-ubyte.gz\n"
     ]
    },
    {
     "name": "stderr",
     "output_type": "stream",
     "text": [
      "100%|██████████| 9.91M/9.91M [00:04<00:00, 2.00MB/s]\n"
     ]
    },
    {
     "name": "stdout",
     "output_type": "stream",
     "text": [
      "Extracting .\\data\\MNIST\\raw\\train-images-idx3-ubyte.gz to .\\data\\MNIST\\raw\n",
      "\n",
      "Downloading http://yann.lecun.com/exdb/mnist/train-labels-idx1-ubyte.gz\n",
      "Failed to download (trying next):\n",
      "HTTP Error 403: Forbidden\n",
      "\n",
      "Downloading https://ossci-datasets.s3.amazonaws.com/mnist/train-labels-idx1-ubyte.gz\n",
      "Downloading https://ossci-datasets.s3.amazonaws.com/mnist/train-labels-idx1-ubyte.gz to .\\data\\MNIST\\raw\\train-labels-idx1-ubyte.gz\n"
     ]
    },
    {
     "name": "stderr",
     "output_type": "stream",
     "text": [
      "100%|██████████| 28.9k/28.9k [00:00<00:00, 354kB/s]\n"
     ]
    },
    {
     "name": "stdout",
     "output_type": "stream",
     "text": [
      "Extracting .\\data\\MNIST\\raw\\train-labels-idx1-ubyte.gz to .\\data\\MNIST\\raw\n",
      "\n",
      "Downloading http://yann.lecun.com/exdb/mnist/t10k-images-idx3-ubyte.gz\n",
      "Failed to download (trying next):\n",
      "HTTP Error 403: Forbidden\n",
      "\n",
      "Downloading https://ossci-datasets.s3.amazonaws.com/mnist/t10k-images-idx3-ubyte.gz\n",
      "Downloading https://ossci-datasets.s3.amazonaws.com/mnist/t10k-images-idx3-ubyte.gz to .\\data\\MNIST\\raw\\t10k-images-idx3-ubyte.gz\n"
     ]
    },
    {
     "name": "stderr",
     "output_type": "stream",
     "text": [
      "100%|██████████| 1.65M/1.65M [00:01<00:00, 1.41MB/s]\n"
     ]
    },
    {
     "name": "stdout",
     "output_type": "stream",
     "text": [
      "Extracting .\\data\\MNIST\\raw\\t10k-images-idx3-ubyte.gz to .\\data\\MNIST\\raw\n",
      "\n",
      "Downloading http://yann.lecun.com/exdb/mnist/t10k-labels-idx1-ubyte.gz\n",
      "Failed to download (trying next):\n",
      "HTTP Error 403: Forbidden\n",
      "\n",
      "Downloading https://ossci-datasets.s3.amazonaws.com/mnist/t10k-labels-idx1-ubyte.gz\n",
      "Downloading https://ossci-datasets.s3.amazonaws.com/mnist/t10k-labels-idx1-ubyte.gz to .\\data\\MNIST\\raw\\t10k-labels-idx1-ubyte.gz\n"
     ]
    },
    {
     "name": "stderr",
     "output_type": "stream",
     "text": [
      "100%|██████████| 4.54k/4.54k [00:00<00:00, 1.76MB/s]\n"
     ]
    },
    {
     "name": "stdout",
     "output_type": "stream",
     "text": [
      "Extracting .\\data\\MNIST\\raw\\t10k-labels-idx1-ubyte.gz to .\\data\\MNIST\\raw\n",
      "\n",
      "Using device: cpu\n"
     ]
    }
   ],
   "source": [
    "import os\n",
    "import torch\n",
    "import torch.nn as nn\n",
    "import torch.optim as optim\n",
    "from torch.utils.data import DataLoader\n",
    "from torchvision import datasets, transforms\n",
    "\n",
    "# Random seed for reproducibility\n",
    "torch.manual_seed(42)\n",
    "\n",
    "# Device configuration: Use GPU if available, otherwise CPU\n",
    "device = torch.device(\"cuda\" if torch.cuda.is_available() else \"cpu\")\n",
    "\n",
    "# Batch sizes\n",
    "train_batch_size = 32\n",
    "test_batch_size = 100\n",
    "\n",
    "# Data transformations: Normalize with mean and std values for MNIST\n",
    "data_transforms = transforms.Compose([\n",
    "    transforms.ToTensor(),\n",
    "    transforms.Normalize((0.1307,), (0.3081,))  # Normalize with MNIST mean and std\n",
    "])\n",
    "\n",
    "# Define dataset paths\n",
    "data_path = os.path.join(\".\", \"data\")\n",
    "\n",
    "# Load MNIST datasets with transformations\n",
    "train_dataset = datasets.MNIST(root=data_path, train=True, download=True, transform=data_transforms)\n",
    "test_dataset = datasets.MNIST(root=data_path, train=False, download=True, transform=data_transforms)\n",
    "\n",
    "# Data loaders: Shuffle training data, no need to shuffle test data\n",
    "train_loader = DataLoader(dataset=train_dataset, batch_size=train_batch_size, shuffle=True)\n",
    "test_loader = DataLoader(dataset=test_dataset, batch_size=test_batch_size, shuffle=False)\n",
    "\n",
    "# Print device information\n",
    "print(f\"Using device: {device}\")"
   ]
  },
  {
   "cell_type": "markdown",
   "metadata": {
    "id": "iti8UJclCN8f"
   },
   "source": [
    "## 3.2 CNN model\n",
    "\n",
    "**Task:**\n",
    "- Define a CNN model with two convolutional layes, dropout layer and two fully connected layers (one hidden layer + output layer)\n",
    "- Define the forward method in the CNN model where each convolutional layer is followed by a max pooling and each fully connected layer followed by dropout.\n",
    "- Use Relu as activation function for the all hidden layers\n",
    "- Use kernel size = 5 for the convolutional layes"
   ]
  },
  {
   "cell_type": "code",
   "execution_count": 9,
   "metadata": {
    "id": "bH22zyDwCYCf"
   },
   "outputs": [],
   "source": [
    "class CNN(nn.Module):\n",
    "    # Convolution formula: ((n + 2p - f) / s) + 1\n",
    "\n",
    "    def __init__(self):\n",
    "        super(CNN, self).__init__()\n",
    "\n",
    "        # First convolutional layer: input channels = 1 (grayscale), output channels = 10, kernel size = 5\n",
    "        self.conv1 = None # TODO\n",
    "\n",
    "        # Second convolutional layer: input channels = 10, output channels = 20, kernel size = 5\n",
    "        self.conv2 = None # TODO\n",
    "\n",
    "        # Dropout layer for conv layers\n",
    "        self.conv_drop = nn.Dropout2d()\n",
    "\n",
    "        # Fully connected layers\n",
    "        # The input size (??) is dynamically determined in the forward pass\n",
    "        self.fc1 = nn.Linear(in_features=None, out_features=50)  # TODO: To be dynamically calculated\n",
    "        self.fc2 = None   # TODO: 10 output classes for MNIST\n",
    "\n",
    "        # Dropout for fully connected layers\n",
    "        self.fc_drop = nn.Dropout(p=0.5)\n",
    "\n",
    "    def forward(self, x):\n",
    "        # Conv1 -> ReLU -> MaxPool\n",
    "        x = None # TODO\n",
    "        # Calculate the shape after this layer:\n",
    "        # Input: (28x28x1), Output: (?? x ?? x ??), Pooling: (?? x ?? x ??)\n",
    "\n",
    "        # Conv2 -> ReLU -> MaxPool -> Dropout\n",
    "        x = torch.relu(torch.max_pool2d(self.conv_drop(self.conv2(x)), kernel_size=2))\n",
    "        # Input: (?? x ?? x ??), Output: (?? x ?? x ??), Pooling: (?? x ?? x ??)\n",
    "\n",
    "        # Flattening the output to feed into fully connected layers\n",
    "        x = x.view(x.size(0), -1)  # Automatically computes the correct flattening size\n",
    "        # Flattened size: ?? (height * width * channels)\n",
    "\n",
    "        # FC1 -> ReLU -> Dropout\n",
    "        x = torch.relu(self.fc1(x))\n",
    "        x = self.fc_drop(x)\n",
    "\n",
    "        # FC2 -> LogSoftmax for final output\n",
    "        x = self.fc2(x)\n",
    "        return None # TODO\n",
    "\n",
    "# Device configuration: Automatically set to CUDA if available, otherwise CPU\n",
    "device = torch.device(\"cuda\" if torch.cuda.is_available() else \"cpu\")\n",
    "\n",
    "# Model initialization and sending to the device\n",
    "model_cnn = CNN().to(device)"
   ]
  },
  {
   "cell_type": "markdown",
   "metadata": {
    "id": "B7yb8hBpB7Fu"
   },
   "source": [
    "## 2.2 Fully-conected model from the last class\n",
    "\n",
    " TASK: reducing number of params to match that of CNN"
   ]
  },
  {
   "cell_type": "code",
   "execution_count": 10,
   "metadata": {
    "id": "9XrXxSOIB5TH"
   },
   "outputs": [],
   "source": [
    "class Net(nn.Module):\n",
    "    def __init__(self):\n",
    "        super(Net, self).__init__()\n",
    "\n",
    "        # Reduce the number of neurons to match the parameter count of a typical CNN\n",
    "        self.fc1 = nn.Linear(28*28, 256)  # Input layer: 28*28 pixels, reduced to 256\n",
    "        self.fc2 = nn.Linear(256, 128)    # Hidden layer 1: 256 -> 128\n",
    "        self.fc3 = nn.Linear(128, 64)     # Hidden layer 2: 128 -> 64\n",
    "        self.fc4 = nn.Linear(64, 10)      # Output layer: 64 -> 10 (for 10 classes)\n",
    "\n",
    "        # Dropout to prevent overfitting\n",
    "        self.dropout = nn.Dropout(p=0.5)\n",
    "\n",
    "        # Initialize weights using a uniform distribution for better convergence\n",
    "        self._init_weights()\n",
    "\n",
    "    def _init_weights(self):\n",
    "        \"\"\"Custom weight initialization to improve training stability\"\"\"\n",
    "        for m in self.modules():\n",
    "            if isinstance(m, nn.Linear):\n",
    "                nn.init.kaiming_uniform_(m.weight, nonlinearity='relu')\n",
    "                if m.bias is not None:\n",
    "                    nn.init.constant_(m.bias, 0.01)\n",
    "\n",
    "    def forward(self, x):\n",
    "        # Flatten the input tensor (batch_size, 28*28)\n",
    "        x = x.view(-1, 28*28)\n",
    "\n",
    "        # Forward pass through the fully connected layers with ReLU activations\n",
    "        x = torch.relu(self.fc1(x))\n",
    "        x = self.dropout(x)  # Apply dropout after each hidden layer\n",
    "\n",
    "        x = torch.relu(self.fc2(x))\n",
    "        x = self.dropout(x)\n",
    "\n",
    "        x = torch.relu(self.fc3(x))\n",
    "        x = self.dropout(x)\n",
    "\n",
    "        # Output layer (log_softmax for classification)\n",
    "        x = self.fc4(x)\n",
    "        return torch.nn.functional.log_softmax(x, dim=1)\n",
    "\n",
    "# Device configuration: Use GPU if available, otherwise CPU\n",
    "device = torch.device(\"cuda\" if torch.cuda.is_available() else \"cpu\")\n",
    "\n",
    "# Model instantiation and sending to the device\n",
    "model_nn = Net().to(device)\n"
   ]
  },
  {
   "cell_type": "markdown",
   "metadata": {
    "id": "tX_x8jJuCA5x"
   },
   "source": [
    "### Counting number of model trainable parameters"
   ]
  },
  {
   "cell_type": "code",
   "execution_count": 11,
   "metadata": {
    "id": "ZpsM2vS4F26n"
   },
   "outputs": [],
   "source": [
    "def count_parameters(model):\n",
    "    return sum(p.numel() for p in model.parameters() if p.requires_grad)"
   ]
  },
  {
   "cell_type": "code",
   "execution_count": 12,
   "metadata": {
    "colab": {
     "base_uri": "https://localhost:8080/"
    },
    "id": "R1sHQhqFF4Pc",
    "outputId": "e1e98c71-2b06-4f86-face-34f4df542cc4"
   },
   "outputs": [
    {
     "name": "stdout",
     "output_type": "stream",
     "text": [
      "Number of params in the Fully-connected model: 242762\n",
      "Number of params in the CNN model: 21840\n"
     ]
    }
   ],
   "source": [
    "# Let's compare the number of parameters of these models:\n",
    "print(\"Number of params in the Fully-connected model:\", count_parameters(model_nn))\n",
    "print(\"Number of params in the CNN model:\", count_parameters(model_cnn))"
   ]
  },
  {
   "cell_type": "markdown",
   "metadata": {
    "id": "DmFoZVXWfGe3"
   },
   "source": [
    "Task: Try changing the fully-connected model to have the same number of parameters as CNN and compare the resulting performance"
   ]
  },
  {
   "cell_type": "markdown",
   "metadata": {
    "id": "Pry2xqvdDDGO"
   },
   "source": [
    "## 3. Training and testing"
   ]
  },
  {
   "cell_type": "code",
   "execution_count": 13,
   "metadata": {
    "id": "yS3Eo37FDKt3"
   },
   "outputs": [],
   "source": [
    "from tqdm import tqdm  # For progress bar\n",
    "from sklearn.metrics import f1_score\n",
    "\n",
    "def train(model, device, train_loader, optimizer, epoch):\n",
    "    model.train()\n",
    "    total_loss = 0\n",
    "    correct = 0\n",
    "    num_batches = len(train_loader)\n",
    "\n",
    "    # tqdm progress bar for better tracking of batch progress\n",
    "    for batch_idx, (data, target) in enumerate(tqdm(train_loader, desc=f\"Training Epoch {epoch}\")):\n",
    "        data, target = data.to(device), target.to(device)\n",
    "\n",
    "        # TODO: Zero the gradients\n",
    "\n",
    "        # TODO: Forward pass\n",
    "        output = None\n",
    "\n",
    "        # TODO: Calculate loss\n",
    "        loss = None\n",
    "\n",
    "        # TODO: Backward pass\n",
    "\n",
    "        # Accumulate loss for average calculation\n",
    "        total_loss += loss.item()\n",
    "\n",
    "        # Calculate accuracy\n",
    "        pred = output.argmax(dim=1, keepdim=True)\n",
    "        correct += pred.eq(target.view_as(pred)).sum().item()\n",
    "\n",
    "    avg_loss = total_loss / num_batches\n",
    "    accuracy = 100. * correct / len(train_loader.dataset)\n",
    "    print(f'==> Epoch {epoch} Completed: Average Loss: {avg_loss:.6f}\\tAccuracy: {accuracy:.2f}%')\n",
    "\n",
    "\n",
    "def test(model, device, test_loader):\n",
    "    model.eval()\n",
    "    test_loss = 0\n",
    "    correct = 0\n",
    "    all_preds = []  # Store all predictions\n",
    "    all_targets = []  # Store all true labels\n",
    "    with torch.no_grad():\n",
    "        for data, target in tqdm(test_loader, desc=\"Testing\"):\n",
    "            data, target = data.to(device), target.to(device)\n",
    "\n",
    "            # Forward pass (no backprop during evaluation)\n",
    "            output = model(data)\n",
    "            test_loss += torch.nn.functional.nll_loss(output, target, reduction='sum').item()  # Sum up batch loss\n",
    "\n",
    "            # Prediction and accuracy\n",
    "            pred = output.argmax(dim=1, keepdim=True)\n",
    "            correct += pred.eq(target.view_as(pred)).sum().item()\n",
    "\n",
    "            all_preds.extend(pred.cpu().numpy())  # Convert predictions to numpy\n",
    "            all_targets.extend(target.cpu().numpy())  # Convert targets to numpy\n",
    "\n",
    "\n",
    "    # Calculate test f1, accuracy and loss over all batches\n",
    "    test_loss /= len(test_loader.dataset)\n",
    "\n",
    "    f1 = f1_score(all_targets, all_preds, average='weighted')\n",
    "    accuracy = 100. * correct / len(test_loader.dataset)\n",
    "\n",
    "    print('Test set: Average loss: {:.4f}, Accuracy: {}/{} ({:.2f}%), F1-Score {:.2f}\\n'.format(\n",
    "        test_loss, correct, len(test_loader.dataset),\n",
    "        100. * correct / len(test_loader.dataset), f1))\n",
    "\n",
    "\n",
    "    # print(f'Test set: Average loss: {test_loss:.4f}, Accuracy: {correct}/{len(test_loader.dataset)} ({accuracy:.2f}%)')\n",
    "\n",
    "    # Return test loss and accuracy for tracking\n",
    "    return test_loss, accuracy\n"
   ]
  },
  {
   "cell_type": "markdown",
   "metadata": {
    "id": "k3msCvH_CA5x"
   },
   "source": [
    "## Training the CNN model"
   ]
  },
  {
   "cell_type": "code",
   "execution_count": 14,
   "metadata": {
    "colab": {
     "base_uri": "https://localhost:8080/"
    },
    "id": "V_CvS8oBDhL1",
    "outputId": "3a2e5e35-ef4b-4ad9-b407-a756d4af2203"
   },
   "outputs": [
    {
     "name": "stdout",
     "output_type": "stream",
     "text": [
      "\n",
      "Epoch 1/10\n"
     ]
    },
    {
     "name": "stderr",
     "output_type": "stream",
     "text": [
      "Training Epoch 1: 100%|██████████| 1875/1875 [00:27<00:00, 68.70it/s]\n"
     ]
    },
    {
     "name": "stdout",
     "output_type": "stream",
     "text": [
      "==> Epoch 1 Completed: Average Loss: 0.741085\tAccuracy: 75.41%\n"
     ]
    },
    {
     "name": "stderr",
     "output_type": "stream",
     "text": [
      "Testing: 100%|██████████| 100/100 [00:04<00:00, 24.86it/s]\n"
     ]
    },
    {
     "name": "stdout",
     "output_type": "stream",
     "text": [
      "Test set: Average loss: 0.1389, Accuracy: 9572/10000 (95.72%), F1-Score 0.96\n",
      "\n",
      "Best model saved with accuracy: 95.72%\n",
      "\n",
      "Epoch 2/10\n"
     ]
    },
    {
     "name": "stderr",
     "output_type": "stream",
     "text": [
      "Training Epoch 2: 100%|██████████| 1875/1875 [00:23<00:00, 79.80it/s]\n"
     ]
    },
    {
     "name": "stdout",
     "output_type": "stream",
     "text": [
      "==> Epoch 2 Completed: Average Loss: 0.325705\tAccuracy: 90.11%\n"
     ]
    },
    {
     "name": "stderr",
     "output_type": "stream",
     "text": [
      "Testing: 100%|██████████| 100/100 [00:04<00:00, 21.85it/s]\n"
     ]
    },
    {
     "name": "stdout",
     "output_type": "stream",
     "text": [
      "Test set: Average loss: 0.0955, Accuracy: 9688/10000 (96.88%), F1-Score 0.97\n",
      "\n",
      "Best model saved with accuracy: 96.88%\n",
      "\n",
      "Epoch 3/10\n"
     ]
    },
    {
     "name": "stderr",
     "output_type": "stream",
     "text": [
      "Training Epoch 3: 100%|██████████| 1875/1875 [00:25<00:00, 74.38it/s] \n"
     ]
    },
    {
     "name": "stdout",
     "output_type": "stream",
     "text": [
      "==> Epoch 3 Completed: Average Loss: 0.262574\tAccuracy: 92.23%\n"
     ]
    },
    {
     "name": "stderr",
     "output_type": "stream",
     "text": [
      "Testing: 100%|██████████| 100/100 [00:02<00:00, 46.24it/s]\n"
     ]
    },
    {
     "name": "stdout",
     "output_type": "stream",
     "text": [
      "Test set: Average loss: 0.0771, Accuracy: 9766/10000 (97.66%), F1-Score 0.98\n",
      "\n",
      "Best model saved with accuracy: 97.66%\n",
      "\n",
      "Epoch 4/10\n"
     ]
    },
    {
     "name": "stderr",
     "output_type": "stream",
     "text": [
      "Training Epoch 4: 100%|██████████| 1875/1875 [00:17<00:00, 104.30it/s]\n"
     ]
    },
    {
     "name": "stdout",
     "output_type": "stream",
     "text": [
      "==> Epoch 4 Completed: Average Loss: 0.229913\tAccuracy: 93.26%\n"
     ]
    },
    {
     "name": "stderr",
     "output_type": "stream",
     "text": [
      "Testing: 100%|██████████| 100/100 [00:03<00:00, 31.01it/s]\n"
     ]
    },
    {
     "name": "stdout",
     "output_type": "stream",
     "text": [
      "Test set: Average loss: 0.0720, Accuracy: 9772/10000 (97.72%), F1-Score 0.98\n",
      "\n",
      "Best model saved with accuracy: 97.72%\n",
      "\n",
      "Epoch 5/10\n"
     ]
    },
    {
     "name": "stderr",
     "output_type": "stream",
     "text": [
      "Training Epoch 5: 100%|██████████| 1875/1875 [00:18<00:00, 101.31it/s]\n"
     ]
    },
    {
     "name": "stdout",
     "output_type": "stream",
     "text": [
      "==> Epoch 5 Completed: Average Loss: 0.202019\tAccuracy: 93.96%\n"
     ]
    },
    {
     "name": "stderr",
     "output_type": "stream",
     "text": [
      "Testing: 100%|██████████| 100/100 [00:02<00:00, 46.62it/s]\n"
     ]
    },
    {
     "name": "stdout",
     "output_type": "stream",
     "text": [
      "Test set: Average loss: 0.0631, Accuracy: 9810/10000 (98.10%), F1-Score 0.98\n",
      "\n",
      "Best model saved with accuracy: 98.10%\n",
      "\n",
      "Epoch 6/10\n"
     ]
    },
    {
     "name": "stderr",
     "output_type": "stream",
     "text": [
      "Training Epoch 6: 100%|██████████| 1875/1875 [00:18<00:00, 100.97it/s]\n"
     ]
    },
    {
     "name": "stdout",
     "output_type": "stream",
     "text": [
      "==> Epoch 6 Completed: Average Loss: 0.178291\tAccuracy: 94.88%\n"
     ]
    },
    {
     "name": "stderr",
     "output_type": "stream",
     "text": [
      "Testing: 100%|██████████| 100/100 [00:02<00:00, 47.25it/s]\n"
     ]
    },
    {
     "name": "stdout",
     "output_type": "stream",
     "text": [
      "Test set: Average loss: 0.0541, Accuracy: 9842/10000 (98.42%), F1-Score 0.98\n",
      "\n",
      "Best model saved with accuracy: 98.42%\n",
      "\n",
      "Epoch 7/10\n"
     ]
    },
    {
     "name": "stderr",
     "output_type": "stream",
     "text": [
      "Training Epoch 7: 100%|██████████| 1875/1875 [00:17<00:00, 104.56it/s]\n"
     ]
    },
    {
     "name": "stdout",
     "output_type": "stream",
     "text": [
      "==> Epoch 7 Completed: Average Loss: 0.166958\tAccuracy: 95.13%\n"
     ]
    },
    {
     "name": "stderr",
     "output_type": "stream",
     "text": [
      "Testing: 100%|██████████| 100/100 [00:02<00:00, 43.42it/s]\n"
     ]
    },
    {
     "name": "stdout",
     "output_type": "stream",
     "text": [
      "Test set: Average loss: 0.0541, Accuracy: 9827/10000 (98.27%), F1-Score 0.98\n",
      "\n",
      "\n",
      "Epoch 8/10\n"
     ]
    },
    {
     "name": "stderr",
     "output_type": "stream",
     "text": [
      "Training Epoch 8: 100%|██████████| 1875/1875 [00:18<00:00, 102.45it/s]\n"
     ]
    },
    {
     "name": "stdout",
     "output_type": "stream",
     "text": [
      "==> Epoch 8 Completed: Average Loss: 0.163453\tAccuracy: 95.34%\n"
     ]
    },
    {
     "name": "stderr",
     "output_type": "stream",
     "text": [
      "Testing: 100%|██████████| 100/100 [00:02<00:00, 44.95it/s]\n"
     ]
    },
    {
     "name": "stdout",
     "output_type": "stream",
     "text": [
      "Test set: Average loss: 0.0522, Accuracy: 9839/10000 (98.39%), F1-Score 0.98\n",
      "\n",
      "\n",
      "Epoch 9/10\n"
     ]
    },
    {
     "name": "stderr",
     "output_type": "stream",
     "text": [
      "Training Epoch 9: 100%|██████████| 1875/1875 [00:30<00:00, 60.86it/s]\n"
     ]
    },
    {
     "name": "stdout",
     "output_type": "stream",
     "text": [
      "==> Epoch 9 Completed: Average Loss: 0.161855\tAccuracy: 95.39%\n"
     ]
    },
    {
     "name": "stderr",
     "output_type": "stream",
     "text": [
      "Testing: 100%|██████████| 100/100 [00:02<00:00, 33.52it/s]\n"
     ]
    },
    {
     "name": "stdout",
     "output_type": "stream",
     "text": [
      "Test set: Average loss: 0.0516, Accuracy: 9841/10000 (98.41%), F1-Score 0.98\n",
      "\n",
      "Early stopping at epoch 9 due to no improvement in test accuracy.\n",
      "Training complete. Model saved as 'final_mnist_cnn.pt'.\n"
     ]
    }
   ],
   "source": [
    "from torch.optim.lr_scheduler import StepLR  # Scheduler for learning rate\n",
    "\n",
    "# Hyperparameters\n",
    "epochs = 10\n",
    "lr = 0.01\n",
    "momentum = 0.5\n",
    "patience = 3  # Early stopping patience (Optional)\n",
    "\n",
    "# Model and optimizer\n",
    "model = model_cnn.to(device)\n",
    "optimizer = optim.SGD(model.parameters(), lr=lr, momentum=momentum)\n",
    "\n",
    "# Optional: Learning rate scheduler (reduces the learning rate by a factor of 0.1 every 5 epochs)\n",
    "scheduler = StepLR(optimizer, step_size=5, gamma=0.1)\n",
    "\n",
    "# Training loop\n",
    "best_accuracy = 0\n",
    "early_stop_counter = 0\n",
    "\n",
    "for epoch in range(1, epochs + 1):\n",
    "    print(f\"\\nEpoch {epoch}/{epochs}\")\n",
    "\n",
    "    # Training phase\n",
    "    train(model, device, train_loader, optimizer, epoch)\n",
    "\n",
    "    # Testing phase and result unpacking\n",
    "    test_loss, test_accuracy = test(model, device, test_loader)\n",
    "\n",
    "    # Save best model based on test accuracy\n",
    "    if test_accuracy > best_accuracy:\n",
    "        best_accuracy = test_accuracy\n",
    "        torch.save(model.state_dict(), \"best_mnist_cnn.pt\")\n",
    "        print(f\"Best model saved with accuracy: {best_accuracy:.2f}%\")\n",
    "        early_stop_counter = 0  # Reset early stop counter if model improves\n",
    "    else:\n",
    "        early_stop_counter += 1\n",
    "\n",
    "    # Early stopping (Optional)\n",
    "    if early_stop_counter >= patience:\n",
    "        print(f\"Early stopping at epoch {epoch} due to no improvement in test accuracy.\")\n",
    "        break\n",
    "\n",
    "    # Step the scheduler (if using a learning rate scheduler)\n",
    "    scheduler.step()\n",
    "\n",
    "# Final model save (optional)\n",
    "torch.save(model.state_dict(), \"final_mnist_cnn.pt\")\n",
    "print(\"Training complete. Model saved as 'final_mnist_cnn.pt'.\")\n"
   ]
  },
  {
   "cell_type": "markdown",
   "metadata": {
    "id": "8ri2W2uGCA5y"
   },
   "source": [
    "## Train the fully-connected model"
   ]
  },
  {
   "cell_type": "code",
   "execution_count": 16,
   "metadata": {
    "colab": {
     "base_uri": "https://localhost:8080/"
    },
    "id": "kXoTTKDcCA5y",
    "outputId": "591c1c50-baab-4ef4-c019-da5697a7ef7e"
   },
   "outputs": [
    {
     "name": "stdout",
     "output_type": "stream",
     "text": [
      "\n",
      "Epoch 1/10\n"
     ]
    },
    {
     "name": "stderr",
     "output_type": "stream",
     "text": [
      "Training Epoch 1: 100%|██████████| 1875/1875 [00:17<00:00, 105.47it/s]\n"
     ]
    },
    {
     "name": "stdout",
     "output_type": "stream",
     "text": [
      "==> Epoch 1 Completed: Average Loss: 1.034104\tAccuracy: 66.31%\n"
     ]
    },
    {
     "name": "stderr",
     "output_type": "stream",
     "text": [
      "Testing: 100%|██████████| 100/100 [00:02<00:00, 48.56it/s]\n"
     ]
    },
    {
     "name": "stdout",
     "output_type": "stream",
     "text": [
      "Test set: Average loss: 0.3084, Accuracy: 9162/10000 (91.62%), F1-Score 0.92\n",
      "\n",
      "Best model saved with accuracy: 91.62%\n",
      "\n",
      "Epoch 2/10\n"
     ]
    },
    {
     "name": "stderr",
     "output_type": "stream",
     "text": [
      "Training Epoch 2: 100%|██████████| 1875/1875 [00:17<00:00, 109.96it/s]\n"
     ]
    },
    {
     "name": "stdout",
     "output_type": "stream",
     "text": [
      "==> Epoch 2 Completed: Average Loss: 0.529107\tAccuracy: 85.05%\n"
     ]
    },
    {
     "name": "stderr",
     "output_type": "stream",
     "text": [
      "Testing: 100%|██████████| 100/100 [00:02<00:00, 47.88it/s]\n"
     ]
    },
    {
     "name": "stdout",
     "output_type": "stream",
     "text": [
      "Test set: Average loss: 0.2254, Accuracy: 9387/10000 (93.87%), F1-Score 0.94\n",
      "\n",
      "Best model saved with accuracy: 93.87%\n",
      "\n",
      "Epoch 3/10\n"
     ]
    },
    {
     "name": "stderr",
     "output_type": "stream",
     "text": [
      "Training Epoch 3: 100%|██████████| 1875/1875 [00:17<00:00, 105.28it/s]\n"
     ]
    },
    {
     "name": "stdout",
     "output_type": "stream",
     "text": [
      "==> Epoch 3 Completed: Average Loss: 0.417668\tAccuracy: 88.86%\n"
     ]
    },
    {
     "name": "stderr",
     "output_type": "stream",
     "text": [
      "Testing: 100%|██████████| 100/100 [00:02<00:00, 48.34it/s]\n"
     ]
    },
    {
     "name": "stdout",
     "output_type": "stream",
     "text": [
      "Test set: Average loss: 0.1998, Accuracy: 9462/10000 (94.62%), F1-Score 0.95\n",
      "\n",
      "Best model saved with accuracy: 94.62%\n",
      "\n",
      "Epoch 4/10\n"
     ]
    },
    {
     "name": "stderr",
     "output_type": "stream",
     "text": [
      "Training Epoch 4: 100%|██████████| 1875/1875 [00:16<00:00, 111.05it/s]\n"
     ]
    },
    {
     "name": "stdout",
     "output_type": "stream",
     "text": [
      "==> Epoch 4 Completed: Average Loss: 0.358395\tAccuracy: 90.42%\n"
     ]
    },
    {
     "name": "stderr",
     "output_type": "stream",
     "text": [
      "Testing: 100%|██████████| 100/100 [00:02<00:00, 48.42it/s]\n"
     ]
    },
    {
     "name": "stdout",
     "output_type": "stream",
     "text": [
      "Test set: Average loss: 0.1729, Accuracy: 9513/10000 (95.13%), F1-Score 0.95\n",
      "\n",
      "Best model saved with accuracy: 95.13%\n",
      "\n",
      "Epoch 5/10\n"
     ]
    },
    {
     "name": "stderr",
     "output_type": "stream",
     "text": [
      "Training Epoch 5: 100%|██████████| 1875/1875 [00:18<00:00, 101.10it/s]\n"
     ]
    },
    {
     "name": "stdout",
     "output_type": "stream",
     "text": [
      "==> Epoch 5 Completed: Average Loss: 0.320517\tAccuracy: 91.71%\n"
     ]
    },
    {
     "name": "stderr",
     "output_type": "stream",
     "text": [
      "Testing: 100%|██████████| 100/100 [00:02<00:00, 48.22it/s]\n"
     ]
    },
    {
     "name": "stdout",
     "output_type": "stream",
     "text": [
      "Test set: Average loss: 0.1635, Accuracy: 9552/10000 (95.52%), F1-Score 0.96\n",
      "\n",
      "Best model saved with accuracy: 95.52%\n",
      "\n",
      "Epoch 6/10\n"
     ]
    },
    {
     "name": "stderr",
     "output_type": "stream",
     "text": [
      "Training Epoch 6: 100%|██████████| 1875/1875 [00:17<00:00, 106.34it/s]\n"
     ]
    },
    {
     "name": "stdout",
     "output_type": "stream",
     "text": [
      "==> Epoch 6 Completed: Average Loss: 0.287119\tAccuracy: 92.50%\n"
     ]
    },
    {
     "name": "stderr",
     "output_type": "stream",
     "text": [
      "Testing: 100%|██████████| 100/100 [00:02<00:00, 35.77it/s]\n"
     ]
    },
    {
     "name": "stdout",
     "output_type": "stream",
     "text": [
      "Test set: Average loss: 0.1538, Accuracy: 9576/10000 (95.76%), F1-Score 0.96\n",
      "\n",
      "Best model saved with accuracy: 95.76%\n",
      "\n",
      "Epoch 7/10\n"
     ]
    },
    {
     "name": "stderr",
     "output_type": "stream",
     "text": [
      "Training Epoch 7: 100%|██████████| 1875/1875 [00:18<00:00, 103.67it/s]\n"
     ]
    },
    {
     "name": "stdout",
     "output_type": "stream",
     "text": [
      "==> Epoch 7 Completed: Average Loss: 0.274718\tAccuracy: 92.91%\n"
     ]
    },
    {
     "name": "stderr",
     "output_type": "stream",
     "text": [
      "Testing: 100%|██████████| 100/100 [00:02<00:00, 39.91it/s]\n"
     ]
    },
    {
     "name": "stdout",
     "output_type": "stream",
     "text": [
      "Test set: Average loss: 0.1504, Accuracy: 9587/10000 (95.87%), F1-Score 0.96\n",
      "\n",
      "Best model saved with accuracy: 95.87%\n",
      "\n",
      "Epoch 8/10\n"
     ]
    },
    {
     "name": "stderr",
     "output_type": "stream",
     "text": [
      "Training Epoch 8: 100%|██████████| 1875/1875 [00:17<00:00, 107.65it/s]\n"
     ]
    },
    {
     "name": "stdout",
     "output_type": "stream",
     "text": [
      "==> Epoch 8 Completed: Average Loss: 0.264100\tAccuracy: 93.10%\n"
     ]
    },
    {
     "name": "stderr",
     "output_type": "stream",
     "text": [
      "Testing: 100%|██████████| 100/100 [00:02<00:00, 40.51it/s]\n"
     ]
    },
    {
     "name": "stdout",
     "output_type": "stream",
     "text": [
      "Test set: Average loss: 0.1489, Accuracy: 9591/10000 (95.91%), F1-Score 0.96\n",
      "\n",
      "Best model saved with accuracy: 95.91%\n",
      "\n",
      "Epoch 9/10\n"
     ]
    },
    {
     "name": "stderr",
     "output_type": "stream",
     "text": [
      "Training Epoch 9: 100%|██████████| 1875/1875 [00:16<00:00, 110.71it/s]\n"
     ]
    },
    {
     "name": "stdout",
     "output_type": "stream",
     "text": [
      "==> Epoch 9 Completed: Average Loss: 0.260221\tAccuracy: 93.15%\n"
     ]
    },
    {
     "name": "stderr",
     "output_type": "stream",
     "text": [
      "Testing: 100%|██████████| 100/100 [00:02<00:00, 49.31it/s]\n"
     ]
    },
    {
     "name": "stdout",
     "output_type": "stream",
     "text": [
      "Test set: Average loss: 0.1467, Accuracy: 9598/10000 (95.98%), F1-Score 0.96\n",
      "\n",
      "Best model saved with accuracy: 95.98%\n",
      "\n",
      "Epoch 10/10\n"
     ]
    },
    {
     "name": "stderr",
     "output_type": "stream",
     "text": [
      "Training Epoch 10: 100%|██████████| 1875/1875 [00:17<00:00, 106.75it/s]\n"
     ]
    },
    {
     "name": "stdout",
     "output_type": "stream",
     "text": [
      "==> Epoch 10 Completed: Average Loss: 0.260078\tAccuracy: 93.26%\n"
     ]
    },
    {
     "name": "stderr",
     "output_type": "stream",
     "text": [
      "Testing: 100%|██████████| 100/100 [00:02<00:00, 46.44it/s]\n"
     ]
    },
    {
     "name": "stdout",
     "output_type": "stream",
     "text": [
      "Test set: Average loss: 0.1455, Accuracy: 9599/10000 (95.99%), F1-Score 0.96\n",
      "\n",
      "Best model saved with accuracy: 95.99%\n",
      "Training complete. Final model saved as 'final_mnist_nn.pt'.\n"
     ]
    }
   ],
   "source": [
    "# Model and optimizer setup\n",
    "model = model_nn.to(device)\n",
    "optimizer = optim.SGD(model.parameters(), lr=lr, momentum=momentum)\n",
    "\n",
    "# Optional: Learning rate scheduler (reduces LR every 5 epochs)\n",
    "scheduler = StepLR(optimizer, step_size=5, gamma=0.1)\n",
    "\n",
    "# Initialize parameters\n",
    "best_accuracy = 0.0\n",
    "early_stop_counter = 0\n",
    "patience = 3  # Early stopping patience\n",
    "\n",
    "for epoch in range(1, epochs + 1):\n",
    "    print(f\"\\nEpoch {epoch}/{epochs}\")\n",
    "\n",
    "    # Training phase\n",
    "    train(model, device, train_loader, optimizer, epoch)\n",
    "\n",
    "    # Testing phase and result unpacking\n",
    "    test_loss, test_accuracy = test(model, device, test_loader)\n",
    "\n",
    "    # Save the best model based on test accuracy\n",
    "    if test_accuracy > best_accuracy:\n",
    "        best_accuracy = test_accuracy\n",
    "        torch.save(model.state_dict(), \"best_mnist_nn.pt\")\n",
    "        print(f\"Best model saved with accuracy: {best_accuracy:.2f}%\")\n",
    "        early_stop_counter = 0  # Reset the early stopping counter\n",
    "    else:\n",
    "        early_stop_counter += 1\n",
    "\n",
    "    # Early stopping mechanism\n",
    "    if early_stop_counter >= patience:\n",
    "        print(f\"Early stopping at epoch {epoch} due to no improvement in test accuracy.\")\n",
    "        break\n",
    "\n",
    "    # Step the scheduler (if using one)\n",
    "    scheduler.step()\n",
    "\n",
    "# Save the final model (optional)\n",
    "torch.save(model.state_dict(), \"final_mnist_nn.pt\")\n",
    "print(\"Training complete. Final model saved as 'final_mnist_nn.pt'.\")\n"
   ]
  },
  {
   "cell_type": "markdown",
   "metadata": {
    "id": "BidaQLPBCA5y"
   },
   "source": [
    "## Self-Practice Task: Train a CNN on the Caltech 256 Dataset\n",
    "\n",
    "**Objective**:\n",
    "Build, train, and evaluate a CNN model to classify images in the Caltech 256 dataset. You'll:\n",
    "\n",
    "1. Load and split the dataset into train, validation, and test sets.\n",
    "2. Define and train a CNN architecture of your choice, and log the performance.\n",
    "3. Use a pretrained model (e.g., VGG16) for the same task and compare it with your custom CNN based on accuracy and number of parameters."
   ]
  },
  {
   "cell_type": "markdown",
   "metadata": {
    "id": "1sDRJVRSJXiL"
   },
   "source": [
    "### Use a Pretrained Model (VGG16)"
   ]
  },
  {
   "cell_type": "code",
   "execution_count": 3,
   "metadata": {},
   "outputs": [
    {
     "name": "stdout",
     "output_type": "stream",
     "text": [
      "Collecting gdown\n",
      "  Downloading gdown-5.2.0-py3-none-any.whl.metadata (5.8 kB)\n",
      "Requirement already satisfied: beautifulsoup4 in e:\\anaconda\\envs\\myenv\\lib\\site-packages (from gdown) (4.12.3)\n",
      "Requirement already satisfied: filelock in e:\\anaconda\\envs\\myenv\\lib\\site-packages (from gdown) (3.13.1)\n",
      "Requirement already satisfied: requests[socks] in e:\\anaconda\\envs\\myenv\\lib\\site-packages (from gdown) (2.32.3)\n",
      "Requirement already satisfied: tqdm in e:\\anaconda\\envs\\myenv\\lib\\site-packages (from gdown) (4.66.5)\n",
      "Requirement already satisfied: soupsieve>1.2 in e:\\anaconda\\envs\\myenv\\lib\\site-packages (from beautifulsoup4->gdown) (2.5)\n",
      "Requirement already satisfied: charset-normalizer<4,>=2 in e:\\anaconda\\envs\\myenv\\lib\\site-packages (from requests[socks]->gdown) (3.3.2)\n",
      "Requirement already satisfied: idna<4,>=2.5 in e:\\anaconda\\envs\\myenv\\lib\\site-packages (from requests[socks]->gdown) (3.7)\n",
      "Requirement already satisfied: urllib3<3,>=1.21.1 in e:\\anaconda\\envs\\myenv\\lib\\site-packages (from requests[socks]->gdown) (2.2.3)\n",
      "Requirement already satisfied: certifi>=2017.4.17 in e:\\anaconda\\envs\\myenv\\lib\\site-packages (from requests[socks]->gdown) (2024.8.30)\n",
      "Requirement already satisfied: PySocks!=1.5.7,>=1.5.6 in e:\\anaconda\\envs\\myenv\\lib\\site-packages (from requests[socks]->gdown) (1.7.1)\n",
      "Requirement already satisfied: colorama in c:\\users\\user\\appdata\\roaming\\python\\python310\\site-packages (from tqdm->gdown) (0.4.6)\n",
      "Downloading gdown-5.2.0-py3-none-any.whl (18 kB)\n",
      "Installing collected packages: gdown\n",
      "Successfully installed gdown-5.2.0\n"
     ]
    }
   ],
   "source": [
    "!pip install gdown"
   ]
  },
  {
   "cell_type": "code",
   "execution_count": 5,
   "metadata": {
    "id": "ZITD3N7GJUj9"
   },
   "outputs": [
    {
     "name": "stderr",
     "output_type": "stream",
     "text": [
      " 14%|█▍        | 165M/1.18G [01:40<05:19, 3.19MB/s]Downloading...\n",
      "From (original): https://drive.google.com/uc?id=1r6o0pSROcV1_VwT4oSjA2FBUSCWGuxLK\n",
      "From (redirected): https://drive.usercontent.google.com/download?id=1r6o0pSROcV1_VwT4oSjA2FBUSCWGuxLK&confirm=t&uuid=4ea696fb-eee9-451c-b853-1880f2bd1c20\n",
      "To: C:\\Users\\User\\Desktop\\Innopolis\\Machine Learning\\CNN\\data\\caltech256\\256_ObjectCategories.tar\n",
      "\n",
      "  0%|          | 0.00/1.18G [00:00<?, ?B/s]\u001b[A\n",
      "  0%|          | 524k/1.18G [00:00<10:28, 1.88MB/s]\u001b[A\n",
      "  0%|          | 1.05M/1.18G [00:00<11:09, 1.77MB/s]\u001b[A\n",
      "  0%|          | 1.57M/1.18G [00:00<08:43, 2.26MB/s]\u001b[A\n",
      "  0%|          | 2.62M/1.18G [00:01<06:36, 2.98MB/s]\u001b[A\n",
      "  0%|          | 3.15M/1.18G [00:01<05:53, 3.34MB/s]\u001b[A\n",
      "  0%|          | 3.67M/1.18G [00:01<06:08, 3.20MB/s]\u001b[A\n",
      "  0%|          | 4.19M/1.18G [00:01<06:49, 2.88MB/s]\u001b[A\n",
      "  0%|          | 4.72M/1.18G [00:01<05:55, 3.31MB/s]\u001b[A\n",
      "  0%|          | 5.24M/1.18G [00:01<06:04, 3.23MB/s]\u001b[A\n",
      "  1%|          | 6.29M/1.18G [00:02<06:07, 3.20MB/s]\u001b[A\n",
      "  1%|          | 7.34M/1.18G [00:02<07:27, 2.63MB/s]\u001b[A\n",
      "  1%|          | 8.39M/1.18G [00:02<06:13, 3.14MB/s]\u001b[A\n",
      "  1%|          | 8.91M/1.18G [00:03<06:02, 3.24MB/s]\u001b[A\n",
      "  1%|          | 9.44M/1.18G [00:03<05:54, 3.31MB/s]\u001b[A\n",
      "  1%|          | 9.96M/1.18G [00:03<05:50, 3.35MB/s]\u001b[A\n",
      "  1%|          | 10.5M/1.18G [00:03<05:46, 3.38MB/s]\u001b[A\n",
      "  1%|          | 11.0M/1.18G [00:03<05:43, 3.42MB/s]\u001b[A\n",
      "  1%|          | 11.5M/1.18G [00:03<06:10, 3.16MB/s]\u001b[A\n",
      "  1%|          | 12.1M/1.18G [00:03<05:35, 3.49MB/s]\u001b[A\n",
      "  1%|          | 12.6M/1.18G [00:04<05:48, 3.35MB/s]\u001b[A\n",
      "  1%|          | 13.1M/1.18G [00:04<05:26, 3.58MB/s]\u001b[A\n",
      "  1%|          | 13.6M/1.18G [00:04<06:12, 3.14MB/s]\u001b[A\n",
      "  1%|          | 14.2M/1.18G [00:04<05:36, 3.47MB/s]\u001b[A\n",
      "  1%|          | 14.7M/1.18G [00:04<05:54, 3.29MB/s]\u001b[A\n",
      "  1%|▏         | 15.2M/1.18G [00:04<05:26, 3.58MB/s]\u001b[A\n",
      "  1%|▏         | 16.3M/1.18G [00:05<05:36, 3.47MB/s]\u001b[A\n",
      "  1%|▏         | 17.3M/1.18G [00:05<04:25, 4.39MB/s]\u001b[A\n",
      "  2%|▏         | 18.4M/1.18G [00:05<03:44, 5.19MB/s]\u001b[A\n",
      "  2%|▏         | 19.4M/1.18G [00:05<03:23, 5.73MB/s]\u001b[A\n",
      "  2%|▏         | 20.4M/1.18G [00:05<03:36, 5.36MB/s]\u001b[A\n",
      "  2%|▏         | 21.5M/1.18G [00:05<03:13, 6.02MB/s]\u001b[A\n",
      "  2%|▏         | 22.5M/1.18G [00:06<03:03, 6.32MB/s]\u001b[A\n",
      "  2%|▏         | 23.6M/1.18G [00:06<02:56, 6.58MB/s]\u001b[A\n",
      "  2%|▏         | 24.6M/1.18G [00:06<02:50, 6.81MB/s]\u001b[A\n",
      "  2%|▏         | 25.7M/1.18G [00:06<03:17, 5.86MB/s]\u001b[A\n",
      "  2%|▏         | 26.7M/1.18G [00:06<02:56, 6.55MB/s]\u001b[A\n",
      "  2%|▏         | 27.8M/1.18G [00:06<02:46, 6.95MB/s]\u001b[A\n",
      "  2%|▏         | 28.8M/1.18G [00:07<04:06, 4.68MB/s]\u001b[A\n",
      "  3%|▎         | 29.9M/1.18G [00:07<03:59, 4.82MB/s]\u001b[A\n",
      "  3%|▎         | 30.9M/1.18G [00:07<04:09, 4.61MB/s]\u001b[A\n",
      "  3%|▎         | 32.0M/1.18G [00:07<03:56, 4.87MB/s]\u001b[A\n",
      "  3%|▎         | 33.0M/1.18G [00:08<03:59, 4.80MB/s]\u001b[A\n",
      "  3%|▎         | 33.6M/1.18G [00:08<03:58, 4.82MB/s]\u001b[A\n",
      "  3%|▎         | 34.1M/1.18G [00:08<04:27, 4.30MB/s]\u001b[A\n",
      "  3%|▎         | 35.1M/1.18G [00:08<04:06, 4.66MB/s]\u001b[A\n",
      "  3%|▎         | 35.7M/1.18G [00:08<04:16, 4.47MB/s]\u001b[A\n",
      "  3%|▎         | 36.2M/1.18G [00:08<04:32, 4.21MB/s]\u001b[A\n",
      "  3%|▎         | 37.2M/1.18G [00:09<04:07, 4.63MB/s]\u001b[A\n",
      "  3%|▎         | 37.7M/1.18G [00:09<04:25, 4.32MB/s]\u001b[A\n",
      "  3%|▎         | 38.3M/1.18G [00:09<05:32, 3.45MB/s]\u001b[A\n",
      "  3%|▎         | 39.3M/1.18G [00:09<05:23, 3.54MB/s]\u001b[A\n",
      "  3%|▎         | 40.4M/1.18G [00:10<05:59, 3.18MB/s]\u001b[A\n",
      "  4%|▎         | 41.4M/1.18G [00:10<04:52, 3.90MB/s]\u001b[A\n",
      "  4%|▎         | 42.5M/1.18G [00:10<06:14, 3.04MB/s]\u001b[A\n",
      "  4%|▎         | 44.0M/1.18G [00:11<04:51, 3.91MB/s]\u001b[A\n",
      "  4%|▍         | 44.6M/1.18G [00:11<04:55, 3.86MB/s]\u001b[A\n",
      "  4%|▍         | 45.6M/1.18G [00:11<04:15, 4.46MB/s]\u001b[A\n",
      "  4%|▍         | 46.7M/1.18G [00:11<03:54, 4.85MB/s]\u001b[A\n",
      "  4%|▍         | 47.7M/1.18G [00:11<04:02, 4.68MB/s]\u001b[A\n",
      "  4%|▍         | 48.8M/1.18G [00:11<03:29, 5.40MB/s]\u001b[A\n",
      "  4%|▍         | 49.8M/1.18G [00:12<03:33, 5.31MB/s]\u001b[A\n",
      "  4%|▍         | 50.9M/1.18G [00:12<03:12, 5.89MB/s]\u001b[A\n",
      "  4%|▍         | 51.9M/1.18G [00:12<03:22, 5.58MB/s]\u001b[A\n",
      "  4%|▍         | 53.0M/1.18G [00:12<03:04, 6.13MB/s]\u001b[A\n",
      "  5%|▍         | 54.0M/1.18G [00:12<03:00, 6.27MB/s]\u001b[A\n",
      "  5%|▍         | 55.1M/1.18G [00:12<03:17, 5.71MB/s]\u001b[A\n",
      "  5%|▍         | 56.1M/1.18G [00:13<02:52, 6.54MB/s]\u001b[A\n",
      "  5%|▍         | 57.1M/1.18G [00:13<02:49, 6.63MB/s]\u001b[A\n",
      "  5%|▍         | 58.2M/1.18G [00:13<02:46, 6.76MB/s]\u001b[A\n",
      "  5%|▌         | 59.2M/1.18G [00:13<02:45, 6.77MB/s]\u001b[A\n",
      "  5%|▌         | 60.3M/1.18G [00:13<02:44, 6.81MB/s]\u001b[A\n",
      "  5%|▌         | 61.3M/1.18G [00:13<03:11, 5.84MB/s]\u001b[A\n",
      "  5%|▌         | 62.4M/1.18G [00:13<02:51, 6.54MB/s]\u001b[A\n",
      "  5%|▌         | 63.4M/1.18G [00:14<02:40, 6.96MB/s]\u001b[A\n",
      "  5%|▌         | 64.5M/1.18G [00:14<03:00, 6.18MB/s]\u001b[A\n",
      "  6%|▌         | 65.5M/1.18G [00:14<02:40, 6.96MB/s]\u001b[A\n",
      "  6%|▌         | 66.6M/1.18G [00:14<02:42, 6.87MB/s]\u001b[A\n",
      "  6%|▌         | 67.6M/1.18G [00:14<02:42, 6.88MB/s]\u001b[A\n",
      "  6%|▌         | 68.7M/1.18G [00:14<02:33, 7.25MB/s]\u001b[A\n",
      "  6%|▌         | 69.7M/1.18G [00:15<02:35, 7.16MB/s]\u001b[A\n",
      "  6%|▌         | 70.8M/1.18G [00:15<03:48, 4.86MB/s]\u001b[A\n",
      "  6%|▌         | 71.8M/1.18G [00:15<03:13, 5.73MB/s]\u001b[A\n",
      "  6%|▌         | 72.9M/1.18G [00:15<03:08, 5.90MB/s]\u001b[A\n",
      "  6%|▌         | 73.9M/1.18G [00:15<03:29, 5.29MB/s]\u001b[A\n",
      "  6%|▋         | 75.0M/1.18G [00:16<03:11, 5.79MB/s]\u001b[A\n",
      "  6%|▋         | 76.0M/1.18G [00:16<02:58, 6.20MB/s]\u001b[A\n",
      "  7%|▋         | 77.1M/1.18G [00:16<02:55, 6.30MB/s]\u001b[A\n",
      "  7%|▋         | 78.1M/1.18G [00:16<03:32, 5.20MB/s]\u001b[A\n",
      "  7%|▋         | 79.2M/1.18G [00:16<03:42, 4.95MB/s]\u001b[A\n",
      "  7%|▋         | 80.2M/1.18G [00:17<03:40, 5.00MB/s]\u001b[A\n",
      "  7%|▋         | 81.3M/1.18G [00:17<04:37, 3.97MB/s]\u001b[A\n",
      "  7%|▋         | 81.8M/1.18G [00:17<04:48, 3.82MB/s]\u001b[A\n",
      "  7%|▋         | 82.8M/1.18G [00:17<04:12, 4.36MB/s]\u001b[A\n",
      "  7%|▋         | 83.4M/1.18G [00:17<04:14, 4.32MB/s]\u001b[A\n",
      "  7%|▋         | 84.4M/1.18G [00:18<03:41, 4.96MB/s]\u001b[A\n",
      "  7%|▋         | 84.9M/1.18G [00:18<04:04, 4.49MB/s]\u001b[A\n",
      "  7%|▋         | 85.5M/1.18G [00:18<04:23, 4.17MB/s]\u001b[A\n",
      "  7%|▋         | 86.0M/1.18G [00:18<04:44, 3.86MB/s]\u001b[A\n",
      "  7%|▋         | 86.5M/1.18G [00:18<04:57, 3.68MB/s]\u001b[A\n",
      "  7%|▋         | 87.6M/1.18G [00:18<03:53, 4.68MB/s]\u001b[A\n",
      "  7%|▋         | 88.6M/1.18G [00:18<03:13, 5.65MB/s]\u001b[A\n",
      "  8%|▊         | 89.7M/1.18G [00:19<02:57, 6.16MB/s]\u001b[A\n",
      "  8%|▊         | 90.7M/1.18G [00:19<02:47, 6.52MB/s]\u001b[A\n",
      "  8%|▊         | 91.8M/1.18G [00:19<02:40, 6.80MB/s]\u001b[A\n",
      "  8%|▊         | 92.8M/1.18G [00:19<04:58, 3.66MB/s]\u001b[A\n",
      "  8%|▊         | 94.4M/1.18G [00:20<03:51, 4.70MB/s]\u001b[A\n",
      "  8%|▊         | 95.4M/1.18G [00:20<05:04, 3.57MB/s]\u001b[A\n",
      "  8%|▊         | 95.9M/1.18G [00:20<05:04, 3.57MB/s]\u001b[A\n",
      "  8%|▊         | 96.5M/1.18G [00:20<05:06, 3.54MB/s]\u001b[A\n",
      "  8%|▊         | 97.0M/1.18G [00:21<05:24, 3.35MB/s]\u001b[A\n",
      "  8%|▊         | 97.5M/1.18G [00:21<05:20, 3.39MB/s]\u001b[A\n",
      "  8%|▊         | 98.0M/1.18G [00:21<05:27, 3.31MB/s]\u001b[A\n",
      "  8%|▊         | 98.6M/1.18G [00:21<05:16, 3.43MB/s]\u001b[A\n",
      "  8%|▊         | 99.1M/1.18G [00:21<05:55, 3.05MB/s]\u001b[A\n",
      "  8%|▊         | 99.6M/1.18G [00:21<05:43, 3.16MB/s]\u001b[A\n",
      "  8%|▊         | 100M/1.18G [00:22<05:38, 3.20MB/s] \u001b[A\n",
      "  9%|▊         | 101M/1.18G [00:22<05:27, 3.31MB/s]\u001b[A\n",
      "  9%|▊         | 101M/1.18G [00:22<05:00, 3.60MB/s]\u001b[A\n",
      "  9%|▊         | 102M/1.18G [00:22<04:41, 3.84MB/s]\u001b[A\n",
      "  9%|▊         | 103M/1.18G [00:22<04:27, 4.04MB/s]\u001b[A\n",
      "  9%|▊         | 103M/1.18G [00:22<04:38, 3.88MB/s]\u001b[A\n",
      "  9%|▉         | 104M/1.18G [00:23<03:58, 4.53MB/s]\u001b[A\n",
      "  9%|▉         | 105M/1.18G [00:23<04:30, 3.99MB/s]\u001b[A\n",
      "  9%|▉         | 106M/1.18G [00:23<03:48, 4.71MB/s]\u001b[A\n",
      "  9%|▉         | 107M/1.18G [00:23<03:29, 5.13MB/s]\u001b[A\n",
      "  9%|▉         | 108M/1.18G [00:23<03:10, 5.63MB/s]\u001b[A\n",
      "  9%|▉         | 109M/1.18G [00:23<03:04, 5.82MB/s]\u001b[A\n",
      "  9%|▉         | 110M/1.18G [00:24<03:06, 5.75MB/s]\u001b[A\n",
      "  9%|▉         | 111M/1.18G [00:24<02:59, 5.97MB/s]\u001b[A\n",
      "  9%|▉         | 112M/1.18G [00:24<03:25, 5.22MB/s]\u001b[A\n",
      " 10%|▉         | 113M/1.18G [00:24<02:58, 5.99MB/s]\u001b[A\n",
      " 10%|▉         | 114M/1.18G [00:24<03:28, 5.11MB/s]\u001b[A\n",
      " 10%|▉         | 115M/1.18G [00:25<04:13, 4.21MB/s]\u001b[A\n",
      " 10%|▉         | 117M/1.18G [00:25<03:10, 5.60MB/s]\u001b[A\n",
      " 10%|▉         | 118M/1.18G [00:25<03:19, 5.34MB/s]\u001b[A\n",
      " 10%|█         | 119M/1.18G [00:25<03:45, 4.72MB/s]\u001b[A\n",
      " 10%|█         | 120M/1.18G [00:26<03:27, 5.12MB/s]\u001b[A\n",
      " 10%|█         | 121M/1.18G [00:26<03:13, 5.48MB/s]\u001b[A\n",
      " 10%|█         | 122M/1.18G [00:26<03:06, 5.69MB/s]\u001b[A\n",
      " 10%|█         | 123M/1.18G [00:26<02:58, 5.93MB/s]\u001b[A\n",
      " 11%|█         | 124M/1.18G [00:26<03:02, 5.79MB/s]\u001b[A\n",
      " 11%|█         | 125M/1.18G [00:26<03:13, 5.46MB/s]\u001b[A\n",
      " 11%|█         | 126M/1.18G [00:27<03:31, 4.99MB/s]\u001b[A\n",
      " 11%|█         | 127M/1.18G [00:27<03:16, 5.38MB/s]\u001b[A\n",
      " 11%|█         | 128M/1.18G [00:27<03:05, 5.70MB/s]\u001b[A\n",
      " 11%|█         | 129M/1.18G [00:27<03:01, 5.82MB/s]\u001b[A\n",
      " 11%|█         | 131M/1.18G [00:27<03:23, 5.18MB/s]\u001b[A\n",
      " 11%|█         | 132M/1.18G [00:28<03:39, 4.80MB/s]\u001b[A\n",
      " 11%|█         | 133M/1.18G [00:28<03:49, 4.58MB/s]\u001b[A\n",
      " 11%|█▏        | 134M/1.18G [00:28<03:28, 5.02MB/s]\u001b[A\n",
      " 11%|█▏        | 135M/1.18G [00:28<03:14, 5.40MB/s]\u001b[A\n",
      " 11%|█▏        | 136M/1.18G [00:29<03:20, 5.22MB/s]\u001b[A\n",
      " 12%|█▏        | 137M/1.18G [00:29<02:59, 5.83MB/s]\u001b[A\n",
      " 12%|█▏        | 138M/1.18G [00:29<04:59, 3.48MB/s]\u001b[A\n",
      " 12%|█▏        | 138M/1.18G [00:29<04:59, 3.49MB/s]\u001b[A\n",
      " 12%|█▏        | 139M/1.18G [00:29<03:54, 4.44MB/s]\u001b[A\n",
      " 12%|█▏        | 141M/1.18G [00:30<03:21, 5.16MB/s]\u001b[A\n",
      " 12%|█▏        | 142M/1.18G [00:30<03:24, 5.10MB/s]\u001b[A\n",
      " 12%|█▏        | 143M/1.18G [00:30<03:30, 4.93MB/s]\u001b[A\n",
      " 12%|█▏        | 144M/1.18G [00:30<03:40, 4.72MB/s]\u001b[A\n",
      " 12%|█▏        | 144M/1.18G [00:30<04:02, 4.28MB/s]\u001b[A\n",
      " 12%|█▏        | 145M/1.18G [00:31<04:06, 4.21MB/s]\u001b[A\n",
      " 12%|█▏        | 145M/1.18G [00:31<04:30, 3.83MB/s]\u001b[A\n",
      " 12%|█▏        | 146M/1.18G [00:31<04:27, 3.88MB/s]\u001b[A\n",
      " 12%|█▏        | 146M/1.18G [00:31<05:21, 3.22MB/s]\u001b[A\n",
      " 12%|█▏        | 147M/1.18G [00:31<04:48, 3.59MB/s]\u001b[A\n",
      " 12%|█▏        | 147M/1.18G [00:31<05:16, 3.28MB/s]\u001b[A\n",
      " 12%|█▏        | 148M/1.18G [00:32<05:50, 2.95MB/s]\u001b[A\n",
      " 13%|█▎        | 148M/1.18G [00:32<05:30, 3.13MB/s]\u001b[A\n",
      " 13%|█▎        | 149M/1.18G [00:32<04:55, 3.50MB/s]\u001b[A\n",
      " 13%|█▎        | 149M/1.18G [00:32<06:23, 2.70MB/s]\u001b[A\n",
      " 13%|█▎        | 150M/1.18G [00:32<04:53, 3.52MB/s]\u001b[A\n",
      " 13%|█▎        | 152M/1.18G [00:33<03:55, 4.38MB/s]\u001b[A\n",
      " 13%|█▎        | 152M/1.18G [00:33<04:57, 3.46MB/s]\u001b[A\n",
      " 13%|█▎        | 153M/1.18G [00:33<04:27, 3.85MB/s]\u001b[A\n",
      " 13%|█▎        | 154M/1.18G [00:33<03:46, 4.54MB/s]\u001b[A\n",
      " 13%|█▎        | 155M/1.18G [00:33<04:01, 4.26MB/s]\u001b[A\n",
      " 13%|█▎        | 155M/1.18G [00:34<06:15, 2.74MB/s]\u001b[A\n",
      " 13%|█▎        | 156M/1.18G [00:34<04:37, 3.70MB/s]\u001b[A\n",
      " 13%|█▎        | 157M/1.18G [00:34<04:24, 3.88MB/s]\u001b[A\n",
      " 13%|█▎        | 157M/1.18G [00:34<04:09, 4.12MB/s]\u001b[A\n",
      " 13%|█▎        | 158M/1.18G [00:34<04:24, 3.87MB/s]\u001b[A\n",
      " 13%|█▎        | 159M/1.18G [00:34<03:33, 4.79MB/s]\u001b[A\n",
      " 14%|█▎        | 160M/1.18G [00:35<03:09, 5.39MB/s]\u001b[A\n",
      " 14%|█▎        | 161M/1.18G [00:35<04:25, 3.84MB/s]\u001b[A\n",
      " 14%|█▎        | 163M/1.18G [00:35<03:35, 4.74MB/s]\u001b[A\n",
      " 14%|█▍        | 164M/1.18G [00:36<03:59, 4.26MB/s]\u001b[A\n",
      " 14%|█▍        | 165M/1.18G [00:36<03:03, 5.54MB/s]\u001b[A\n",
      " 14%|█▍        | 166M/1.18G [00:36<03:44, 4.52MB/s]\u001b[A\n",
      " 14%|█▍        | 167M/1.18G [00:36<03:22, 5.02MB/s]\u001b[A\n",
      " 14%|█▍        | 168M/1.18G [00:36<03:17, 5.14MB/s]\u001b[A\n",
      " 14%|█▍        | 169M/1.18G [00:37<03:12, 5.28MB/s]\u001b[A\n",
      " 14%|█▍        | 170M/1.18G [00:37<04:00, 4.21MB/s]\u001b[A\n",
      " 14%|█▍        | 171M/1.18G [00:37<04:42, 3.59MB/s]\u001b[A\n",
      " 15%|█▍        | 172M/1.18G [00:37<03:58, 4.24MB/s]\u001b[A\n",
      " 15%|█▍        | 172M/1.18G [00:37<03:50, 4.39MB/s]\u001b[A\n",
      " 15%|█▍        | 173M/1.18G [00:38<04:26, 3.79MB/s]\u001b[A\n",
      " 15%|█▍        | 174M/1.18G [00:38<04:54, 3.43MB/s]\u001b[A\n",
      " 15%|█▍        | 175M/1.18G [00:38<03:20, 5.04MB/s]\u001b[A\n",
      " 15%|█▍        | 176M/1.18G [00:38<03:31, 4.75MB/s]\u001b[A\n",
      " 15%|█▍        | 177M/1.18G [00:38<03:08, 5.35MB/s]\u001b[A\n",
      " 15%|█▌        | 178M/1.18G [00:39<03:05, 5.40MB/s]\u001b[A\n",
      " 15%|█▌        | 179M/1.18G [00:39<03:00, 5.56MB/s]\u001b[A\n",
      " 15%|█▌        | 180M/1.18G [00:39<02:58, 5.63MB/s]\u001b[A\n",
      " 15%|█▌        | 181M/1.18G [00:39<03:38, 4.59MB/s]\u001b[A\n",
      " 15%|█▌        | 182M/1.18G [00:40<05:01, 3.32MB/s]\u001b[A\n",
      " 16%|█▌        | 184M/1.18G [00:40<03:35, 4.63MB/s]\u001b[A\n",
      " 16%|█▌        | 185M/1.18G [00:40<03:55, 4.24MB/s]\u001b[A\n",
      " 16%|█▌        | 186M/1.18G [00:40<03:19, 4.99MB/s]\u001b[A\n",
      " 16%|█▌        | 187M/1.18G [00:40<03:34, 4.64MB/s]\u001b[A\n",
      " 16%|█▌        | 188M/1.18G [00:41<03:40, 4.51MB/s]\u001b[A\n",
      " 16%|█▌        | 188M/1.18G [00:41<03:40, 4.50MB/s]\u001b[A\n",
      " 16%|█▌        | 189M/1.18G [00:41<04:12, 3.93MB/s]\u001b[A\n",
      " 16%|█▌        | 189M/1.18G [00:41<04:56, 3.35MB/s]\u001b[A\n",
      " 16%|█▌        | 190M/1.18G [00:41<03:53, 4.25MB/s]\u001b[A\n",
      " 16%|█▌        | 191M/1.18G [00:42<03:59, 4.15MB/s]\u001b[A\n",
      " 16%|█▌        | 191M/1.18G [00:42<04:01, 4.10MB/s]\u001b[A"
     ]
    },
    {
     "ename": "KeyboardInterrupt",
     "evalue": "",
     "output_type": "error",
     "traceback": [
      "\u001b[1;31m---------------------------------------------------------------------------\u001b[0m",
      "\u001b[1;31mKeyboardInterrupt\u001b[0m                         Traceback (most recent call last)",
      "Cell \u001b[1;32mIn[5], line 10\u001b[0m\n\u001b[0;32m      1\u001b[0m \u001b[38;5;28;01mfrom\u001b[39;00m \u001b[38;5;21;01mtorchvision\u001b[39;00m \u001b[38;5;28;01mimport\u001b[39;00m datasets, transforms\n\u001b[0;32m      3\u001b[0m data_transform \u001b[38;5;241m=\u001b[39m transforms\u001b[38;5;241m.\u001b[39mCompose([\n\u001b[0;32m      4\u001b[0m     transforms\u001b[38;5;241m.\u001b[39mResize((\u001b[38;5;241m224\u001b[39m,\u001b[38;5;241m224\u001b[39m)),\n\u001b[0;32m      5\u001b[0m     transforms\u001b[38;5;241m.\u001b[39mToTensor(),\n\u001b[0;32m      6\u001b[0m     transforms\u001b[38;5;241m.\u001b[39mLambda(\u001b[38;5;28;01mlambda\u001b[39;00m x: x\u001b[38;5;241m.\u001b[39mrepeat(\u001b[38;5;241m3\u001b[39m,\u001b[38;5;241m1\u001b[39m,\u001b[38;5;241m1\u001b[39m) \u001b[38;5;28;01mif\u001b[39;00m x\u001b[38;5;241m.\u001b[39mshape[\u001b[38;5;241m0\u001b[39m]\u001b[38;5;241m==\u001b[39m\u001b[38;5;241m1\u001b[39m \u001b[38;5;28;01melse\u001b[39;00m x),\n\u001b[0;32m      7\u001b[0m     transforms\u001b[38;5;241m.\u001b[39mNormalize([\u001b[38;5;241m0.48\u001b[39m, \u001b[38;5;241m0.4\u001b[39m, \u001b[38;5;241m0.4\u001b[39m], [\u001b[38;5;241m0.229\u001b[39m, \u001b[38;5;241m0.224\u001b[39m, \u001b[38;5;241m0.445\u001b[39m])\n\u001b[0;32m      8\u001b[0m ])\n\u001b[1;32m---> 10\u001b[0m full_data \u001b[38;5;241m=\u001b[39m \u001b[43mdatasets\u001b[49m\u001b[38;5;241;43m.\u001b[39;49m\u001b[43mCaltech256\u001b[49m\u001b[43m(\u001b[49m\u001b[38;5;124;43m'\u001b[39;49m\u001b[38;5;124;43m./data\u001b[39;49m\u001b[38;5;124;43m'\u001b[39;49m\u001b[43m,\u001b[49m\u001b[43m \u001b[49m\u001b[43mdownload\u001b[49m\u001b[38;5;241;43m=\u001b[39;49m\u001b[38;5;28;43;01mTrue\u001b[39;49;00m\u001b[43m,\u001b[49m\u001b[43m \u001b[49m\u001b[43mtransform\u001b[49m\u001b[38;5;241;43m=\u001b[39;49m\u001b[43mdata_transform\u001b[49m\u001b[43m)\u001b[49m\n",
      "File \u001b[1;32mE:\\anaconda\\envs\\myenv\\lib\\site-packages\\torchvision\\datasets\\caltech.py:179\u001b[0m, in \u001b[0;36mCaltech256.__init__\u001b[1;34m(self, root, transform, target_transform, download)\u001b[0m\n\u001b[0;32m    176\u001b[0m os\u001b[38;5;241m.\u001b[39mmakedirs(\u001b[38;5;28mself\u001b[39m\u001b[38;5;241m.\u001b[39mroot, exist_ok\u001b[38;5;241m=\u001b[39m\u001b[38;5;28;01mTrue\u001b[39;00m)\n\u001b[0;32m    178\u001b[0m \u001b[38;5;28;01mif\u001b[39;00m download:\n\u001b[1;32m--> 179\u001b[0m     \u001b[38;5;28;43mself\u001b[39;49m\u001b[38;5;241;43m.\u001b[39;49m\u001b[43mdownload\u001b[49m\u001b[43m(\u001b[49m\u001b[43m)\u001b[49m\n\u001b[0;32m    181\u001b[0m \u001b[38;5;28;01mif\u001b[39;00m \u001b[38;5;129;01mnot\u001b[39;00m \u001b[38;5;28mself\u001b[39m\u001b[38;5;241m.\u001b[39m_check_integrity():\n\u001b[0;32m    182\u001b[0m     \u001b[38;5;28;01mraise\u001b[39;00m \u001b[38;5;167;01mRuntimeError\u001b[39;00m(\u001b[38;5;124m\"\u001b[39m\u001b[38;5;124mDataset not found or corrupted. You can use download=True to download it\u001b[39m\u001b[38;5;124m\"\u001b[39m)\n",
      "File \u001b[1;32mE:\\anaconda\\envs\\myenv\\lib\\site-packages\\torchvision\\datasets\\caltech.py:237\u001b[0m, in \u001b[0;36mCaltech256.download\u001b[1;34m(self)\u001b[0m\n\u001b[0;32m    234\u001b[0m     \u001b[38;5;28mprint\u001b[39m(\u001b[38;5;124m\"\u001b[39m\u001b[38;5;124mFiles already downloaded and verified\u001b[39m\u001b[38;5;124m\"\u001b[39m)\n\u001b[0;32m    235\u001b[0m     \u001b[38;5;28;01mreturn\u001b[39;00m\n\u001b[1;32m--> 237\u001b[0m \u001b[43mdownload_and_extract_archive\u001b[49m\u001b[43m(\u001b[49m\n\u001b[0;32m    238\u001b[0m \u001b[43m    \u001b[49m\u001b[38;5;124;43m\"\u001b[39;49m\u001b[38;5;124;43mhttps://drive.google.com/file/d/1r6o0pSROcV1_VwT4oSjA2FBUSCWGuxLK\u001b[39;49m\u001b[38;5;124;43m\"\u001b[39;49m\u001b[43m,\u001b[49m\n\u001b[0;32m    239\u001b[0m \u001b[43m    \u001b[49m\u001b[38;5;28;43mself\u001b[39;49m\u001b[38;5;241;43m.\u001b[39;49m\u001b[43mroot\u001b[49m\u001b[43m,\u001b[49m\n\u001b[0;32m    240\u001b[0m \u001b[43m    \u001b[49m\u001b[43mfilename\u001b[49m\u001b[38;5;241;43m=\u001b[39;49m\u001b[38;5;124;43m\"\u001b[39;49m\u001b[38;5;124;43m256_ObjectCategories.tar\u001b[39;49m\u001b[38;5;124;43m\"\u001b[39;49m\u001b[43m,\u001b[49m\n\u001b[0;32m    241\u001b[0m \u001b[43m    \u001b[49m\u001b[43mmd5\u001b[49m\u001b[38;5;241;43m=\u001b[39;49m\u001b[38;5;124;43m\"\u001b[39;49m\u001b[38;5;124;43m67b4f42ca05d46448c6bb8ecd2220f6d\u001b[39;49m\u001b[38;5;124;43m\"\u001b[39;49m\u001b[43m,\u001b[49m\n\u001b[0;32m    242\u001b[0m \u001b[43m\u001b[49m\u001b[43m)\u001b[49m\n",
      "File \u001b[1;32mE:\\anaconda\\envs\\myenv\\lib\\site-packages\\torchvision\\datasets\\utils.py:395\u001b[0m, in \u001b[0;36mdownload_and_extract_archive\u001b[1;34m(url, download_root, extract_root, filename, md5, remove_finished)\u001b[0m\n\u001b[0;32m    392\u001b[0m \u001b[38;5;28;01mif\u001b[39;00m \u001b[38;5;129;01mnot\u001b[39;00m filename:\n\u001b[0;32m    393\u001b[0m     filename \u001b[38;5;241m=\u001b[39m os\u001b[38;5;241m.\u001b[39mpath\u001b[38;5;241m.\u001b[39mbasename(url)\n\u001b[1;32m--> 395\u001b[0m \u001b[43mdownload_url\u001b[49m\u001b[43m(\u001b[49m\u001b[43murl\u001b[49m\u001b[43m,\u001b[49m\u001b[43m \u001b[49m\u001b[43mdownload_root\u001b[49m\u001b[43m,\u001b[49m\u001b[43m \u001b[49m\u001b[43mfilename\u001b[49m\u001b[43m,\u001b[49m\u001b[43m \u001b[49m\u001b[43mmd5\u001b[49m\u001b[43m)\u001b[49m\n\u001b[0;32m    397\u001b[0m archive \u001b[38;5;241m=\u001b[39m os\u001b[38;5;241m.\u001b[39mpath\u001b[38;5;241m.\u001b[39mjoin(download_root, filename)\n\u001b[0;32m    398\u001b[0m \u001b[38;5;28mprint\u001b[39m(\u001b[38;5;124mf\u001b[39m\u001b[38;5;124m\"\u001b[39m\u001b[38;5;124mExtracting \u001b[39m\u001b[38;5;132;01m{\u001b[39;00marchive\u001b[38;5;132;01m}\u001b[39;00m\u001b[38;5;124m to \u001b[39m\u001b[38;5;132;01m{\u001b[39;00mextract_root\u001b[38;5;132;01m}\u001b[39;00m\u001b[38;5;124m\"\u001b[39m)\n",
      "File \u001b[1;32mE:\\anaconda\\envs\\myenv\\lib\\site-packages\\torchvision\\datasets\\utils.py:127\u001b[0m, in \u001b[0;36mdownload_url\u001b[1;34m(url, root, filename, md5, max_redirect_hops)\u001b[0m\n\u001b[0;32m    125\u001b[0m file_id \u001b[38;5;241m=\u001b[39m _get_google_drive_file_id(url)\n\u001b[0;32m    126\u001b[0m \u001b[38;5;28;01mif\u001b[39;00m file_id \u001b[38;5;129;01mis\u001b[39;00m \u001b[38;5;129;01mnot\u001b[39;00m \u001b[38;5;28;01mNone\u001b[39;00m:\n\u001b[1;32m--> 127\u001b[0m     \u001b[38;5;28;01mreturn\u001b[39;00m \u001b[43mdownload_file_from_google_drive\u001b[49m\u001b[43m(\u001b[49m\u001b[43mfile_id\u001b[49m\u001b[43m,\u001b[49m\u001b[43m \u001b[49m\u001b[43mroot\u001b[49m\u001b[43m,\u001b[49m\u001b[43m \u001b[49m\u001b[43mfilename\u001b[49m\u001b[43m,\u001b[49m\u001b[43m \u001b[49m\u001b[43mmd5\u001b[49m\u001b[43m)\u001b[49m\n\u001b[0;32m    129\u001b[0m \u001b[38;5;66;03m# download the file\u001b[39;00m\n\u001b[0;32m    130\u001b[0m \u001b[38;5;28;01mtry\u001b[39;00m:\n",
      "File \u001b[1;32mE:\\anaconda\\envs\\myenv\\lib\\site-packages\\torchvision\\datasets\\utils.py:210\u001b[0m, in \u001b[0;36mdownload_file_from_google_drive\u001b[1;34m(file_id, root, filename, md5)\u001b[0m\n\u001b[0;32m    207\u001b[0m     \u001b[38;5;28mprint\u001b[39m(\u001b[38;5;124mf\u001b[39m\u001b[38;5;124m\"\u001b[39m\u001b[38;5;124mUsing downloaded \u001b[39m\u001b[38;5;132;01m{\u001b[39;00m\u001b[38;5;124m'\u001b[39m\u001b[38;5;124mand verified \u001b[39m\u001b[38;5;124m'\u001b[39m\u001b[38;5;250m \u001b[39m\u001b[38;5;28;01mif\u001b[39;00m\u001b[38;5;250m \u001b[39mmd5\u001b[38;5;250m \u001b[39m\u001b[38;5;28;01melse\u001b[39;00m\u001b[38;5;250m \u001b[39m\u001b[38;5;124m'\u001b[39m\u001b[38;5;124m'\u001b[39m\u001b[38;5;132;01m}\u001b[39;00m\u001b[38;5;124mfile: \u001b[39m\u001b[38;5;132;01m{\u001b[39;00mfpath\u001b[38;5;132;01m}\u001b[39;00m\u001b[38;5;124m\"\u001b[39m)\n\u001b[0;32m    208\u001b[0m     \u001b[38;5;28;01mreturn\u001b[39;00m\n\u001b[1;32m--> 210\u001b[0m \u001b[43mgdown\u001b[49m\u001b[38;5;241;43m.\u001b[39;49m\u001b[43mdownload\u001b[49m\u001b[43m(\u001b[49m\u001b[38;5;28;43mid\u001b[39;49m\u001b[38;5;241;43m=\u001b[39;49m\u001b[43mfile_id\u001b[49m\u001b[43m,\u001b[49m\u001b[43m \u001b[49m\u001b[43moutput\u001b[49m\u001b[38;5;241;43m=\u001b[39;49m\u001b[43mfpath\u001b[49m\u001b[43m,\u001b[49m\u001b[43m \u001b[49m\u001b[43mquiet\u001b[49m\u001b[38;5;241;43m=\u001b[39;49m\u001b[38;5;28;43;01mFalse\u001b[39;49;00m\u001b[43m,\u001b[49m\u001b[43m \u001b[49m\u001b[43muser_agent\u001b[49m\u001b[38;5;241;43m=\u001b[39;49m\u001b[43mUSER_AGENT\u001b[49m\u001b[43m)\u001b[49m\n\u001b[0;32m    212\u001b[0m \u001b[38;5;28;01mif\u001b[39;00m \u001b[38;5;129;01mnot\u001b[39;00m check_integrity(fpath, md5):\n\u001b[0;32m    213\u001b[0m     \u001b[38;5;28;01mraise\u001b[39;00m \u001b[38;5;167;01mRuntimeError\u001b[39;00m(\u001b[38;5;124m\"\u001b[39m\u001b[38;5;124mFile not found or corrupted.\u001b[39m\u001b[38;5;124m\"\u001b[39m)\n",
      "File \u001b[1;32mE:\\anaconda\\envs\\myenv\\lib\\site-packages\\gdown\\download.py:368\u001b[0m, in \u001b[0;36mdownload\u001b[1;34m(url, output, quiet, proxy, speed, use_cookies, verify, id, fuzzy, resume, format, user_agent, log_messages)\u001b[0m\n\u001b[0;32m    366\u001b[0m     pbar \u001b[38;5;241m=\u001b[39m tqdm\u001b[38;5;241m.\u001b[39mtqdm(total\u001b[38;5;241m=\u001b[39mtotal, unit\u001b[38;5;241m=\u001b[39m\u001b[38;5;124m\"\u001b[39m\u001b[38;5;124mB\u001b[39m\u001b[38;5;124m\"\u001b[39m, initial\u001b[38;5;241m=\u001b[39mstart_size, unit_scale\u001b[38;5;241m=\u001b[39m\u001b[38;5;28;01mTrue\u001b[39;00m)\n\u001b[0;32m    367\u001b[0m t_start \u001b[38;5;241m=\u001b[39m time\u001b[38;5;241m.\u001b[39mtime()\n\u001b[1;32m--> 368\u001b[0m \u001b[38;5;28;01mfor\u001b[39;00m chunk \u001b[38;5;129;01min\u001b[39;00m res\u001b[38;5;241m.\u001b[39miter_content(chunk_size\u001b[38;5;241m=\u001b[39mCHUNK_SIZE):\n\u001b[0;32m    369\u001b[0m     f\u001b[38;5;241m.\u001b[39mwrite(chunk)\n\u001b[0;32m    370\u001b[0m     \u001b[38;5;28;01mif\u001b[39;00m \u001b[38;5;129;01mnot\u001b[39;00m quiet:\n",
      "File \u001b[1;32mE:\\anaconda\\envs\\myenv\\lib\\site-packages\\requests\\models.py:820\u001b[0m, in \u001b[0;36mResponse.iter_content.<locals>.generate\u001b[1;34m()\u001b[0m\n\u001b[0;32m    818\u001b[0m \u001b[38;5;28;01mif\u001b[39;00m \u001b[38;5;28mhasattr\u001b[39m(\u001b[38;5;28mself\u001b[39m\u001b[38;5;241m.\u001b[39mraw, \u001b[38;5;124m\"\u001b[39m\u001b[38;5;124mstream\u001b[39m\u001b[38;5;124m\"\u001b[39m):\n\u001b[0;32m    819\u001b[0m     \u001b[38;5;28;01mtry\u001b[39;00m:\n\u001b[1;32m--> 820\u001b[0m         \u001b[38;5;28;01myield from\u001b[39;00m \u001b[38;5;28mself\u001b[39m\u001b[38;5;241m.\u001b[39mraw\u001b[38;5;241m.\u001b[39mstream(chunk_size, decode_content\u001b[38;5;241m=\u001b[39m\u001b[38;5;28;01mTrue\u001b[39;00m)\n\u001b[0;32m    821\u001b[0m     \u001b[38;5;28;01mexcept\u001b[39;00m ProtocolError \u001b[38;5;28;01mas\u001b[39;00m e:\n\u001b[0;32m    822\u001b[0m         \u001b[38;5;28;01mraise\u001b[39;00m ChunkedEncodingError(e)\n",
      "File \u001b[1;32mE:\\anaconda\\envs\\myenv\\lib\\site-packages\\urllib3\\response.py:1060\u001b[0m, in \u001b[0;36mHTTPResponse.stream\u001b[1;34m(self, amt, decode_content)\u001b[0m\n\u001b[0;32m   1058\u001b[0m \u001b[38;5;28;01melse\u001b[39;00m:\n\u001b[0;32m   1059\u001b[0m     \u001b[38;5;28;01mwhile\u001b[39;00m \u001b[38;5;129;01mnot\u001b[39;00m is_fp_closed(\u001b[38;5;28mself\u001b[39m\u001b[38;5;241m.\u001b[39m_fp) \u001b[38;5;129;01mor\u001b[39;00m \u001b[38;5;28mlen\u001b[39m(\u001b[38;5;28mself\u001b[39m\u001b[38;5;241m.\u001b[39m_decoded_buffer) \u001b[38;5;241m>\u001b[39m \u001b[38;5;241m0\u001b[39m:\n\u001b[1;32m-> 1060\u001b[0m         data \u001b[38;5;241m=\u001b[39m \u001b[38;5;28;43mself\u001b[39;49m\u001b[38;5;241;43m.\u001b[39;49m\u001b[43mread\u001b[49m\u001b[43m(\u001b[49m\u001b[43mamt\u001b[49m\u001b[38;5;241;43m=\u001b[39;49m\u001b[43mamt\u001b[49m\u001b[43m,\u001b[49m\u001b[43m \u001b[49m\u001b[43mdecode_content\u001b[49m\u001b[38;5;241;43m=\u001b[39;49m\u001b[43mdecode_content\u001b[49m\u001b[43m)\u001b[49m\n\u001b[0;32m   1062\u001b[0m         \u001b[38;5;28;01mif\u001b[39;00m data:\n\u001b[0;32m   1063\u001b[0m             \u001b[38;5;28;01myield\u001b[39;00m data\n",
      "File \u001b[1;32mE:\\anaconda\\envs\\myenv\\lib\\site-packages\\urllib3\\response.py:949\u001b[0m, in \u001b[0;36mHTTPResponse.read\u001b[1;34m(self, amt, decode_content, cache_content)\u001b[0m\n\u001b[0;32m    946\u001b[0m     \u001b[38;5;28;01mif\u001b[39;00m \u001b[38;5;28mlen\u001b[39m(\u001b[38;5;28mself\u001b[39m\u001b[38;5;241m.\u001b[39m_decoded_buffer) \u001b[38;5;241m>\u001b[39m\u001b[38;5;241m=\u001b[39m amt:\n\u001b[0;32m    947\u001b[0m         \u001b[38;5;28;01mreturn\u001b[39;00m \u001b[38;5;28mself\u001b[39m\u001b[38;5;241m.\u001b[39m_decoded_buffer\u001b[38;5;241m.\u001b[39mget(amt)\n\u001b[1;32m--> 949\u001b[0m data \u001b[38;5;241m=\u001b[39m \u001b[38;5;28;43mself\u001b[39;49m\u001b[38;5;241;43m.\u001b[39;49m\u001b[43m_raw_read\u001b[49m\u001b[43m(\u001b[49m\u001b[43mamt\u001b[49m\u001b[43m)\u001b[49m\n\u001b[0;32m    951\u001b[0m flush_decoder \u001b[38;5;241m=\u001b[39m amt \u001b[38;5;129;01mis\u001b[39;00m \u001b[38;5;28;01mNone\u001b[39;00m \u001b[38;5;129;01mor\u001b[39;00m (amt \u001b[38;5;241m!=\u001b[39m \u001b[38;5;241m0\u001b[39m \u001b[38;5;129;01mand\u001b[39;00m \u001b[38;5;129;01mnot\u001b[39;00m data)\n\u001b[0;32m    953\u001b[0m \u001b[38;5;28;01mif\u001b[39;00m \u001b[38;5;129;01mnot\u001b[39;00m data \u001b[38;5;129;01mand\u001b[39;00m \u001b[38;5;28mlen\u001b[39m(\u001b[38;5;28mself\u001b[39m\u001b[38;5;241m.\u001b[39m_decoded_buffer) \u001b[38;5;241m==\u001b[39m \u001b[38;5;241m0\u001b[39m:\n",
      "File \u001b[1;32mE:\\anaconda\\envs\\myenv\\lib\\site-packages\\urllib3\\response.py:873\u001b[0m, in \u001b[0;36mHTTPResponse._raw_read\u001b[1;34m(self, amt, read1)\u001b[0m\n\u001b[0;32m    870\u001b[0m fp_closed \u001b[38;5;241m=\u001b[39m \u001b[38;5;28mgetattr\u001b[39m(\u001b[38;5;28mself\u001b[39m\u001b[38;5;241m.\u001b[39m_fp, \u001b[38;5;124m\"\u001b[39m\u001b[38;5;124mclosed\u001b[39m\u001b[38;5;124m\"\u001b[39m, \u001b[38;5;28;01mFalse\u001b[39;00m)\n\u001b[0;32m    872\u001b[0m \u001b[38;5;28;01mwith\u001b[39;00m \u001b[38;5;28mself\u001b[39m\u001b[38;5;241m.\u001b[39m_error_catcher():\n\u001b[1;32m--> 873\u001b[0m     data \u001b[38;5;241m=\u001b[39m \u001b[38;5;28;43mself\u001b[39;49m\u001b[38;5;241;43m.\u001b[39;49m\u001b[43m_fp_read\u001b[49m\u001b[43m(\u001b[49m\u001b[43mamt\u001b[49m\u001b[43m,\u001b[49m\u001b[43m \u001b[49m\u001b[43mread1\u001b[49m\u001b[38;5;241;43m=\u001b[39;49m\u001b[43mread1\u001b[49m\u001b[43m)\u001b[49m \u001b[38;5;28;01mif\u001b[39;00m \u001b[38;5;129;01mnot\u001b[39;00m fp_closed \u001b[38;5;28;01melse\u001b[39;00m \u001b[38;5;124mb\u001b[39m\u001b[38;5;124m\"\u001b[39m\u001b[38;5;124m\"\u001b[39m\n\u001b[0;32m    874\u001b[0m     \u001b[38;5;28;01mif\u001b[39;00m amt \u001b[38;5;129;01mis\u001b[39;00m \u001b[38;5;129;01mnot\u001b[39;00m \u001b[38;5;28;01mNone\u001b[39;00m \u001b[38;5;129;01mand\u001b[39;00m amt \u001b[38;5;241m!=\u001b[39m \u001b[38;5;241m0\u001b[39m \u001b[38;5;129;01mand\u001b[39;00m \u001b[38;5;129;01mnot\u001b[39;00m data:\n\u001b[0;32m    875\u001b[0m         \u001b[38;5;66;03m# Platform-specific: Buggy versions of Python.\u001b[39;00m\n\u001b[0;32m    876\u001b[0m         \u001b[38;5;66;03m# Close the connection when no data is returned\u001b[39;00m\n\u001b[1;32m   (...)\u001b[0m\n\u001b[0;32m    881\u001b[0m         \u001b[38;5;66;03m# not properly close the connection in all cases. There is\u001b[39;00m\n\u001b[0;32m    882\u001b[0m         \u001b[38;5;66;03m# no harm in redundantly calling close.\u001b[39;00m\n\u001b[0;32m    883\u001b[0m         \u001b[38;5;28mself\u001b[39m\u001b[38;5;241m.\u001b[39m_fp\u001b[38;5;241m.\u001b[39mclose()\n",
      "File \u001b[1;32mE:\\anaconda\\envs\\myenv\\lib\\site-packages\\urllib3\\response.py:856\u001b[0m, in \u001b[0;36mHTTPResponse._fp_read\u001b[1;34m(self, amt, read1)\u001b[0m\n\u001b[0;32m    853\u001b[0m     \u001b[38;5;28;01mreturn\u001b[39;00m \u001b[38;5;28mself\u001b[39m\u001b[38;5;241m.\u001b[39m_fp\u001b[38;5;241m.\u001b[39mread1(amt) \u001b[38;5;28;01mif\u001b[39;00m amt \u001b[38;5;129;01mis\u001b[39;00m \u001b[38;5;129;01mnot\u001b[39;00m \u001b[38;5;28;01mNone\u001b[39;00m \u001b[38;5;28;01melse\u001b[39;00m \u001b[38;5;28mself\u001b[39m\u001b[38;5;241m.\u001b[39m_fp\u001b[38;5;241m.\u001b[39mread1()\n\u001b[0;32m    854\u001b[0m \u001b[38;5;28;01melse\u001b[39;00m:\n\u001b[0;32m    855\u001b[0m     \u001b[38;5;66;03m# StringIO doesn't like amt=None\u001b[39;00m\n\u001b[1;32m--> 856\u001b[0m     \u001b[38;5;28;01mreturn\u001b[39;00m \u001b[38;5;28;43mself\u001b[39;49m\u001b[38;5;241;43m.\u001b[39;49m\u001b[43m_fp\u001b[49m\u001b[38;5;241;43m.\u001b[39;49m\u001b[43mread\u001b[49m\u001b[43m(\u001b[49m\u001b[43mamt\u001b[49m\u001b[43m)\u001b[49m \u001b[38;5;28;01mif\u001b[39;00m amt \u001b[38;5;129;01mis\u001b[39;00m \u001b[38;5;129;01mnot\u001b[39;00m \u001b[38;5;28;01mNone\u001b[39;00m \u001b[38;5;28;01melse\u001b[39;00m \u001b[38;5;28mself\u001b[39m\u001b[38;5;241m.\u001b[39m_fp\u001b[38;5;241m.\u001b[39mread()\n",
      "File \u001b[1;32mE:\\anaconda\\envs\\myenv\\lib\\http\\client.py:466\u001b[0m, in \u001b[0;36mHTTPResponse.read\u001b[1;34m(self, amt)\u001b[0m\n\u001b[0;32m    463\u001b[0m \u001b[38;5;28;01mif\u001b[39;00m \u001b[38;5;28mself\u001b[39m\u001b[38;5;241m.\u001b[39mlength \u001b[38;5;129;01mis\u001b[39;00m \u001b[38;5;129;01mnot\u001b[39;00m \u001b[38;5;28;01mNone\u001b[39;00m \u001b[38;5;129;01mand\u001b[39;00m amt \u001b[38;5;241m>\u001b[39m \u001b[38;5;28mself\u001b[39m\u001b[38;5;241m.\u001b[39mlength:\n\u001b[0;32m    464\u001b[0m     \u001b[38;5;66;03m# clip the read to the \"end of response\"\u001b[39;00m\n\u001b[0;32m    465\u001b[0m     amt \u001b[38;5;241m=\u001b[39m \u001b[38;5;28mself\u001b[39m\u001b[38;5;241m.\u001b[39mlength\n\u001b[1;32m--> 466\u001b[0m s \u001b[38;5;241m=\u001b[39m \u001b[38;5;28;43mself\u001b[39;49m\u001b[38;5;241;43m.\u001b[39;49m\u001b[43mfp\u001b[49m\u001b[38;5;241;43m.\u001b[39;49m\u001b[43mread\u001b[49m\u001b[43m(\u001b[49m\u001b[43mamt\u001b[49m\u001b[43m)\u001b[49m\n\u001b[0;32m    467\u001b[0m \u001b[38;5;28;01mif\u001b[39;00m \u001b[38;5;129;01mnot\u001b[39;00m s \u001b[38;5;129;01mand\u001b[39;00m amt:\n\u001b[0;32m    468\u001b[0m     \u001b[38;5;66;03m# Ideally, we would raise IncompleteRead if the content-length\u001b[39;00m\n\u001b[0;32m    469\u001b[0m     \u001b[38;5;66;03m# wasn't satisfied, but it might break compatibility.\u001b[39;00m\n\u001b[0;32m    470\u001b[0m     \u001b[38;5;28mself\u001b[39m\u001b[38;5;241m.\u001b[39m_close_conn()\n",
      "File \u001b[1;32mE:\\anaconda\\envs\\myenv\\lib\\socket.py:717\u001b[0m, in \u001b[0;36mSocketIO.readinto\u001b[1;34m(self, b)\u001b[0m\n\u001b[0;32m    715\u001b[0m \u001b[38;5;28;01mwhile\u001b[39;00m \u001b[38;5;28;01mTrue\u001b[39;00m:\n\u001b[0;32m    716\u001b[0m     \u001b[38;5;28;01mtry\u001b[39;00m:\n\u001b[1;32m--> 717\u001b[0m         \u001b[38;5;28;01mreturn\u001b[39;00m \u001b[38;5;28;43mself\u001b[39;49m\u001b[38;5;241;43m.\u001b[39;49m\u001b[43m_sock\u001b[49m\u001b[38;5;241;43m.\u001b[39;49m\u001b[43mrecv_into\u001b[49m\u001b[43m(\u001b[49m\u001b[43mb\u001b[49m\u001b[43m)\u001b[49m\n\u001b[0;32m    718\u001b[0m     \u001b[38;5;28;01mexcept\u001b[39;00m timeout:\n\u001b[0;32m    719\u001b[0m         \u001b[38;5;28mself\u001b[39m\u001b[38;5;241m.\u001b[39m_timeout_occurred \u001b[38;5;241m=\u001b[39m \u001b[38;5;28;01mTrue\u001b[39;00m\n",
      "File \u001b[1;32mE:\\anaconda\\envs\\myenv\\lib\\ssl.py:1307\u001b[0m, in \u001b[0;36mSSLSocket.recv_into\u001b[1;34m(self, buffer, nbytes, flags)\u001b[0m\n\u001b[0;32m   1303\u001b[0m     \u001b[38;5;28;01mif\u001b[39;00m flags \u001b[38;5;241m!=\u001b[39m \u001b[38;5;241m0\u001b[39m:\n\u001b[0;32m   1304\u001b[0m         \u001b[38;5;28;01mraise\u001b[39;00m \u001b[38;5;167;01mValueError\u001b[39;00m(\n\u001b[0;32m   1305\u001b[0m           \u001b[38;5;124m\"\u001b[39m\u001b[38;5;124mnon-zero flags not allowed in calls to recv_into() on \u001b[39m\u001b[38;5;132;01m%s\u001b[39;00m\u001b[38;5;124m\"\u001b[39m \u001b[38;5;241m%\u001b[39m\n\u001b[0;32m   1306\u001b[0m           \u001b[38;5;28mself\u001b[39m\u001b[38;5;241m.\u001b[39m\u001b[38;5;18m__class__\u001b[39m)\n\u001b[1;32m-> 1307\u001b[0m     \u001b[38;5;28;01mreturn\u001b[39;00m \u001b[38;5;28;43mself\u001b[39;49m\u001b[38;5;241;43m.\u001b[39;49m\u001b[43mread\u001b[49m\u001b[43m(\u001b[49m\u001b[43mnbytes\u001b[49m\u001b[43m,\u001b[49m\u001b[43m \u001b[49m\u001b[43mbuffer\u001b[49m\u001b[43m)\u001b[49m\n\u001b[0;32m   1308\u001b[0m \u001b[38;5;28;01melse\u001b[39;00m:\n\u001b[0;32m   1309\u001b[0m     \u001b[38;5;28;01mreturn\u001b[39;00m \u001b[38;5;28msuper\u001b[39m()\u001b[38;5;241m.\u001b[39mrecv_into(buffer, nbytes, flags)\n",
      "File \u001b[1;32mE:\\anaconda\\envs\\myenv\\lib\\ssl.py:1163\u001b[0m, in \u001b[0;36mSSLSocket.read\u001b[1;34m(self, len, buffer)\u001b[0m\n\u001b[0;32m   1161\u001b[0m \u001b[38;5;28;01mtry\u001b[39;00m:\n\u001b[0;32m   1162\u001b[0m     \u001b[38;5;28;01mif\u001b[39;00m buffer \u001b[38;5;129;01mis\u001b[39;00m \u001b[38;5;129;01mnot\u001b[39;00m \u001b[38;5;28;01mNone\u001b[39;00m:\n\u001b[1;32m-> 1163\u001b[0m         \u001b[38;5;28;01mreturn\u001b[39;00m \u001b[38;5;28;43mself\u001b[39;49m\u001b[38;5;241;43m.\u001b[39;49m\u001b[43m_sslobj\u001b[49m\u001b[38;5;241;43m.\u001b[39;49m\u001b[43mread\u001b[49m\u001b[43m(\u001b[49m\u001b[38;5;28;43mlen\u001b[39;49m\u001b[43m,\u001b[49m\u001b[43m \u001b[49m\u001b[43mbuffer\u001b[49m\u001b[43m)\u001b[49m\n\u001b[0;32m   1164\u001b[0m     \u001b[38;5;28;01melse\u001b[39;00m:\n\u001b[0;32m   1165\u001b[0m         \u001b[38;5;28;01mreturn\u001b[39;00m \u001b[38;5;28mself\u001b[39m\u001b[38;5;241m.\u001b[39m_sslobj\u001b[38;5;241m.\u001b[39mread(\u001b[38;5;28mlen\u001b[39m)\n",
      "\u001b[1;31mKeyboardInterrupt\u001b[0m: "
     ]
    },
    {
     "name": "stderr",
     "output_type": "stream",
     "text": [
      "\n",
      " 16%|█▌        | 191M/1.18G [00:53<04:01, 4.10MB/s]\u001b[A"
     ]
    }
   ],
   "source": [
    "from torchvision import datasets, transforms\n",
    "\n",
    "data_transform = transforms.Compose([\n",
    "    transforms.Resize((224,224)),\n",
    "    transforms.ToTensor(),\n",
    "    transforms.Lambda(lambda x: x.repeat(3,1,1) if x.shape[0]==1 else x),\n",
    "    transforms.Normalize([0.48, 0.4, 0.4], [0.229, 0.224, 0.445])\n",
    "])\n",
    "\n",
    "full_data = datasets.Caltech256('./data', download=True, transform=data_transform)"
   ]
  },
  {
   "cell_type": "code",
   "execution_count": null,
   "metadata": {},
   "outputs": [],
   "source": []
  }
 ],
 "metadata": {
  "accelerator": "GPU",
  "colab": {
   "gpuType": "T4",
   "provenance": []
  },
  "kernelspec": {
   "display_name": "Python (myenv)",
   "language": "python",
   "name": "myenv"
  },
  "language_info": {
   "codemirror_mode": {
    "name": "ipython",
    "version": 3
   },
   "file_extension": ".py",
   "mimetype": "text/x-python",
   "name": "python",
   "nbconvert_exporter": "python",
   "pygments_lexer": "ipython3",
   "version": "3.10.15"
  },
  "vscode": {
   "interpreter": {
    "hash": "916dbcbb3f70747c44a77c7bcd40155683ae19c65e1c03b4aa3499c5328201f1"
   }
  }
 },
 "nbformat": 4,
 "nbformat_minor": 4
}
