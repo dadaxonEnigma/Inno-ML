{
 "cells": [
  {
   "cell_type": "markdown",
   "metadata": {
    "id": "_JIu6A55Y0x_"
   },
   "source": [
    "# Lab 6: Transformers and LLMs\n",
    "```\n",
    "- [S25] Advanced Machine Learning, Innopolis University\n",
    "- Teaching Assistant: Gcinizwe Dlamini\n",
    "```\n",
    "<hr>\n",
    "\n",
    "\n",
    "```\n",
    "Lab Plan\n",
    "1. Transformers (translation architecture)\n",
    "2. Self-Attention\n",
    "3. Multi-headed attention\n",
    "4. Positional Encoding\n",
    "5. Transfomer Encoder Part\n",
    "6. Application of Transformers\n",
    "7. Self practice tasks\n",
    "```\n",
    "\n",
    "<hr>\n"
   ]
  },
  {
   "cell_type": "markdown",
   "metadata": {
    "id": "H4VPwrSfZabH"
   },
   "source": [
    "# 1. Transformers\n",
    "\n",
    "* [Attention Is All You Need](https://arxiv.org/pdf/1706.03762.pdf) -- Original paper on attention\n",
    "\n",
    "![](http://jalammar.github.io/images/t/The_transformer_encoder_decoder_stack.png)"
   ]
  },
  {
   "cell_type": "markdown",
   "metadata": {
    "id": "oUQqqmffZmgL"
   },
   "source": [
    "## 1.1 Transfomer Encoder\n",
    "\n",
    "The encoder contains a self-attention layer – a layer that helps the encoder look at other words in the input sentence as it encodes a specific word. <br>\n",
    "PyTorch implementation : `nn.TransformerEncoder` and `nn.TransformerEncoderLayer` <br>\n",
    "**The main goal is to efficiently encode the data**\n",
    "\n",
    "  1         |  2\n",
    ":-------------------------:|:-------------------------:\n",
    "![](http://jalammar.github.io/images/t/encoder_with_tensors.png)  |  ![](http://jalammar.github.io/images/t/transformer_resideual_layer_norm_2.png)\n"
   ]
  },
  {
   "cell_type": "markdown",
   "metadata": {
    "id": "krH5CoxGdHnD"
   },
   "source": [
    "## 2. Self-Attention\n",
    "\n",
    "**Keep in mind : The main goal is to encode the data in a much more efficient way** In other words is to create meaningful embeddings<br>\n",
    "- As the model processes each word (each position in the input sequence), self attention allows it to look at other positions in the input sequence for clues that can help lead to a better encoding for this word.\n",
    "\n",
    "\n",
    "**How does Self-Attention work?**\n",
    "\n",
    "Steps:\n",
    "1. For each word, we create a **`Query`** vector, a **`Key`** vector, and a **`Value`** vector.\n",
    "  - What are the **`Query`** vector, a **`Key`** vector, and a **`Value`** vector? : They're abstractions that are useful for calculating attention... They are a breakdown of the word embeddings\n",
    "2. Calculating self-attention score from **`Query`** **`Key`** vector.\n",
    "3. Divide the scores by 8 (This leads to having more stable gradients)\n",
    "4. Pass the result through a softmax operation (softmax score determines how much each word will be expressed at this position)\n",
    "5. Multiply each value vector by the softmax score\n",
    "6. Sum up the weighted value vectors"
   ]
  },
  {
   "cell_type": "markdown",
   "metadata": {
    "id": "-H7Wxnp2eTeJ"
   },
   "source": [
    "### Step 1\n",
    "\n",
    "For each word, we create a **`Query`** vector, a **`Key`** vector, and a **`Value`** vector.\n",
    "\n",
    "![](http://jalammar.github.io/images/t/transformer_self_attention_vectors.png)"
   ]
  },
  {
   "cell_type": "code",
   "execution_count": 1,
   "metadata": {
    "id": "BI7XGeySYtV2"
   },
   "outputs": [],
   "source": [
    "import torch\n",
    "\n",
    "# simple sequence = I will pass AML midterm\n",
    "simple_sequence_embedding = torch.rand((5, 512))\n",
    "\n",
    "# Create weight matrices\n",
    "Wq = torch.normal(0,0.5, (512, 7))\n",
    "Wk = torch.normal(0,0.1, (512, 7))\n",
    "Wv = torch.normal(0,0.2, (512, 7))\n",
    "\n",
    "\n",
    "# Create key, query and value for each word in the senetence\n",
    "queries = simple_sequence_embedding @ Wq # (5, 512) @ (512, 7) = (5, 7)\n",
    "keys = simple_sequence_embedding @ Wk # (5, 512) @ (512, 7) = (5, 7)\n",
    "values = simple_sequence_embedding @ Wv# (5, 512) @ (512, 7) = (5, 7)"
   ]
  },
  {
   "cell_type": "markdown",
   "metadata": {
    "id": "6E3yaeQEed7-"
   },
   "source": [
    "### Step 2\n",
    "\n",
    "Calculating self-attention score from **`Query`** and **`Key`** vector"
   ]
  },
  {
   "cell_type": "code",
   "execution_count": 2,
   "metadata": {
    "id": "8yABUd2Qd818"
   },
   "outputs": [
    {
     "data": {
      "text/plain": [
       "tensor([[75.9083, 49.0921, 86.7839, 43.8658, 71.3354],\n",
       "        [57.8434, 45.6210, 80.5351, 33.2011, 59.9751],\n",
       "        [78.9122, 53.2926, 89.6036, 42.8810, 68.6121],\n",
       "        [57.9094, 43.7398, 77.3212, 39.5014, 69.6231],\n",
       "        [55.2869, 45.3307, 71.5603, 30.3435, 63.9426]])"
      ]
     },
     "execution_count": 2,
     "metadata": {},
     "output_type": "execute_result"
    }
   ],
   "source": [
    "scores = torch.matmul(queries, keys.T) # (5, 7) @ (5, 7).T = (5, 5)\n",
    "scores"
   ]
  },
  {
   "cell_type": "markdown",
   "metadata": {
    "id": "uPM5PoSHer3k"
   },
   "source": [
    "### Step 3\n",
    "Divide the scores by 8 (This leads to having more stable gradients)"
   ]
  },
  {
   "cell_type": "code",
   "execution_count": 3,
   "metadata": {
    "id": "Iafga235ekiK"
   },
   "outputs": [
    {
     "data": {
      "text/plain": [
       "tensor([[ 9.4885,  6.1365, 10.8480,  5.4832,  8.9169],\n",
       "        [ 7.2304,  5.7026, 10.0669,  4.1501,  7.4969],\n",
       "        [ 9.8640,  6.6616, 11.2005,  5.3601,  8.5765],\n",
       "        [ 7.2387,  5.4675,  9.6652,  4.9377,  8.7029],\n",
       "        [ 6.9109,  5.6663,  8.9450,  3.7929,  7.9928]])"
      ]
     },
     "execution_count": 3,
     "metadata": {},
     "output_type": "execute_result"
    }
   ],
   "source": [
    "# Divide the result to stabilize the gradients\n",
    "scores = scores / 8 # Divide the result by 8 to stabilize the gradients\n",
    "scores"
   ]
  },
  {
   "cell_type": "markdown",
   "metadata": {
    "id": "JsuoztzrexQU"
   },
   "source": [
    "### Step 4\n",
    "\n",
    "Pass the result through a softmax operation"
   ]
  },
  {
   "cell_type": "code",
   "execution_count": 4,
   "metadata": {
    "id": "0n5NWeN_ez_D"
   },
   "outputs": [
    {
     "data": {
      "text/plain": [
       "tensor([[0.1814, 0.0064, 0.7065, 0.0033, 0.1024],\n",
       "        [0.0510, 0.0111, 0.8691, 0.0023, 0.0665],\n",
       "        [0.1948, 0.0079, 0.7413, 0.0022, 0.0538],\n",
       "        [0.0591, 0.0101, 0.6692, 0.0059, 0.2557],\n",
       "        [0.0838, 0.0241, 0.6410, 0.0037, 0.2473]])"
      ]
     },
     "execution_count": 4,
     "metadata": {},
     "output_type": "execute_result"
    }
   ],
   "source": [
    "scores =  torch.softmax(scores, dim=1)\n",
    "scores"
   ]
  },
  {
   "cell_type": "markdown",
   "metadata": {
    "id": "6uzXnkD-e4t4"
   },
   "source": [
    "### Step 5 & 6\n",
    "\n",
    "* Multiply each value vector by the softmax score\n",
    "* Sum up the weighted value vectors\n",
    "\n"
   ]
  },
  {
   "cell_type": "code",
   "execution_count": 5,
   "metadata": {
    "id": "YpcDWsBhe6Ma"
   },
   "outputs": [],
   "source": [
    "# Multiply each value vector by the corresponding softmax score\n",
    "z = torch.matmul(scores, values)  # (5, 5) @ (5, 7) -> (5, 7)"
   ]
  },
  {
   "cell_type": "markdown",
   "metadata": {
    "id": "7_his4tXgPk1"
   },
   "source": [
    "## 3. Multi-headed attention\n",
    "\n",
    "**GOAL**:\n",
    "1. Expand the model's ability to focus on different positions\n",
    "2. Provide the attention layer multiple “representation subspaces”\n",
    "\n",
    "**Attention with $N$ just means repeating self attention algorithm $N$ times and joining the results**\n",
    "\n",
    "\n",
    "![](https://data-science-blog.com/wp-content/uploads/2022/01/mha_img_original.png)\n",
    "\n",
    "**Multi-headed attention steps:**\n",
    "1. Same as self-attention calculation, just n different times with different weight matrices\n",
    "2. Condense the $N$ z metrices down into a single matrix by concatinating the matrices then multiply them by an additional weights matrix `WO`\n",
    "\n",
    "Now the output z metrix is fed to the FFNN"
   ]
  },
  {
   "cell_type": "code",
   "execution_count": 6,
   "metadata": {
    "id": "YTwNl_mJfAot"
   },
   "outputs": [],
   "source": [
    "from torch import Tensor\n",
    "import torch.nn.functional as f\n",
    "from torch import nn\n",
    "\n",
    "\n",
    "def scaled_dot_product_attention(query, key, value):\n",
    "  temp = query.bmm(key.transpose(1, 2))\n",
    "  scale = query.size(-1) ** 0.5\n",
    "  softmax = f.softmax(temp / scale, dim=-1)\n",
    "  return softmax.bmm(value)"
   ]
  },
  {
   "cell_type": "markdown",
   "metadata": {
    "id": "pMHINHLkglES"
   },
   "source": [
    "### 3.1 Attention head"
   ]
  },
  {
   "cell_type": "code",
   "execution_count": 7,
   "metadata": {
    "id": "H2QBY47ogoEE"
   },
   "outputs": [],
   "source": [
    "class AttentionHead(nn.Module):\n",
    "    def __init__(self, dim_in, dim_q, dim_k):\n",
    "        super().__init__()\n",
    "        self.q = nn.Linear(dim_in, dim_q)  # Linear transformation for Query\n",
    "        self.k = nn.Linear(dim_in, dim_k)  # Linear transformation Key\n",
    "        self.v = nn.Linear(dim_in, dim_k)  # Linear transformation Value\n",
    "\n",
    "    def forward(self, query, key, value):\n",
    "        q = self.q(query)  \n",
    "        k = self.k(key)    \n",
    "        v = self.v(value)  \n",
    "\n",
    "        return scaled_dot_product_attention(q, k, v)"
   ]
  },
  {
   "cell_type": "markdown",
   "metadata": {
    "id": "gyi73Namg0sM"
   },
   "source": [
    "### 3.2 Multi Head Attention\n",
    "\n",
    "**Task:** Implement multi-head attention model"
   ]
  },
  {
   "cell_type": "code",
   "execution_count": 8,
   "metadata": {
    "id": "uw01PJMZg3yc"
   },
   "outputs": [],
   "source": [
    "class MultiHeadAttention(nn.Module):\n",
    "  def __init__(self, number_of_heads, dim_in, dim_q, dim_k):\n",
    "    super().__init__()\n",
    "    self.heads = nn.ModuleList([AttentionHead(dim_in, dim_q, dim_k) for _ in range(number_of_heads)])\n",
    "    self.linear = nn.Linear(number_of_heads* dim_k, dim_in)\n",
    "\n",
    "  def forward(self, query, key, value):\n",
    "    z = self.linear(torch.cat([h(query, key, value) for h in self.heads], dim=-1))\n",
    "    return z\n"
   ]
  },
  {
   "cell_type": "markdown",
   "metadata": {
    "id": "6MkY2jNhg2c7"
   },
   "source": [
    "## 4. Positional Encoding\n",
    "\n",
    "A way to account for the order of the words in the input sequence. A transformer adds a vector to each input embedding which helps it determine the position of each word. <br>\n",
    "**Goal** : preserving information about the order of tokens  \n",
    "\n",
    "Positional Encoding they can either be learned or fixed a priori.\n",
    "\n",
    "Proposed approach from original paper : describe a simple scheme for fixed positional encodings based on sine and cosine functions"
   ]
  },
  {
   "cell_type": "code",
   "execution_count": 9,
   "metadata": {
    "id": "cXIr-0-1i0zd"
   },
   "outputs": [],
   "source": [
    "def position_encoding(seq_len, dim_model, device):\n",
    "  pos = torch.arange(seq_len, dtype=torch.float, device=device).reshape(1, -1, 1)\n",
    "  dim = torch.arange(dim_model, dtype=torch.float, device=device).reshape(1, 1, -1)\n",
    "  phase = pos / (1e4 ** (dim / dim_model))\n",
    "\n",
    "  return torch.where(dim.long() % 2 == 0, torch.sin(phase), torch.cos(phase))"
   ]
  },
  {
   "cell_type": "markdown",
   "metadata": {
    "id": "vi3aQYNznBWI"
   },
   "source": [
    "![](http://jalammar.github.io/images/t/transformer_resideual_layer_norm_2.png)"
   ]
  },
  {
   "cell_type": "markdown",
   "metadata": {
    "id": "MfCA86ACnH01"
   },
   "source": [
    "## 5. Transfomer Encoder Part\n",
    "### 5.1Encoder Feed Forward"
   ]
  },
  {
   "cell_type": "code",
   "execution_count": 10,
   "metadata": {
    "id": "ee2SB_sInB59"
   },
   "outputs": [],
   "source": [
    "def feed_forward(dim_input = 512, dim_feedforward = 2048):\n",
    "  return nn.Sequential(nn.Linear(dim_input, dim_feedforward), nn.ReLU(), nn.Linear(dim_feedforward, dim_input))"
   ]
  },
  {
   "cell_type": "markdown",
   "metadata": {
    "id": "xpQAHDPbnOiA"
   },
   "source": [
    "### 5.2 Encoder Residual\n",
    "\n",
    "From the original paper the author implementation"
   ]
  },
  {
   "cell_type": "code",
   "execution_count": 11,
   "metadata": {
    "id": "j3z2wjR5nRn1"
   },
   "outputs": [],
   "source": [
    "class Residual(nn.Module):\n",
    "  def __init__(self, sublayer, dimension, dropout = 0.1):\n",
    "    super().__init__()\n",
    "    self.sublayer = sublayer\n",
    "    self.norm = nn.LayerNorm(dimension)\n",
    "    self.dropout = nn.Dropout(dropout)\n",
    "\n",
    "  def forward(self, *tensors):\n",
    "    return self.norm(tensors[0] + self.dropout(self.sublayer(*tensors)))"
   ]
  },
  {
   "cell_type": "markdown",
   "metadata": {
    "id": "zxhYxI4Fnbnc"
   },
   "source": [
    "### 5.3 Putting the Encoder layer together"
   ]
  },
  {
   "cell_type": "code",
   "execution_count": 12,
   "metadata": {
    "id": "lZz2JhflniHT"
   },
   "outputs": [],
   "source": [
    "class TransformerEncoderLayer(nn.Module):\n",
    "  def __init__(self, dim_model = 512, num_heads = 6, dim_feedforward = 2048, dropout = 0.1):\n",
    "    super().__init__()\n",
    "    dim_q = dim_k = max(dim_model // num_heads, 1)\n",
    "    self.attention = Residual(MultiHeadAttention(num_heads, dim_model, dim_q, dim_k),\n",
    "                              dimension=dim_model, dropout=dropout)\n",
    "    self.feed_forward = Residual(feed_forward(dim_model, dim_feedforward), dimension=dim_model, dropout=dropout)\n",
    "\n",
    "  def forward(self, src):\n",
    "    src = self.attention(src, src, src)\n",
    "    return self.feed_forward(src)"
   ]
  },
  {
   "cell_type": "markdown",
   "metadata": {
    "id": "oUGS-3opnlxg"
   },
   "source": [
    "## 5.4 Putting together transfomer Encoder part"
   ]
  },
  {
   "cell_type": "code",
   "execution_count": 13,
   "metadata": {
    "id": "QplT81gNnie2"
   },
   "outputs": [],
   "source": [
    "class TransformerEncoder(nn.Module):\n",
    "  def __init__(self, num_layers = 12, dim_model = 512, num_heads = 4, dim_feedforward = 2048, dropout: float = 0.1):\n",
    "    super().__init__()\n",
    "    self.layers = nn.ModuleList([TransformerEncoderLayer(dim_model, num_heads, dim_feedforward, dropout) for _ in range(num_layers) ])\n",
    "\n",
    "  def forward(self, src):\n",
    "    seq_len, dimension = src.size(1), src.size(2)\n",
    "    src += position_encoding(seq_len, dimension)\n",
    "    for layer in self.layers:\n",
    "      src = layer(src)\n",
    "\n",
    "    return src"
   ]
  },
  {
   "cell_type": "markdown",
   "metadata": {
    "id": "GuafKkNanzV3"
   },
   "source": [
    "# The Decoder Side\n",
    "\n",
    "The encoder start by processing the input sequence. The output of the top encoder is then transformed into a set of attention vectors K and V. These are to be used by each decoder.\n",
    "\n",
    "The “Encoder-Decoder Attention” layer works just like multiheaded self-attention, except it creates its Queries matrix from the layer below it, and takes the `Keys` and `Values` matrix from the output of the encoder stack.\n",
    "\n",
    "![](https://jalammar.github.io/images/t/transformer_resideual_layer_norm_3.png)\n"
   ]
  },
  {
   "cell_type": "markdown",
   "metadata": {
    "id": "fjwjs_zzn5Le"
   },
   "source": [
    "## Decoder layer\n",
    "\n",
    "\n",
    "\n",
    "**Task**: implement the decoder layer"
   ]
  },
  {
   "cell_type": "code",
   "execution_count": 14,
   "metadata": {
    "id": "ZfrwtIdOn1pT"
   },
   "outputs": [],
   "source": [
    "class DecoderLayer(nn.Module):\n",
    "    def __init__(self, dim_model=512, num_heads=8, dim_feedforward=2048, dropout=0.1):\n",
    "        super().__init__()\n",
    "        dim_q = dim_k = max(dim_model // num_heads, 1)\n",
    "\n",
    "        # Masked Multi-Head Attention (for Decoder)\n",
    "        self.masked_attention = Residual(\n",
    "            MultiHeadAttention(num_heads, dim_model, dim_q, dim_k),\n",
    "            dimension=dim_model, dropout=dropout\n",
    "        )\n",
    "\n",
    "        # Encoder-Decoder Attention\n",
    "        self.encoder_decoder_attention = Residual(\n",
    "            MultiHeadAttention(num_heads, dim_model, dim_q, dim_k),\n",
    "            dimension=dim_model, dropout=dropout\n",
    "        )\n",
    "\n",
    "        # Feed Forward Network\n",
    "        self.feed_forward = Residual(\n",
    "            feed_forward(dim_model, dim_feedforward),\n",
    "            dimension=dim_model, dropout=dropout\n",
    "        )\n",
    "\n",
    "    def forward(self, tgt, memory):\n",
    "        # Masked attention for the decoder\n",
    "        tgt = self.masked_attention(tgt, tgt, tgt)\n",
    "        \n",
    "        # Encoder-Decoder Attention: tgt - это Queries, memory - это Keys и Values\n",
    "        tgt = self.encoder_decoder_attention(tgt, memory, memory)\n",
    "        \n",
    "        return self.feed_forward(tgt)\n"
   ]
  },
  {
   "cell_type": "markdown",
   "metadata": {
    "id": "5nafOjPVpsDR"
   },
   "source": [
    "## 6. Application of Transfomers\n",
    "\n",
    "We will look at sentiment analysis"
   ]
  },
  {
   "cell_type": "code",
   "execution_count": 15,
   "metadata": {},
   "outputs": [
    {
     "name": "stdout",
     "output_type": "stream",
     "text": [
      "Requirement already satisfied: transformers in e:\\anaconda\\envs\\myenv\\lib\\site-packages (4.49.0)\n",
      "Requirement already satisfied: filelock in e:\\anaconda\\envs\\myenv\\lib\\site-packages (from transformers) (3.13.1)\n",
      "Requirement already satisfied: huggingface-hub<1.0,>=0.26.0 in e:\\anaconda\\envs\\myenv\\lib\\site-packages (from transformers) (0.29.3)\n",
      "Requirement already satisfied: numpy>=1.17 in e:\\anaconda\\envs\\myenv\\lib\\site-packages (from transformers) (1.26.4)\n",
      "Requirement already satisfied: packaging>=20.0 in c:\\users\\user\\appdata\\roaming\\python\\python310\\site-packages (from transformers) (24.0)\n",
      "Requirement already satisfied: pyyaml>=5.1 in e:\\anaconda\\envs\\myenv\\lib\\site-packages (from transformers) (6.0.2)\n",
      "Requirement already satisfied: regex!=2019.12.17 in e:\\anaconda\\envs\\myenv\\lib\\site-packages (from transformers) (2024.11.6)\n",
      "Requirement already satisfied: requests in e:\\anaconda\\envs\\myenv\\lib\\site-packages (from transformers) (2.32.3)\n",
      "Requirement already satisfied: tokenizers<0.22,>=0.21 in e:\\anaconda\\envs\\myenv\\lib\\site-packages (from transformers) (0.21.0)\n",
      "Requirement already satisfied: safetensors>=0.4.1 in e:\\anaconda\\envs\\myenv\\lib\\site-packages (from transformers) (0.5.3)\n",
      "Requirement already satisfied: tqdm>=4.27 in e:\\anaconda\\envs\\myenv\\lib\\site-packages (from transformers) (4.66.5)\n",
      "Requirement already satisfied: fsspec>=2023.5.0 in e:\\anaconda\\envs\\myenv\\lib\\site-packages (from huggingface-hub<1.0,>=0.26.0->transformers) (2024.10.0)\n",
      "Requirement already satisfied: typing-extensions>=3.7.4.3 in c:\\users\\user\\appdata\\roaming\\python\\python310\\site-packages (from huggingface-hub<1.0,>=0.26.0->transformers) (4.11.0)\n",
      "Requirement already satisfied: colorama in c:\\users\\user\\appdata\\roaming\\python\\python310\\site-packages (from tqdm>=4.27->transformers) (0.4.6)\n",
      "Requirement already satisfied: charset-normalizer<4,>=2 in e:\\anaconda\\envs\\myenv\\lib\\site-packages (from requests->transformers) (3.3.2)\n",
      "Requirement already satisfied: idna<4,>=2.5 in e:\\anaconda\\envs\\myenv\\lib\\site-packages (from requests->transformers) (3.7)\n",
      "Requirement already satisfied: urllib3<3,>=1.21.1 in e:\\anaconda\\envs\\myenv\\lib\\site-packages (from requests->transformers) (2.2.3)\n",
      "Requirement already satisfied: certifi>=2017.4.17 in e:\\anaconda\\envs\\myenv\\lib\\site-packages (from requests->transformers) (2025.1.31)\n",
      "Note: you may need to restart the kernel to use updated packages.\n"
     ]
    }
   ],
   "source": [
    "%pip install transformers\n"
   ]
  },
  {
   "cell_type": "code",
   "execution_count": 16,
   "metadata": {
    "id": "_mcCQsUQp4-u"
   },
   "outputs": [],
   "source": [
    "import transformers\n",
    "\n",
    "class Transformer(nn.Module):\n",
    "\n",
    "  def __init__(self, output_dim):\n",
    "    super().__init__()\n",
    "    self.transformer = transformers.AutoModel.from_pretrained('bert-base-uncased')\n",
    "    for param in self.transformer.parameters():\n",
    "        param.requires_grad = False\n",
    "\n",
    "    hidden_dim = self.transformer.config.hidden_size\n",
    "    self.fc = nn.Linear(hidden_dim, output_dim)\n",
    "\n",
    "\n",
    "  def forward(self, text):\n",
    "    # text = [batch size, seq len]\n",
    "    output = self.transformer(text, output_attentions=True)\n",
    "    hidden = output.last_hidden_state\n",
    "    # hidden = [batch size, seq len, hidden dim]\n",
    "    attention = output.attentions[-1]\n",
    "    # attention = [batch size, n heads, seq len, seq len]\n",
    "    cls_hidden = hidden[:, 0, :]\n",
    "    prediction = self.fc(torch.tanh(cls_hidden))\n",
    "\n",
    "    return prediction"
   ]
  },
  {
   "cell_type": "markdown",
   "metadata": {
    "id": "GqLHQt0iog5v"
   },
   "source": [
    "## 7. Tasks\n",
    "\n",
    "```\n",
    "Task 1\n",
    "- Using the above implementation code the decoder layer and assemble a full transformer model\n",
    "```\n",
    "\n",
    "<hr>\n",
    "\n",
    "```\n",
    "Task 2\n",
    "- Implement, train and test a Transfomer model (use pytorch layers)for Part-of-speech tagging task.\n",
    "```\n",
    "\n",
    "**Task 2 Datasets**: [Train](https://www.dropbox.com/s/x9n6f9o9jl7pno8/train_pos.txt?dl=1), [Test](https://www.dropbox.com/s/v8nccvq7jewcl8s/test_pos.txt?dl=1)\n"
   ]
  },
  {
   "cell_type": "code",
   "execution_count": 17,
   "metadata": {
    "id": "H9m7y3Eur0Dh"
   },
   "outputs": [],
   "source": [
    "class DecoderLayer(nn.Module):\n",
    "    def __init__(self, dim_model=512, num_heads=8, dim_feedforward=2048, dropout=0.1):\n",
    "        super().__init__()\n",
    "        dim_q = dim_k = max(dim_model // num_heads, 1)\n",
    "\n",
    "        # Masked Multi-Head Attention (для автокоррекции в декодере)\n",
    "        self.masked_attention = Residual(\n",
    "            MultiHeadAttention(num_heads, dim_model, dim_q, dim_k),\n",
    "            dimension=dim_model, dropout=dropout\n",
    "        )\n",
    "        self.norm1 = nn.LayerNorm(dim_model)  # Нормализация\n",
    "\n",
    "        # Encoder-Decoder Attention\n",
    "        self.encoder_decoder_attention = Residual(\n",
    "            MultiHeadAttention(num_heads, dim_model, dim_q, dim_k),\n",
    "            dimension=dim_model, dropout=dropout\n",
    "        )\n",
    "        self.norm2 = nn.LayerNorm(dim_model)\n",
    "\n",
    "        # Feed Forward Network\n",
    "        self.feed_forward = Residual(\n",
    "            feed_forward(dim_model, dim_feedforward),\n",
    "            dimension=dim_model, dropout=dropout\n",
    "        )\n",
    "        self.norm3 = nn.LayerNorm(dim_model)\n",
    "\n",
    "    def forward(self, tgt, memory, tgt_mask=None):\n",
    "        # Masked attention для декодера (применяем маску)\n",
    "        tgt = self.norm1(tgt + self.masked_attention(tgt, tgt, tgt, mask=tgt_mask))\n",
    "\n",
    "        # Encoder-Decoder Attention\n",
    "        tgt = self.norm2(tgt + self.encoder_decoder_attention(tgt, memory, memory))\n",
    "\n",
    "        # Feed Forward Network\n",
    "        return self.norm3(tgt + self.feed_forward(tgt))\n"
   ]
  },
  {
   "cell_type": "code",
   "execution_count": 18,
   "metadata": {},
   "outputs": [],
   "source": [
    "class Transformer(nn.Module):\n",
    "    def __init__(self, input_dim, output_dim, num_heads=8, num_layers=6, dim_model=512, dim_feedforward=2048, dropout=0.1):\n",
    "        super().__init__()\n",
    "        self.encoder = TransformerEncoder(num_layers, dim_model, num_heads, dim_feedforward, dropout)\n",
    "        \n",
    "        # Используем несколько слоёв декодера\n",
    "        self.decoder_layers = nn.ModuleList([\n",
    "            DecoderLayer(dim_model, num_heads, dim_feedforward, dropout) for _ in range(num_layers)\n",
    "        ])\n",
    "        \n",
    "        self.fc_out = nn.Linear(dim_model, output_dim)\n",
    "\n",
    "    def forward(self, src, tgt, tgt_mask=None):\n",
    "        # Кодировщик\n",
    "        memory = self.encoder(src)\n",
    "\n",
    "        # Последовательное пропускание через декодер\n",
    "        for layer in self.decoder_layers:\n",
    "            tgt = layer(tgt, memory, tgt_mask)\n",
    "\n",
    "        return self.fc_out(tgt)\n"
   ]
  },
  {
   "cell_type": "markdown",
   "metadata": {},
   "source": [
    "## Task 2 "
   ]
  },
  {
   "cell_type": "code",
   "execution_count": 29,
   "metadata": {},
   "outputs": [
    {
     "name": "stdout",
     "output_type": "stream",
     "text": [
      "Example data:\n",
      "['Confidence', 'in', 'the', 'pound', 'is', 'widely', 'expected', 'to', 'take', 'another', 'sharp', 'dive', 'if', 'trade', 'figures', 'for', 'September', ',', 'due', 'for', 'release', 'tomorrow', ',', 'fail', 'to', 'show', 'a', 'substantial', 'improvement', 'from', 'July', 'and', 'August', \"'s\", 'near-record', 'deficits', '.']\n",
      "['NN', 'IN', 'DT', 'NN', 'VBZ', 'RB', 'VBN', 'TO', 'VB', 'DT', 'JJ', 'NN', 'IN', 'NN', 'NNS', 'IN', 'NNP', ',', 'JJ', 'IN', 'NN', 'NN', ',', 'VB', 'TO', 'VB', 'DT', 'JJ', 'NN', 'IN', 'NNP', 'CC', 'NNP', 'POS', 'JJ', 'NNS', '.']\n"
     ]
    }
   ],
   "source": [
    "from collections import defaultdict\n",
    "\n",
    "def load_data(filename):\n",
    "    sentences, tags = [], []\n",
    "    with open(filename, \"r\", encoding=\"utf-8\") as f:\n",
    "        sentence, tag_seq = [], []\n",
    "        for line in f:\n",
    "            line = line.strip()\n",
    "            if line:\n",
    "                word, tag = line.split()\n",
    "                sentence.append(word)\n",
    "                tag_seq.append(tag)\n",
    "            else:\n",
    "                sentences.append(sentence)\n",
    "                tags.append(tag_seq)\n",
    "                sentence, tag_seq = [], []\n",
    "    return sentences, tags\n",
    "\n",
    "train_sentences, train_tags = load_data(\"train_pos.txt\")\n",
    "test_sentences, test_tags = load_data(\"test_pos.txt\")\n",
    "\n",
    "print(\"Example data:\")\n",
    "print(train_sentences[0])\n",
    "print(train_tags[0])"
   ]
  },
  {
   "cell_type": "code",
   "execution_count": 20,
   "metadata": {},
   "outputs": [
    {
     "name": "stdout",
     "output_type": "stream",
     "text": [
      "Размер словаря слов: 19124\n",
      "Размер словаря тегов: 45\n"
     ]
    }
   ],
   "source": [
    "# Creating dictionaries of tokens and tags\n",
    "word_to_idx = defaultdict(lambda: len(word_to_idx))\n",
    "tag_to_idx = defaultdict(lambda: len(tag_to_idx))\n",
    "\n",
    "# Adding special tokens\n",
    "word_to_idx[\"<PAD>\"], word_to_idx[\"<UNK>\"] = 0, 1\n",
    "tag_to_idx[\"<PAD>\"] = 0\n",
    "\n",
    "# Filling in dictionaries\n",
    "for sentence, tags in zip(train_sentences, train_tags):\n",
    "    for word, tag in zip(sentence, tags):\n",
    "        word_to_idx[word]\n",
    "        tag_to_idx[tag]\n",
    "\n",
    "# Reverse dictionaries for decoding\n",
    "idx_to_word = {v: k for k, v in word_to_idx.items()}\n",
    "idx_to_tag = {v: k for k, v in tag_to_idx.items()}\n",
    "\n",
    "print(\"Word Dictionary Size:\", len(word_to_idx))\n",
    "print(\"Size of the tag dictionary:\", len(tag_to_idx))\n"
   ]
  },
  {
   "cell_type": "code",
   "execution_count": 21,
   "metadata": {},
   "outputs": [],
   "source": [
    "from torch.utils.data import Dataset, DataLoader\n",
    "class POSTaggingDataset(Dataset):\n",
    "    def __init__(self, sentences, tags, word_to_idx, tag_to_idx, max_len=100):\n",
    "        self.sentences = [[word_to_idx.get(word, word_to_idx[\"<UNK>\"]) for word in sent] for sent in sentences]\n",
    "        self.tags = [[tag_to_idx[tag] for tag in tag_seq] for tag_seq in tags]\n",
    "        self.max_len = max_len  # Maximum sentence length\n",
    "        self.pad_idx = word_to_idx[\"<PAD>\"]\n",
    "        self.tag_pad_idx = tag_to_idx[\"<PAD>\"]\n",
    "\n",
    "    def __len__(self):\n",
    "        return len(self.sentences)\n",
    "\n",
    "    def __getitem__(self, idx):\n",
    "        sent, tag_seq = self.sentences[idx], self.tags[idx]\n",
    "\n",
    "        # Padding до max_len\n",
    "        pad_length = self.max_len - len(sent)\n",
    "        if pad_length > 0:\n",
    "            sent += [self.pad_idx] * pad_length\n",
    "            tag_seq += [self.tag_pad_idx] * pad_length\n",
    "        else:\n",
    "            sent = sent[:self.max_len]\n",
    "            tag_seq = tag_seq[:self.max_len]\n",
    "\n",
    "        return torch.tensor(sent), torch.tensor(tag_seq)"
   ]
  },
  {
   "cell_type": "code",
   "execution_count": 22,
   "metadata": {},
   "outputs": [],
   "source": [
    "def get_dataloader(sentences, tags, word_to_idx, tag_to_idx, batch_size=32, max_len=100):\n",
    "    dataset = POSTaggingDataset(sentences, tags, word_to_idx, tag_to_idx, max_len)\n",
    "    return DataLoader(dataset, batch_size=batch_size, shuffle=True)\n",
    "\n",
    "# Creating DataLoaders\n",
    "train_loader = get_dataloader(train_sentences, train_tags, word_to_idx, tag_to_idx, batch_size=32)\n",
    "test_loader = get_dataloader(test_sentences, test_tags, word_to_idx, tag_to_idx, batch_size=32)\n"
   ]
  },
  {
   "cell_type": "code",
   "execution_count": 23,
   "metadata": {},
   "outputs": [
    {
     "name": "stdout",
     "output_type": "stream",
     "text": [
      "Пример батча предложений (слов): torch.Size([32, 100])\n",
      "Пример батча тегов: torch.Size([32, 100])\n"
     ]
    }
   ],
   "source": [
    "# Let's check what the batch files look like\n",
    "for batch in train_loader:\n",
    "    sample_sentences, sample_tags = batch\n",
    "    print(\"Example of a batch of sentences (words):\", sample_sentences.shape)\n",
    "    print(\"Example of a tag batch:\", sample_tags.shape)\n",
    "    break"
   ]
  },
  {
   "cell_type": "code",
   "execution_count": 24,
   "metadata": {},
   "outputs": [],
   "source": [
    "class TransformerPOSTagger(nn.Module):\n",
    "    def __init__(self, vocab_size, tagset_size, embed_dim=128, hidden_dim=256, num_heads=4, num_layers=2, dropout=0.1):\n",
    "        super().__init__()\n",
    "        self.embedding = nn.Embedding(vocab_size, embed_dim, padding_idx=0)  # Embedding layer\n",
    "        self.pos_encoder = nn.TransformerEncoder(\n",
    "            nn.TransformerEncoderLayer(d_model=embed_dim, nhead=num_heads, dim_feedforward=hidden_dim, dropout=dropout),\n",
    "            num_layers=num_layers\n",
    "        )\n",
    "        self.fc = nn.Linear(embed_dim, tagset_size)  # Output layer for tag prediction\n",
    "\n",
    "    def forward(self, x):\n",
    "        x = self.embedding(x)  # Converting word indexes to vectors\n",
    "        x = self.pos_encoder(x)  # Processing via Transformer\n",
    "        x = self.fc(x)  # Running it through the Linear layer\n",
    "        return x  # Returning logits (without softmax)\n"
   ]
  },
  {
   "cell_type": "code",
   "execution_count": 25,
   "metadata": {},
   "outputs": [],
   "source": [
    "import torch.optim as optim\n",
    "\n",
    "EPOCHS = 10\n",
    "LR = 1e-4\n",
    "DEVICE = torch.device(\"cuda\" if torch.cuda.is_available() else \"cpu\")\n",
    "\n",
    "# Creating a model\n",
    "model = TransformerPOSTagger(vocab_size=len(word_to_idx), tagset_size=len(tag_to_idx)).to(DEVICE)\n",
    "\n",
    "# Loss function and optimizer\n",
    "criterion = nn.CrossEntropyLoss(ignore_index=tag_to_idx[\"<PAD>\"])  # Ignore paddings\n",
    "optimizer = optim.AdamW(model.parameters(), lr=LR)\n",
    "\n",
    "# Training function\n",
    "def train(model, dataloader, optimizer, criterion, device):\n",
    "    model.train()\n",
    "    total_loss = 0\n",
    "\n",
    "    for batch in dataloader:\n",
    "        sentences, tags = batch\n",
    "        sentences, tags = sentences.to(device), tags.to(device)\n",
    "\n",
    "        optimizer.zero_grad()\n",
    "        outputs = model(sentences)  # [batch_size, seq_len, num_tags]\n",
    "\n",
    "        loss = criterion(outputs.view(-1, outputs.shape[-1]), tags.view(-1))  # CrossEntropy requires [batch*num_words, num_tags]\n",
    "        loss.backward()\n",
    "        optimizer.step()\n",
    "\n",
    "        total_loss += loss.item()\n",
    "\n",
    "    return total_loss / len(dataloader)"
   ]
  },
  {
   "cell_type": "code",
   "execution_count": 26,
   "metadata": {},
   "outputs": [],
   "source": [
    "def evaluate(model, dataloader, criterion, device):\n",
    "    model.eval()\n",
    "    total_loss = 0\n",
    "    correct, total = 0, 0\n",
    "\n",
    "    with torch.no_grad():\n",
    "        for batch in dataloader:\n",
    "            sentences, tags = batch\n",
    "            sentences, tags = sentences.to(device), tags.to(device)\n",
    "\n",
    "            outputs = model(sentences)  # [batch_size, seq_len, num_tags]\n",
    "            loss = criterion(outputs.view(-1, outputs.shape[-1]), tags.view(-1))\n",
    "\n",
    "            total_loss += loss.item()\n",
    "\n",
    "            # Подсчёт accuracy\n",
    "            predictions = outputs.argmax(dim=-1)  # We take the indexes with the maximum value (predicted tags)\n",
    "            mask = tags != tag_to_idx[\"<PAD>\"]  # Removing paddings\n",
    "            correct += (predictions[mask] == tags[mask]).sum().item()\n",
    "            total += mask.sum().item()\n",
    "\n",
    "    accuracy = correct / total\n",
    "    return total_loss / len(dataloader), accuracy"
   ]
  },
  {
   "cell_type": "code",
   "execution_count": 27,
   "metadata": {},
   "outputs": [
    {
     "name": "stdout",
     "output_type": "stream",
     "text": [
      "Epoch 1/10 - Train Loss: 2.3247 | Val Loss: 1.6798 | Val Acc: 0.5193\n",
      "Epoch 2/10 - Train Loss: 1.4555 | Val Loss: 1.3352 | Val Acc: 0.6026\n",
      "Epoch 3/10 - Train Loss: 1.2067 | Val Loss: 1.1718 | Val Acc: 0.6555\n",
      "Epoch 4/10 - Train Loss: 1.0624 | Val Loss: 1.0216 | Val Acc: 0.6926\n",
      "Epoch 5/10 - Train Loss: 0.9528 | Val Loss: 0.9263 | Val Acc: 0.7247\n",
      "Epoch 6/10 - Train Loss: 0.8623 | Val Loss: 0.8384 | Val Acc: 0.7563\n",
      "Epoch 7/10 - Train Loss: 0.7869 | Val Loss: 0.7645 | Val Acc: 0.7799\n",
      "Epoch 8/10 - Train Loss: 0.7241 | Val Loss: 0.7128 | Val Acc: 0.7932\n",
      "Epoch 9/10 - Train Loss: 0.6725 | Val Loss: 0.6684 | Val Acc: 0.8070\n",
      "Epoch 10/10 - Train Loss: 0.6290 | Val Loss: 0.6338 | Val Acc: 0.8168\n"
     ]
    },
    {
     "data": {
      "image/png": "[encoded data removed]",
      "text/plain": [
       "<Figure size 1200x500 with 2 Axes>"
      ]
     },
     "metadata": {},
     "output_type": "display_data"
    }
   ],
   "source": [
    "import matplotlib.pyplot as plt\n",
    "%matplotlib inline\n",
    "import os\n",
    "os.environ[\"KMP_DUPLICATE_LIB_OK\"]=\"TRUE\"\n",
    "\n",
    "# Graphs for visualizing loss and accuracy\n",
    "train_losses, val_losses, val_accuracies = [], [], []\n",
    "\n",
    "for epoch in range(EPOCHS):\n",
    "    train_loss = train(model, train_loader, optimizer, criterion, DEVICE)\n",
    "    val_loss, val_acc = evaluate(model, test_loader, criterion, DEVICE)\n",
    "\n",
    "    train_losses.append(train_loss)\n",
    "    val_losses.append(val_loss)\n",
    "    val_accuracies.append(val_acc)\n",
    "\n",
    "    print(f\"Epoch {epoch+1}/{EPOCHS} - Train Loss: {train_loss:.4f} | Val Loss: {val_loss:.4f} | Val Acc: {val_acc:.4f}\")\n",
    "\n",
    "# Visualization\n",
    "plt.figure(figsize=(12, 5))\n",
    "plt.subplot(1, 2, 1)\n",
    "plt.plot(range(1, EPOCHS + 1), train_losses, label=\"Train Loss\")\n",
    "plt.plot(range(1, EPOCHS + 1), val_losses, label=\"Val Loss\")\n",
    "plt.xlabel('Epochs')\n",
    "plt.ylabel('Loss')\n",
    "plt.legend()\n",
    "\n",
    "plt.subplot(1, 2, 2)\n",
    "plt.plot(range(1, EPOCHS + 1), val_accuracies, label=\"Val Accuracy\")\n",
    "plt.xlabel('Epochs')\n",
    "plt.ylabel('Accuracy')\n",
    "plt.legend()\n",
    "\n",
    "plt.show()\n"
   ]
  },
  {
   "cell_type": "code",
   "execution_count": 28,
   "metadata": {},
   "outputs": [
    {
     "name": "stdout",
     "output_type": "stream",
     "text": [
      "Sentence: ['Rockwell', 'said', 'the', 'agreement', 'calls']\n",
      "Predicted Tags: ['NNP', 'VBD', 'DT', 'NN', 'NNP']\n"
     ]
    }
   ],
   "source": [
    "def predict(model, sentence, word_to_idx, idx_to_tag, device):\n",
    "    model.eval()\n",
    "    tokens = [word_to_idx.get(word, word_to_idx[\"<UNK>\"]) for word in sentence]\n",
    "    input_tensor = torch.tensor(tokens).unsqueeze(0).to(device)  # Adding batch dim\n",
    "    with torch.no_grad():\n",
    "        output = model(input_tensor)\n",
    "        predictions = output.argmax(dim=-1).squeeze(0)  # Taking the most likely tags\n",
    "    return [idx_to_tag[idx.item()] for idx in predictions]\n",
    "\n",
    "# Checking predictions\n",
    "test_sentence = [\"Rockwell\", \"said\", \"the\", 'agreement', 'calls']\n",
    "predicted_tags = predict(model, test_sentence, word_to_idx, idx_to_tag, DEVICE)\n",
    "\n",
    "print(\"Sentence:\", test_sentence)\n",
    "print(\"Predicted Tags:\", predicted_tags)\n"
   ]
  }
 ],
 "metadata": {
  "colab": {
   "provenance": []
  },
  "kernelspec": {
   "display_name": "myenv",
   "language": "python",
   "name": "menv"
  },
  "language_info": {
   "codemirror_mode": {
    "name": "ipython",
    "version": 3
   },
   "file_extension": ".py",
   "mimetype": "text/x-python",
   "name": "python",
   "nbconvert_exporter": "python",
   "pygments_lexer": "ipython3",
   "version": "3.10.8"
  }
 },
 "nbformat": 4,
 "nbformat_minor": 4
}
