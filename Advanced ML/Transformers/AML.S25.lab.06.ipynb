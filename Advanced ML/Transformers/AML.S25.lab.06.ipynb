{
 "cells": [
  {
   "cell_type": "markdown",
   "metadata": {
    "id": "_JIu6A55Y0x_"
   },
   "source": [
    "# Lab 6: Transformers and LLMs\n",
    "```\n",
    "- [S25] Advanced Machine Learning, Innopolis University\n",
    "- Teaching Assistant: Gcinizwe Dlamini\n",
    "```\n",
    "<hr>\n",
    "\n",
    "\n",
    "```\n",
    "Lab Plan\n",
    "1. Transformers (translation architecture)\n",
    "2. Self-Attention\n",
    "3. Multi-headed attention\n",
    "4. Positional Encoding\n",
    "5. Transfomer Encoder Part\n",
    "6. Application of Transformers\n",
    "7. Self practice tasks\n",
    "```\n",
    "\n",
    "<hr>\n"
   ]
  },
  {
   "cell_type": "markdown",
   "metadata": {
    "id": "H4VPwrSfZabH"
   },
   "source": [
    "# 1. Transformers\n",
    "\n",
    "* [Attention Is All You Need](https://arxiv.org/pdf/1706.03762.pdf) -- Original paper on attention\n",
    "\n",
    "![](http://jalammar.github.io/images/t/The_transformer_encoder_decoder_stack.png)"
   ]
  },
  {
   "cell_type": "markdown",
   "metadata": {
    "id": "oUQqqmffZmgL"
   },
   "source": [
    "## 1.1 Transfomer Encoder\n",
    "\n",
    "The encoder contains a self-attention layer – a layer that helps the encoder look at other words in the input sentence as it encodes a specific word. <br>\n",
    "PyTorch implementation : `nn.TransformerEncoder` and `nn.TransformerEncoderLayer` <br>\n",
    "**The main goal is to efficiently encode the data**\n",
    "\n",
    "  1         |  2\n",
    ":-------------------------:|:-------------------------:\n",
    "![](http://jalammar.github.io/images/t/encoder_with_tensors.png)  |  ![](http://jalammar.github.io/images/t/transformer_resideual_layer_norm_2.png)\n"
   ]
  },
  {
   "cell_type": "markdown",
   "metadata": {
    "id": "krH5CoxGdHnD"
   },
   "source": [
    "## 2. Self-Attention\n",
    "\n",
    "**Keep in mind : The main goal is to encode the data in a much more efficient way** In other words is to create meaningful embeddings<br>\n",
    "- As the model processes each word (each position in the input sequence), self attention allows it to look at other positions in the input sequence for clues that can help lead to a better encoding for this word.\n",
    "\n",
    "\n",
    "**How does Self-Attention work?**\n",
    "\n",
    "Steps:\n",
    "1. For each word, we create a **`Query`** vector, a **`Key`** vector, and a **`Value`** vector.\n",
    "  - What are the **`Query`** vector, a **`Key`** vector, and a **`Value`** vector? : They're abstractions that are useful for calculating attention... They are a breakdown of the word embeddings\n",
    "2. Calculating self-attention score from **`Query`** **`Key`** vector.\n",
    "3. Divide the scores by 8 (This leads to having more stable gradients)\n",
    "4. Pass the result through a softmax operation (softmax score determines how much each word will be expressed at this position)\n",
    "5. Multiply each value vector by the softmax score\n",
    "6. Sum up the weighted value vectors"
   ]
  },
  {
   "cell_type": "markdown",
   "metadata": {
    "id": "-H7Wxnp2eTeJ"
   },
   "source": [
    "### Step 1\n",
    "\n",
    "For each word, we create a **`Query`** vector, a **`Key`** vector, and a **`Value`** vector.\n",
    "\n",
    "![](http://jalammar.github.io/images/t/transformer_self_attention_vectors.png)"
   ]
  },
  {
   "cell_type": "code",
   "execution_count": 1,
   "metadata": {
    "id": "BI7XGeySYtV2"
   },
   "outputs": [],
   "source": [
    "import torch\n",
    "\n",
    "# simple sequence = I will pass AML midterm\n",
    "simple_sequence_embedding = torch.rand((5, 512))\n",
    "\n",
    "# Create weight matrices\n",
    "Wq = torch.normal(0,0.5, (512, 7))\n",
    "Wk = torch.normal(0,0.1, (512, 7))\n",
    "Wv = torch.normal(0,0.2, (512, 7))\n",
    "\n",
    "\n",
    "# Create key, query and value for each word in the senetence\n",
    "queries = simple_sequence_embedding @ Wq # (5, 512) @ (512, 7) = (5, 7)\n",
    "keys = simple_sequence_embedding @ Wk # (5, 512) @ (512, 7) = (5, 7)\n",
    "values = simple_sequence_embedding @ Wv# (5, 512) @ (512, 7) = (5, 7)"
   ]
  },
  {
   "cell_type": "markdown",
   "metadata": {
    "id": "6E3yaeQEed7-"
   },
   "source": [
    "### Step 2\n",
    "\n",
    "Calculating self-attention score from **`Query`** and **`Key`** vector"
   ]
  },
  {
   "cell_type": "code",
   "execution_count": 2,
   "metadata": {
    "id": "8yABUd2Qd818"
   },
   "outputs": [
    {
     "data": {
      "text/plain": [
       "tensor([[-10.2264, -38.4249,  -4.4373, -36.7984, -36.3380],\n",
       "        [-16.3617, -25.3481,  -6.0481, -38.8037, -35.3986],\n",
       "        [-24.5571, -40.8960, -12.1657, -64.3527, -42.7539],\n",
       "        [-13.4427, -34.4612, -12.9985, -48.1787, -38.3386],\n",
       "        [-11.5817, -35.6553,  -2.3780, -41.0603, -46.9878]])"
      ]
     },
     "execution_count": 2,
     "metadata": {},
     "output_type": "execute_result"
    }
   ],
   "source": [
    "scores = torch.matmul(queries, keys.T) # (5, 7) @ (5, 7).T = (5, 5)\n",
    "scores"
   ]
  },
  {
   "cell_type": "markdown",
   "metadata": {
    "id": "uPM5PoSHer3k"
   },
   "source": [
    "### Step 3\n",
    "Divide the scores by 8 (This leads to having more stable gradients)"
   ]
  },
  {
   "cell_type": "code",
   "execution_count": 4,
   "metadata": {
    "id": "Iafga235ekiK"
   },
   "outputs": [
    {
     "data": {
      "text/plain": [
       "tensor([[-0.4832, -1.8154, -0.2096, -1.7386, -1.7168],\n",
       "        [-0.7730, -1.1976, -0.2857, -1.8333, -1.6724],\n",
       "        [-1.1602, -1.9322, -0.5748, -3.0404, -2.0199],\n",
       "        [-0.6351, -1.6281, -0.6141, -2.2762, -1.8113],\n",
       "        [-0.5472, -1.6846, -0.1123, -1.9399, -2.2200]])"
      ]
     },
     "execution_count": 4,
     "metadata": {},
     "output_type": "execute_result"
    }
   ],
   "source": [
    "# Divide the result to stabilize the gradients\n",
    "scores = scores / 8 # Divide the result by 8 to stabilize the gradients\n",
    "scores"
   ]
  },
  {
   "cell_type": "markdown",
   "metadata": {
    "id": "JsuoztzrexQU"
   },
   "source": [
    "### Step 4\n",
    "\n",
    "Pass the result through a softmax operation"
   ]
  },
  {
   "cell_type": "code",
   "execution_count": 5,
   "metadata": {
    "id": "0n5NWeN_ez_D"
   },
   "outputs": [
    {
     "data": {
      "text/plain": [
       "tensor([[0.3170, 0.0836, 0.4167, 0.0903, 0.0923],\n",
       "        [0.2478, 0.1621, 0.4034, 0.0858, 0.1008],\n",
       "        [0.2608, 0.1205, 0.4684, 0.0398, 0.1104],\n",
       "        [0.3456, 0.1280, 0.3529, 0.0670, 0.1066],\n",
       "        [0.3029, 0.0971, 0.4679, 0.0752, 0.0569]])"
      ]
     },
     "execution_count": 5,
     "metadata": {},
     "output_type": "execute_result"
    }
   ],
   "source": [
    "scores =  torch.softmax(scores, dim=1)\n",
    "scores"
   ]
  },
  {
   "cell_type": "markdown",
   "metadata": {
    "id": "6uzXnkD-e4t4"
   },
   "source": [
    "### Step 5 & 6\n",
    "\n",
    "* Multiply each value vector by the softmax score\n",
    "* Sum up the weighted value vectors\n",
    "\n"
   ]
  },
  {
   "cell_type": "code",
   "execution_count": 6,
   "metadata": {
    "id": "YpcDWsBhe6Ma"
   },
   "outputs": [],
   "source": [
    "# Multiply each value vector by the corresponding softmax score\n",
    "z = torch.matmul(scores, values)  # (5, 5) @ (5, 7) -> (5, 7)"
   ]
  },
  {
   "cell_type": "markdown",
   "metadata": {
    "id": "7_his4tXgPk1"
   },
   "source": [
    "## 3. Multi-headed attention\n",
    "\n",
    "**GOAL**:\n",
    "1. Expand the model's ability to focus on different positions\n",
    "2. Provide the attention layer multiple “representation subspaces”\n",
    "\n",
    "**Attention with $N$ just means repeating self attention algorithm $N$ times and joining the results**\n",
    "\n",
    "\n",
    "![](https://data-science-blog.com/wp-content/uploads/2022/01/mha_img_original.png)\n",
    "\n",
    "**Multi-headed attention steps:**\n",
    "1. Same as self-attention calculation, just n different times with different weight matrices\n",
    "2. Condense the $N$ z metrices down into a single matrix by concatinating the matrices then multiply them by an additional weights matrix `WO`\n",
    "\n",
    "Now the output z metrix is fed to the FFNN"
   ]
  },
  {
   "cell_type": "code",
   "execution_count": 8,
   "metadata": {
    "id": "YTwNl_mJfAot"
   },
   "outputs": [],
   "source": [
    "from torch import Tensor\n",
    "import torch.nn.functional as f\n",
    "from torch import nn\n",
    "\n",
    "\n",
    "def scaled_dot_product_attention(query, key, value):\n",
    "  temp = query.bmm(key.transpose(1, 2))\n",
    "  scale = query.size(-1) ** 0.5\n",
    "  softmax = f.softmax(temp / scale, dim=-1)\n",
    "  return softmax.bmm(value)"
   ]
  },
  {
   "cell_type": "markdown",
   "metadata": {
    "id": "pMHINHLkglES"
   },
   "source": [
    "### 3.1 Attention head"
   ]
  },
  {
   "cell_type": "code",
   "execution_count": 9,
   "metadata": {
    "id": "H2QBY47ogoEE"
   },
   "outputs": [],
   "source": [
    "class AttentionHead(nn.Module):\n",
    "    def __init__(self, dim_in, dim_q, dim_k):\n",
    "        super().__init__()\n",
    "        self.q = nn.Linear(dim_in, dim_q)  # Linear transformation for Query\n",
    "        self.k = nn.Linear(dim_in, dim_k)  # Linear transformation Key\n",
    "        self.v = nn.Linear(dim_in, dim_k)  # Linear transformation Value\n",
    "\n",
    "    def forward(self, query, key, value):\n",
    "        q = self.q(query)  \n",
    "        k = self.k(key)    \n",
    "        v = self.v(value)  \n",
    "\n",
    "        return scaled_dot_product_attention(q, k, v)"
   ]
  },
  {
   "cell_type": "markdown",
   "metadata": {
    "id": "gyi73Namg0sM"
   },
   "source": [
    "### 3.2 Multi Head Attention\n",
    "\n",
    "**Task:** Implement multi-head attention model"
   ]
  },
  {
   "cell_type": "code",
   "execution_count": 10,
   "metadata": {
    "id": "uw01PJMZg3yc"
   },
   "outputs": [],
   "source": [
    "class MultiHeadAttention(nn.Module):\n",
    "  def __init__(self, number_of_heads, dim_in, dim_q, dim_k):\n",
    "    super().__init__()\n",
    "    self.heads = nn.ModuleList([AttentionHead(dim_in, dim_q, dim_k) for _ in range(number_of_heads)])\n",
    "    self.linear = nn.Linear(number_of_heads* dim_k, dim_in)\n",
    "\n",
    "  def forward(self, query, key, value):\n",
    "    z = self.linear(torch.cat([h(query, key, value) for h in self.heads], dim=-1))\n",
    "    return z\n"
   ]
  },
  {
   "cell_type": "markdown",
   "metadata": {
    "id": "6MkY2jNhg2c7"
   },
   "source": [
    "## 4. Positional Encoding\n",
    "\n",
    "A way to account for the order of the words in the input sequence. A transformer adds a vector to each input embedding which helps it determine the position of each word. <br>\n",
    "**Goal** : preserving information about the order of tokens  \n",
    "\n",
    "Positional Encoding they can either be learned or fixed a priori.\n",
    "\n",
    "Proposed approach from original paper : describe a simple scheme for fixed positional encodings based on sine and cosine functions"
   ]
  },
  {
   "cell_type": "code",
   "execution_count": 11,
   "metadata": {
    "id": "cXIr-0-1i0zd"
   },
   "outputs": [],
   "source": [
    "def position_encoding(seq_len, dim_model, device):\n",
    "  pos = torch.arange(seq_len, dtype=torch.float, device=device).reshape(1, -1, 1)\n",
    "  dim = torch.arange(dim_model, dtype=torch.float, device=device).reshape(1, 1, -1)\n",
    "  phase = pos / (1e4 ** (dim / dim_model))\n",
    "\n",
    "  return torch.where(dim.long() % 2 == 0, torch.sin(phase), torch.cos(phase))"
   ]
  },
  {
   "cell_type": "markdown",
   "metadata": {
    "id": "vi3aQYNznBWI"
   },
   "source": [
    "![](http://jalammar.github.io/images/t/transformer_resideual_layer_norm_2.png)"
   ]
  },
  {
   "cell_type": "markdown",
   "metadata": {
    "id": "MfCA86ACnH01"
   },
   "source": [
    "## 5. Transfomer Encoder Part\n",
    "### 5.1Encoder Feed Forward"
   ]
  },
  {
   "cell_type": "code",
   "execution_count": 12,
   "metadata": {
    "id": "ee2SB_sInB59"
   },
   "outputs": [],
   "source": [
    "def feed_forward(dim_input = 512, dim_feedforward = 2048):\n",
    "  return nn.Sequential(nn.Linear(dim_input, dim_feedforward), nn.ReLU(), nn.Linear(dim_feedforward, dim_input))"
   ]
  },
  {
   "cell_type": "markdown",
   "metadata": {
    "id": "xpQAHDPbnOiA"
   },
   "source": [
    "### 5.2 Encoder Residual\n",
    "\n",
    "From the original paper the author implementation"
   ]
  },
  {
   "cell_type": "code",
   "execution_count": 13,
   "metadata": {
    "id": "j3z2wjR5nRn1"
   },
   "outputs": [],
   "source": [
    "class Residual(nn.Module):\n",
    "  def __init__(self, sublayer, dimension, dropout = 0.1):\n",
    "    super().__init__()\n",
    "    self.sublayer = sublayer\n",
    "    self.norm = nn.LayerNorm(dimension)\n",
    "    self.dropout = nn.Dropout(dropout)\n",
    "\n",
    "  def forward(self, *tensors):\n",
    "    return self.norm(tensors[0] + self.dropout(self.sublayer(*tensors)))"
   ]
  },
  {
   "cell_type": "markdown",
   "metadata": {
    "id": "zxhYxI4Fnbnc"
   },
   "source": [
    "### 5.3 Putting the Encoder layer together"
   ]
  },
  {
   "cell_type": "code",
   "execution_count": 14,
   "metadata": {
    "id": "lZz2JhflniHT"
   },
   "outputs": [],
   "source": [
    "class TransformerEncoderLayer(nn.Module):\n",
    "  def __init__(self, dim_model = 512, num_heads = 6, dim_feedforward = 2048, dropout = 0.1):\n",
    "    super().__init__()\n",
    "    dim_q = dim_k = max(dim_model // num_heads, 1)\n",
    "    self.attention = Residual(MultiHeadAttention(num_heads, dim_model, dim_q, dim_k),\n",
    "                              dimension=dim_model, dropout=dropout)\n",
    "    self.feed_forward = Residual(feed_forward(dim_model, dim_feedforward), dimension=dim_model, dropout=dropout)\n",
    "\n",
    "  def forward(self, src):\n",
    "    src = self.attention(src, src, src)\n",
    "    return self.feed_forward(src)"
   ]
  },
  {
   "cell_type": "markdown",
   "metadata": {
    "id": "oUGS-3opnlxg"
   },
   "source": [
    "## 5.4 Putting together transfomer Encoder part"
   ]
  },
  {
   "cell_type": "code",
   "execution_count": 15,
   "metadata": {
    "id": "QplT81gNnie2"
   },
   "outputs": [],
   "source": [
    "class TransformerEncoder(nn.Module):\n",
    "  def __init__(self, num_layers = 12, dim_model = 512, num_heads = 4, dim_feedforward = 2048, dropout: float = 0.1):\n",
    "    super().__init__()\n",
    "    self.layers = nn.ModuleList([TransformerEncoderLayer(dim_model, num_heads, dim_feedforward, dropout) for _ in range(num_layers) ])\n",
    "\n",
    "  def forward(self, src):\n",
    "    seq_len, dimension = src.size(1), src.size(2)\n",
    "    src += position_encoding(seq_len, dimension)\n",
    "    for layer in self.layers:\n",
    "      src = layer(src)\n",
    "\n",
    "    return src"
   ]
  },
  {
   "cell_type": "markdown",
   "metadata": {
    "id": "GuafKkNanzV3"
   },
   "source": [
    "# The Decoder Side\n",
    "\n",
    "The encoder start by processing the input sequence. The output of the top encoder is then transformed into a set of attention vectors K and V. These are to be used by each decoder.\n",
    "\n",
    "The “Encoder-Decoder Attention” layer works just like multiheaded self-attention, except it creates its Queries matrix from the layer below it, and takes the `Keys` and `Values` matrix from the output of the encoder stack.\n",
    "\n",
    "![](https://jalammar.github.io/images/t/transformer_resideual_layer_norm_3.png)\n"
   ]
  },
  {
   "cell_type": "markdown",
   "metadata": {
    "id": "fjwjs_zzn5Le"
   },
   "source": [
    "## Decoder layer\n",
    "\n",
    "\n",
    "\n",
    "**Task**: implement the decoder layer"
   ]
  },
  {
   "cell_type": "code",
   "execution_count": null,
   "metadata": {
    "id": "ZfrwtIdOn1pT"
   },
   "outputs": [],
   "source": [
    "class DecoderLayer(nn.Module):\n",
    "    def __init__(self, dim_model=512, num_heads=8, dim_feedforward=2048, dropout=0.1):\n",
    "        super().__init__()\n",
    "        dim_q = dim_k = max(dim_model // num_heads, 1)\n",
    "\n",
    "        # Masked Multi-Head Attention (for Decoder)\n",
    "        self.masked_attention = Residual(\n",
    "            MultiHeadAttention(num_heads, dim_model, dim_q, dim_k),\n",
    "            dimension=dim_model, dropout=dropout\n",
    "        )\n",
    "\n",
    "        # Encoder-Decoder Attention\n",
    "        self.encoder_decoder_attention = Residual(\n",
    "            MultiHeadAttention(num_heads, dim_model, dim_q, dim_k),\n",
    "            dimension=dim_model, dropout=dropout\n",
    "        )\n",
    "\n",
    "        # Feed Forward Network\n",
    "        self.feed_forward = Residual(\n",
    "            feed_forward(dim_model, dim_feedforward),\n",
    "            dimension=dim_model, dropout=dropout\n",
    "        )\n",
    "\n",
    "    def forward(self, tgt, memory):\n",
    "        # Masked attention for the decoder\n",
    "        tgt = self.masked_attention(tgt, tgt, tgt)\n",
    "        \n",
    "        # Encoder-Decoder Attention: tgt - это Queries, memory - это Keys и Values\n",
    "        tgt = self.encoder_decoder_attention(tgt, memory, memory)\n",
    "        \n",
    "        return self.feed_forward(tgt)\n"
   ]
  },
  {
   "cell_type": "markdown",
   "metadata": {
    "id": "5nafOjPVpsDR"
   },
   "source": [
    "## 6. Application of Transfomers\n",
    "\n",
    "We will look at sentiment analysis"
   ]
  },
  {
   "cell_type": "code",
   "execution_count": 17,
   "metadata": {},
   "outputs": [
    {
     "name": "stdout",
     "output_type": "stream",
     "text": [
      "Collecting transformers\n",
      "  Downloading transformers-4.49.0-py3-none-any.whl.metadata (44 kB)\n",
      "Requirement already satisfied: filelock in e:\\anaconda\\envs\\myenv\\lib\\site-packages (from transformers) (3.13.1)\n",
      "Collecting huggingface-hub<1.0,>=0.26.0 (from transformers)\n",
      "  Downloading huggingface_hub-0.29.3-py3-none-any.whl.metadata (13 kB)\n",
      "Requirement already satisfied: numpy>=1.17 in e:\\anaconda\\envs\\myenv\\lib\\site-packages (from transformers) (1.26.4)\n",
      "Requirement already satisfied: packaging>=20.0 in c:\\users\\user\\appdata\\roaming\\python\\python310\\site-packages (from transformers) (24.0)\n",
      "Requirement already satisfied: pyyaml>=5.1 in e:\\anaconda\\envs\\myenv\\lib\\site-packages (from transformers) (6.0.2)\n",
      "Collecting regex!=2019.12.17 (from transformers)\n",
      "  Downloading regex-2024.11.6-cp310-cp310-win_amd64.whl.metadata (41 kB)\n",
      "Requirement already satisfied: requests in e:\\anaconda\\envs\\myenv\\lib\\site-packages (from transformers) (2.32.3)\n",
      "Collecting tokenizers<0.22,>=0.21 (from transformers)\n",
      "  Downloading tokenizers-0.21.0-cp39-abi3-win_amd64.whl.metadata (6.9 kB)\n",
      "Collecting safetensors>=0.4.1 (from transformers)\n",
      "  Downloading safetensors-0.5.3-cp38-abi3-win_amd64.whl.metadata (3.9 kB)\n",
      "Requirement already satisfied: tqdm>=4.27 in e:\\anaconda\\envs\\myenv\\lib\\site-packages (from transformers) (4.66.5)\n",
      "Requirement already satisfied: fsspec>=2023.5.0 in e:\\anaconda\\envs\\myenv\\lib\\site-packages (from huggingface-hub<1.0,>=0.26.0->transformers) (2024.10.0)\n",
      "Requirement already satisfied: typing-extensions>=3.7.4.3 in c:\\users\\user\\appdata\\roaming\\python\\python310\\site-packages (from huggingface-hub<1.0,>=0.26.0->transformers) (4.11.0)\n",
      "Requirement already satisfied: colorama in c:\\users\\user\\appdata\\roaming\\python\\python310\\site-packages (from tqdm>=4.27->transformers) (0.4.6)\n",
      "Requirement already satisfied: charset-normalizer<4,>=2 in e:\\anaconda\\envs\\myenv\\lib\\site-packages (from requests->transformers) (3.3.2)\n",
      "Requirement already satisfied: idna<4,>=2.5 in e:\\anaconda\\envs\\myenv\\lib\\site-packages (from requests->transformers) (3.7)\n",
      "Requirement already satisfied: urllib3<3,>=1.21.1 in e:\\anaconda\\envs\\myenv\\lib\\site-packages (from requests->transformers) (2.2.3)\n",
      "Requirement already satisfied: certifi>=2017.4.17 in e:\\anaconda\\envs\\myenv\\lib\\site-packages (from requests->transformers) (2025.1.31)\n",
      "Downloading transformers-4.49.0-py3-none-any.whl (10.0 MB)\n",
      "   ---------------------------------------- 0.0/10.0 MB ? eta -:--:--\n",
      "   --- ------------------------------------ 0.8/10.0 MB 6.7 MB/s eta 0:00:02\n",
      "   ------------- -------------------------- 3.4/10.0 MB 10.6 MB/s eta 0:00:01\n",
      "   ------------------------------ --------- 7.6/10.0 MB 14.2 MB/s eta 0:00:01\n",
      "   ---------------------------------------- 10.0/10.0 MB 14.4 MB/s eta 0:00:00\n",
      "Downloading huggingface_hub-0.29.3-py3-none-any.whl (468 kB)\n",
      "Downloading regex-2024.11.6-cp310-cp310-win_amd64.whl (274 kB)\n",
      "Downloading safetensors-0.5.3-cp38-abi3-win_amd64.whl (308 kB)\n",
      "Downloading tokenizers-0.21.0-cp39-abi3-win_amd64.whl (2.4 MB)\n",
      "   ---------------------------------------- 0.0/2.4 MB ? eta -:--:--\n",
      "   ---------------------------------------- 2.4/2.4 MB 22.6 MB/s eta 0:00:00\n",
      "Installing collected packages: safetensors, regex, huggingface-hub, tokenizers, transformers\n",
      "Successfully installed huggingface-hub-0.29.3 regex-2024.11.6 safetensors-0.5.3 tokenizers-0.21.0 transformers-4.49.0\n",
      "Note: you may need to restart the kernel to use updated packages.\n"
     ]
    }
   ],
   "source": [
    "%pip install transformers\n"
   ]
  },
  {
   "cell_type": "code",
   "execution_count": 18,
   "metadata": {
    "id": "_mcCQsUQp4-u"
   },
   "outputs": [],
   "source": [
    "import transformers\n",
    "\n",
    "class Transformer(nn.Module):\n",
    "\n",
    "  def __init__(self, output_dim):\n",
    "    super().__init__()\n",
    "    self.transformer = transformers.AutoModel.from_pretrained('bert-base-uncased')\n",
    "    for param in self.transformer.parameters():\n",
    "        param.requires_grad = False\n",
    "\n",
    "    hidden_dim = self.transformer.config.hidden_size\n",
    "    self.fc = nn.Linear(hidden_dim, output_dim)\n",
    "\n",
    "\n",
    "  def forward(self, text):\n",
    "    # text = [batch size, seq len]\n",
    "    output = self.transformer(text, output_attentions=True)\n",
    "    hidden = output.last_hidden_state\n",
    "    # hidden = [batch size, seq len, hidden dim]\n",
    "    attention = output.attentions[-1]\n",
    "    # attention = [batch size, n heads, seq len, seq len]\n",
    "    cls_hidden = hidden[:, 0, :]\n",
    "    prediction = self.fc(torch.tanh(cls_hidden))\n",
    "\n",
    "    return prediction"
   ]
  },
  {
   "cell_type": "markdown",
   "metadata": {
    "id": "GqLHQt0iog5v"
   },
   "source": [
    "## 7. Tasks\n",
    "\n",
    "```\n",
    "Task 1\n",
    "- Using the above implementation code the decoder layer and assemble a full transformer model\n",
    "```\n",
    "\n",
    "<hr>\n",
    "\n",
    "```\n",
    "Task 2\n",
    "- Implement, train and test a Transfomer model (use pytorch layers)for Part-of-speech tagging task.\n",
    "```\n",
    "\n",
    "**Task 2 Datasets**: [Train](https://www.dropbox.com/s/x9n6f9o9jl7pno8/train_pos.txt?dl=1), [Test](https://www.dropbox.com/s/v8nccvq7jewcl8s/test_pos.txt?dl=1)\n"
   ]
  },
  {
   "cell_type": "code",
   "execution_count": 19,
   "metadata": {
    "id": "H9m7y3Eur0Dh"
   },
   "outputs": [],
   "source": [
    "# Step 10: Full Transformer Model\n",
    "class Transformer(nn.Module):\n",
    "    def __init__(self, input_dim, output_dim, num_heads=8, num_layers=6, dim_model=512, dim_feedforward=2048, dropout=0.1):\n",
    "        super().__init__()\n",
    "        self.encoder = TransformerEncoder(num_layers, dim_model, num_heads, dim_feedforward, dropout)\n",
    "        self.decoder = DecoderLayer(dim_model, num_heads, dim_feedforward, dropout)\n",
    "        self.fc_out = nn.Linear(dim_model, output_dim)\n",
    "\n",
    "    def forward(self, src, tgt):\n",
    "        # src = input sequence, tgt = target sequence (for Decoder)\n",
    "        memory = self.encoder(src)  # Encoder output (memory)\n",
    "        output = self.decoder(tgt, memory)  # Decoder output\n",
    "        return self.fc_out(output)  # Output layer"
   ]
  },
  {
   "cell_type": "code",
   "execution_count": null,
   "metadata": {},
   "outputs": [],
   "source": []
  }
 ],
 "metadata": {
  "colab": {
   "provenance": []
  },
  "kernelspec": {
   "display_name": "myenv",
   "language": "python",
   "name": "menv"
  },
  "language_info": {
   "codemirror_mode": {
    "name": "ipython",
    "version": 3
   },
   "file_extension": ".py",
   "mimetype": "text/x-python",
   "name": "python",
   "nbconvert_exporter": "python",
   "pygments_lexer": "ipython3",
   "version": "3.10.8"
  }
 },
 "nbformat": 4,
 "nbformat_minor": 4
}
