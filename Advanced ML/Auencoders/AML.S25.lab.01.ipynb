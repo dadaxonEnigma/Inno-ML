{
 "cells": [
  {
   "cell_type": "markdown",
   "metadata": {
    "id": "xqXoek6foX8O"
   },
   "source": [
    "# Lab 1 : Generative Models (Autoencoders)\n",
    "```\n",
    "- [S25] Advanced Machine Learning, Innopolis University\n",
    "- Teaching Assistant: Gcinizwe Dlamini\n",
    "```\n",
    "<hr>\n",
    "\n",
    "\n",
    "```\n",
    "Lab Plan\n",
    "1. Undercomplete, overcomplete, Sparse and Denoising Autoencoder\n",
    "2. Task 1\n",
    "3. Variational Autoencoders\n",
    "4. Task 2\n",
    "```\n",
    "\n",
    "<hr>"
   ]
  },
  {
   "cell_type": "markdown",
   "metadata": {
    "id": "ntyDaSFXxaCJ"
   },
   "source": [
    "## 1. Undercomplete, overcomplete, Sparse and Denoising Autoencoder\n",
    "\n",
    "PCA vs. Undercomplete autoencoders\n",
    "* Autoencoders are much flexible than PCA.\n",
    "* Neural Network activation functions introduce “non-linearities” in encoding, but PCA only linear transformation."
   ]
  },
  {
   "cell_type": "markdown",
   "metadata": {
    "id": "y10n4H72bMZO"
   },
   "source": [
    "### 1.1 Undercomplete Example"
   ]
  },
  {
   "cell_type": "code",
   "execution_count": 1,
   "metadata": {
    "id": "gybxcfO9oUqs"
   },
   "outputs": [],
   "source": [
    "import torch\n",
    "import torch.nn as nn\n",
    "import torch.optim as optim\n",
    "from torchsummary import summary\n",
    "from torch.utils.data import TensorDataset, DataLoader\n",
    "\n",
    "import torchvision\n",
    "import torchvision.transforms as transforms\n",
    "\n",
    "\n",
    "device = torch.device(\"cuda:0\" if torch.cuda.is_available() else \"cpu\")"
   ]
  },
  {
   "cell_type": "markdown",
   "metadata": {
    "id": "aY07Y3_ubwMG"
   },
   "source": [
    "### 1.2 Defining Undercomplete Autoencoder"
   ]
  },
  {
   "cell_type": "code",
   "execution_count": 2,
   "metadata": {
    "id": "IUN6Ft-cbX7j"
   },
   "outputs": [],
   "source": [
    "## Undercomplete\n",
    "class autoencoder(nn.Module):\n",
    "    def __init__(self, input_size, latent_dim):\n",
    "      super(autoencoder, self).__init__()\n",
    "      # Step 1 : Define the encoder\n",
    "      self.encoder = nn.Sequential(\n",
    "          nn.Linear(input_size, input_size//2),\n",
    "          nn.ReLU(),\n",
    "          nn.Linear(input_size//2, latent_dim)\n",
    "      )\n",
    "\n",
    "      # Step 2 : Define the decoder\n",
    "      self.decoder = nn.Sequential(\n",
    "          nn.Linear(latent_dim, input_size//2),\n",
    "          nn.ReLU(),\n",
    "          nn.Linear(input_size//2, input_size)\n",
    "      )\n",
    "\n",
    "      # Step 3 : Initialize the weights (optional)\n",
    "      self.encoder.apply(self.__init_weights)\n",
    "      self.decoder.apply(self.__init_weights)\n",
    "\n",
    "    def forward(self, x):\n",
    "      # Step 1: Pass the input through encoder to get latent representation\n",
    "      z = self.encoder(x)\n",
    "      # Step 2: Take latent representation and pass through decoder\n",
    "      x = self.decoder(z)\n",
    "      return x\n",
    "\n",
    "    def encode(self,input):\n",
    "      #Step 1: Pass the input through the encoder to get latent representation\n",
    "      return self.encoder(input)\n",
    "\n",
    "    def __init_weights(self,m):\n",
    "      #Init the weights (optional)\n",
    "      if type(m) == nn.Linear:\n",
    "          torch.nn.init.xavier_uniform_(m.weight)\n",
    "          m.bias.data.fill_(0.01)"
   ]
  },
  {
   "cell_type": "markdown",
   "metadata": {
    "id": "1l8jTUQ7b1Mx"
   },
   "source": [
    "### 1.3 Define training parameters\n",
    "\n",
    "```\n",
    "Step 1: Set training parameters (batch size, learning rate, optimizer, number of epochs, loss function)\n",
    "Step 2: Create dataset (Randomly generated)\n",
    "Step 3: Create data loader\n",
    "Step 4: Define the training loop\n",
    "```"
   ]
  },
  {
   "cell_type": "code",
   "execution_count": 3,
   "metadata": {
    "colab": {
     "base_uri": "https://localhost:8080/"
    },
    "id": "yscmcHIJcAzK",
    "outputId": "4190e910-4cb4-4a2d-9d28-c543c8ae9d9d"
   },
   "outputs": [
    {
     "name": "stdout",
     "output_type": "stream",
     "text": [
      "autoencoder(\n",
      "  (encoder): Sequential(\n",
      "    (0): Linear(in_features=64, out_features=32, bias=True)\n",
      "    (1): ReLU()\n",
      "    (2): Linear(in_features=32, out_features=5, bias=True)\n",
      "  )\n",
      "  (decoder): Sequential(\n",
      "    (0): Linear(in_features=5, out_features=32, bias=True)\n",
      "    (1): ReLU()\n",
      "    (2): Linear(in_features=32, out_features=64, bias=True)\n",
      "  )\n",
      ")\n"
     ]
    }
   ],
   "source": [
    "batchSize = 100\n",
    "learning_rate = 0.01\n",
    "num_epochs = 3\n",
    "sample = torch.randn((batchSize,1,64))\n",
    "AE = autoencoder(64,5).to(device)\n",
    "print(AE)\n",
    "\n",
    "criterion = nn.MSELoss()\n",
    "optimizer = torch.optim.Adam(AE.parameters(),lr=learning_rate)\n",
    "\n",
    "#Create a random dataset\n",
    "data_loader = DataLoader(TensorDataset(torch.randn((1000,1,64))),batch_size=32,shuffle=True)"
   ]
  },
  {
   "cell_type": "markdown",
   "metadata": {
    "id": "zJ9GLkfMcMiH"
   },
   "source": [
    "### 1.4 AE Training Loop"
   ]
  },
  {
   "cell_type": "code",
   "execution_count": 4,
   "metadata": {
    "colab": {
     "base_uri": "https://localhost:8080/"
    },
    "id": "_QY6dHULcR0T",
    "outputId": "4e2c7471-6003-4854-c875-7e4c75b8c9cd"
   },
   "outputs": [
    {
     "name": "stdout",
     "output_type": "stream",
     "text": [
      "epoch [1/3], loss:1.0779\n",
      "epoch [2/3], loss:0.8597\n",
      "epoch [3/3], loss:0.8648\n"
     ]
    }
   ],
   "source": [
    "for epoch in range(num_epochs):\n",
    "    epoch_loss = 0.0\n",
    "    for X in data_loader:\n",
    "        X = X[0].to(device)\n",
    "\n",
    "        optimizer.zero_grad()\n",
    "        # forward\n",
    "        output = AE(X)\n",
    "        loss = criterion(output, X)\n",
    "\n",
    "        # backward\n",
    "        loss.backward()\n",
    "        optimizer.step()\n",
    "\n",
    "        epoch_loss += loss.item()\n",
    "\n",
    "    # log\n",
    "    print('epoch [{}/{}], loss:{:.4f}'.format(epoch + 1, num_epochs, loss.item()))"
   ]
  },
  {
   "cell_type": "markdown",
   "metadata": {
    "id": "IfYXqkQhxk8w"
   },
   "source": [
    "## 2. Task 1 (Regularized Autoencoder)\n",
    "\n",
    "Regularized autoencoders use a loss function that encourages the model to have other properties besides the ability to copy its input to its output.\n",
    "\n",
    "* **Sparse Autoencoders** : It impose a constraint in its loss by adding a regularization term in the loss function.\n",
    "$$L(x,\\hat{x}) + λ \\sum_{i}||h_i||$$\n",
    "where $h_i$ is the activations of the hidden layers\n",
    "\n",
    "  **Regularization Form** : It can be L1 regularization or Any other kinds of penalties are possible\n",
    "\n",
    "\n",
    "* **Denoising Autoencoder** : a special autoencoder that is robust to noise. By adding stochastic noise, we force Autoencoder to learn more robust features\n",
    "\n",
    "\n",
    "<font color='red'><strong>TASK 1.1 :</strong> Implement and train a Sparse Autoencoder for 1D data of your choice (data points should be more than 5000)</font>\n",
    "\n",
    "\n",
    "<font color='red'><strong>TASK 1.2 :</strong> Implement and train a Denoising Autoencoder for CIFAR 10 dataset. Choose one class from the 10 classes</font>\n"
   ]
  },
  {
   "cell_type": "code",
   "execution_count": null,
   "metadata": {
    "id": "DpcD9cYMdKxN"
   },
   "outputs": [],
   "source": [
    "class SparseAutoencoder(nn.Module):\n",
    "  pass\n",
    "\n",
    "\n",
    "class DenoisingAutoencoder(nn.Module):\n",
    "  pass\n"
   ]
  },
  {
   "cell_type": "markdown",
   "metadata": {
    "id": "Nnlrda5BqVSa"
   },
   "source": [
    "## 3. Variational Autoencoders\n",
    "\n",
    "![caption](https://learnopencv.com/wp-content/uploads/2020/11/vae-diagram-1-1024x563.jpg)\n",
    "\n",
    "\n",
    "![](https://learnopencv.com/wp-content/uploads/2020/11/reparam-vae-2048x959.jpg)\n",
    "\n",
    "Backpropagation works fine!!\n",
    "However, we simply cannot do this for a random sampling process.\n",
    "\n",
    "$$z \\sim q(z|x^{i})$$\n",
    "\n",
    "* It is basically divert the non-differentiable operation out of the network\n",
    "* So that, even though we still involve a thing that is non-differentiable, at least it is out of the network\n",
    "* Hence the network could still be trained.\n",
    "\n",
    "To do so, we sample $\\epsilon \\sim N(0,I)$ and calculate:\n",
    "\n",
    "$$z = \\mu_{\\phi}(x^{(i)}) + Σ^{1/2}_{\\phi}(x^{(i)})\\epsilon$$\n",
    "\n",
    "**Key theories behind :** <br>\n",
    "1. Change of variable\n",
    "2. Loacation-Scale Transformation\n",
    "3. [Law of The Unconscious Statistician](https://en.wikipedia.org/wiki/Law_of_the_unconscious_statistician)\n",
    "4. [Evidence lower bound (ELBO)](https://en.wikipedia.org/wiki/Evidence_lower_bound)\n",
    "\n",
    "Then, $z$ will be a sample from $q(z|x^{(i)})$ as its a linear transformation of $\\epsilon$ with mean $\\mu_{\\phi}(x^{(i)})$ and covariance $Σ^{1/2}_{\\phi}(x^{(i)})$.\n",
    "\n",
    "The sampling operation now occurs only for $\\epsilon$, which we don’t need to backpropagate through.\n",
    "\n",
    "\n",
    "**NOTE:** make a simplifying assumption that our covariance matrix only has nonzero values on the diagonal, allowing us to describe this information in a simple vector.\n",
    "\n",
    "**NOTE** In order to deal with the fact that the network may learn negative values for $σ$ , we'll typically have the network learn $log$ $\\sigma$ and exponentiate this value to get the latent distribution's variance"
   ]
  },
  {
   "cell_type": "code",
   "execution_count": 5,
   "metadata": {
    "id": "Qv-heWe4qX18"
   },
   "outputs": [],
   "source": [
    "import os\n",
    "import torch\n",
    "import torch.nn as nn\n",
    "import torch.nn.functional as F\n",
    "from torchvision import transforms\n",
    "from torchvision.utils import save_image"
   ]
  },
  {
   "cell_type": "markdown",
   "metadata": {
    "id": "_TKcLOjDd3hD"
   },
   "source": [
    "### 3.1 Get data (MNIST) and set Hyper-parameters"
   ]
  },
  {
   "cell_type": "code",
   "execution_count": 6,
   "metadata": {
    "colab": {
     "base_uri": "https://localhost:8080/"
    },
    "id": "lgkkiV8zeBun",
    "outputId": "0f3b0af1-06a0-4b8c-e552-272186c6c3bd"
   },
   "outputs": [
    {
     "name": "stdout",
     "output_type": "stream",
     "text": [
      "Downloading http://yann.lecun.com/exdb/mnist/train-images-idx3-ubyte.gz\n",
      "Downloading http://yann.lecun.com/exdb/mnist/train-images-idx3-ubyte.gz to ../../data/MNIST/raw/train-images-idx3-ubyte.gz\n"
     ]
    },
    {
     "name": "stderr",
     "output_type": "stream",
     "text": [
      "100%|██████████| 9912422/9912422 [00:00<00:00, 119973772.85it/s]\n"
     ]
    },
    {
     "name": "stdout",
     "output_type": "stream",
     "text": [
      "Extracting ../../data/MNIST/raw/train-images-idx3-ubyte.gz to ../../data/MNIST/raw\n",
      "\n",
      "Downloading http://yann.lecun.com/exdb/mnist/train-labels-idx1-ubyte.gz\n",
      "Downloading http://yann.lecun.com/exdb/mnist/train-labels-idx1-ubyte.gz to ../../data/MNIST/raw/train-labels-idx1-ubyte.gz\n"
     ]
    },
    {
     "name": "stderr",
     "output_type": "stream",
     "text": [
      "100%|██████████| 28881/28881 [00:00<00:00, 58832294.23it/s]\n"
     ]
    },
    {
     "name": "stdout",
     "output_type": "stream",
     "text": [
      "Extracting ../../data/MNIST/raw/train-labels-idx1-ubyte.gz to ../../data/MNIST/raw\n",
      "\n",
      "Downloading http://yann.lecun.com/exdb/mnist/t10k-images-idx3-ubyte.gz\n",
      "Downloading http://yann.lecun.com/exdb/mnist/t10k-images-idx3-ubyte.gz to ../../data/MNIST/raw/t10k-images-idx3-ubyte.gz\n"
     ]
    },
    {
     "name": "stderr",
     "output_type": "stream",
     "text": [
      "100%|██████████| 1648877/1648877 [00:00<00:00, 32175167.59it/s]\n"
     ]
    },
    {
     "name": "stdout",
     "output_type": "stream",
     "text": [
      "Extracting ../../data/MNIST/raw/t10k-images-idx3-ubyte.gz to ../../data/MNIST/raw\n",
      "\n",
      "Downloading http://yann.lecun.com/exdb/mnist/t10k-labels-idx1-ubyte.gz\n",
      "Downloading http://yann.lecun.com/exdb/mnist/t10k-labels-idx1-ubyte.gz to ../../data/MNIST/raw/t10k-labels-idx1-ubyte.gz\n"
     ]
    },
    {
     "name": "stderr",
     "output_type": "stream",
     "text": [
      "100%|██████████| 4542/4542 [00:00<00:00, 10058357.32it/s]\n"
     ]
    },
    {
     "name": "stdout",
     "output_type": "stream",
     "text": [
      "Extracting ../../data/MNIST/raw/t10k-labels-idx1-ubyte.gz to ../../data/MNIST/raw\n",
      "\n"
     ]
    }
   ],
   "source": [
    "# Hyper-parameters\n",
    "image_size = 784\n",
    "h_dim = 400\n",
    "z_dim = 20\n",
    "num_epochs = 15\n",
    "batch_size = 128\n",
    "learning_rate = 1e-3\n",
    "\n",
    "# MNIST dataset\n",
    "dataset = torchvision.datasets.MNIST(root='../../data',\n",
    "                                     train=True,\n",
    "                                     transform=transforms.ToTensor(),\n",
    "                                     download=True)\n",
    "\n",
    "# Data loader\n",
    "data_loader = torch.utils.data.DataLoader(dataset=dataset,\n",
    "                                          batch_size=batch_size,\n",
    "                                          shuffle=True)"
   ]
  },
  {
   "cell_type": "markdown",
   "metadata": {
    "id": "X3z13pDieJla"
   },
   "source": [
    "### 3.2 Defining Variational Autoencoder"
   ]
  },
  {
   "cell_type": "code",
   "execution_count": 7,
   "metadata": {
    "id": "DghNTvZJeMVd"
   },
   "outputs": [],
   "source": [
    "# VAE model\n",
    "class VAE(nn.Module):\n",
    "  def __init__(self, image_size=784, h_dim=400, z_dim=20):\n",
    "    super(VAE, self).__init__()\n",
    "    # Encoder part\n",
    "    self.fc1 = nn.Linear(image_size, h_dim)\n",
    "\n",
    "    self.fc2 = nn.Linear(h_dim, z_dim)\n",
    "    self.fc3 = nn.Linear(h_dim, z_dim)\n",
    "\n",
    "    # Decoder part\n",
    "    self.fc4 = nn.Linear(z_dim, h_dim)\n",
    "    self.fc5 = nn.Linear(h_dim, image_size)\n",
    "\n",
    "  def encode(self, x):\n",
    "    h = F.relu(self.fc1(x))\n",
    "    return self.fc2(h), self.fc3(h)\n",
    "\n",
    "  def reparameterize(self, mu, log_var):\n",
    "    std = torch.exp(log_var/2)\n",
    "    eps = torch.randn_like(std)\n",
    "    return mu + eps * std\n",
    "\n",
    "  def decode(self, z):\n",
    "    h = F.relu(self.fc4(z))\n",
    "    return F.sigmoid(self.fc5(h))\n",
    "\n",
    "  def forward(self, x):\n",
    "    mu, log_var = self.encode(x)\n",
    "    z = self.reparameterize(mu, log_var)\n",
    "    x_reconst = self.decode(z)\n",
    "    return x_reconst, mu, log_var"
   ]
  },
  {
   "cell_type": "markdown",
   "metadata": {
    "id": "1_UfmJ_ZeQZT"
   },
   "source": [
    "### 3.3 Training Variational Autoencoder"
   ]
  },
  {
   "cell_type": "code",
   "execution_count": 8,
   "metadata": {
    "id": "aXCY3FeCeX3R"
   },
   "outputs": [],
   "source": [
    "model = VAE(image_size, h_dim, z_dim).to(device)\n",
    "optimizer = torch.optim.Adam(model.parameters(), lr=learning_rate)"
   ]
  },
  {
   "cell_type": "code",
   "execution_count": null,
   "metadata": {
    "id": "oKajOXMIeeyK"
   },
   "outputs": [],
   "source": [
    "# Start training\n",
    "mse_loss = nn.MSELoss()\n",
    "for epoch in range(num_epochs):\n",
    "    for i, (x, _) in enumerate(data_loader):\n",
    "        # Forward pass\n",
    "        x = x.to(device).view(-1, image_size)\n",
    "        x_reconst, mu, log_var = model(x)\n",
    "\n",
    "        # Compute reconstruction loss and kl divergence\n",
    "        reconst_loss = mse_loss(x_reconst, x)\n",
    "        kl_div = - 0.5 * torch.sum(1 + log_var - mu.pow(2) - log_var.exp())\n",
    "\n",
    "        # Backprop and optimize\n",
    "        loss = reconst_loss + kl_div\n",
    "        optimizer.zero_grad()\n",
    "        loss.backward()\n",
    "        optimizer.step()\n",
    "\n",
    "        if (i+1) % 10 == 0:\n",
    "            print (\"Epoch[{}/{}], Step [{}/{}], Reconst Loss: {:.4f}\"\n",
    "                   .format(epoch+1, num_epochs, i+1, len(data_loader), reconst_loss.item()))\n",
    "\n",
    "    with torch.no_grad():\n",
    "        # Save the sampled images\n",
    "        z = torch.randn(batch_size, z_dim).to(device)\n",
    "        out = model.decode(z).view(-1, 1, 28, 28)\n",
    "        save_image(out,'./sampled-{}.png'.format(epoch+1))\n",
    "\n",
    "        # Save the reconstructed images\n",
    "        out, _, _ = model(x)\n",
    "        x_concat = torch.cat([x.view(-1, 1, 28, 28), out.view(-1, 1, 28, 28)], dim=3)\n",
    "        save_image(x_concat, './reconst-{}.png'.format(epoch+1))"
   ]
  },
  {
   "cell_type": "markdown",
   "metadata": {
    "id": "RSg9K7S2xonJ"
   },
   "source": [
    "## 4. Task 2 (variational autoencoder)\n",
    "\n",
    "<font color='red'><strong>TASK 2.1 :</strong> Implement and train a variational autoencoder for cifar 10 data using the achitecture below for encoder and decoder as baseline (you can only improve the achitecture by extending the achitecture on top of baseline) </font>\n",
    "<br>\n",
    "\n",
    "<font color='red'><strong>TASK 2.2 :</strong> Implement a function that will generate images using the implemented vae</font>  \n",
    "\n",
    "\n",
    "**Encoder Achitecture (baseline)**\n",
    "- 3 convolutional layers whereby each layer is followed by batch normalization and relu activation function\n",
    "  - Layer 1 : applies 32 filters\n",
    "  - Layer 2 : applies 64 filters\n",
    "  - Layer 3 : applies 128 filters\n",
    "\n",
    "**Latent space**\n",
    "- without activation\n",
    "\n",
    "**Decoder Achitecture (baseline)**\n",
    "- 3 deconvolutional layers whereby each layer is followed by batch normalization and relu activation function\n",
    "- Mirror of the encoder network\n",
    "\n",
    "**NB**: For both convolution and deconvolution `kernel_size=4, stride=2, padding=1`"
   ]
  },
  {
   "cell_type": "code",
   "execution_count": null,
   "metadata": {
    "id": "q2-NalyExryC"
   },
   "outputs": [],
   "source": [
    "## Template code\n",
    "## Write your code here\n",
    "\n",
    "class VAE(nn.Module):\n",
    "    def __init__(self):\n",
    "        super(VAE, self).__init__()\n",
    "        ## Your code here\n",
    "\n",
    "\n",
    "    def reparametrize(self, mean, logvar):\n",
    "        ## Your code here\n",
    "        pass\n",
    "\n",
    "\n",
    "    def forward(self, x):\n",
    "        ## Your code here\n",
    "        pass\n",
    "\n",
    "\n",
    "vae_model = VAE()\n",
    "vae_model"
   ]
  },
  {
   "cell_type": "markdown",
   "metadata": {
    "id": "Rc_7ILh9fj68"
   },
   "source": [
    "## Resources\n",
    "\n",
    "* [Auto-Encoding Variational Bayes](https://arxiv.org/pdf/1312.6114.pdf)\n",
    "* [Variational inference: A review for statisticians](https://arxiv.org/pdf/1601.00670.pdf)\n",
    "* [Tutorial on variational autoencoders](https://arxiv.org/pdf/1606.05908.pdf)\n",
    "* [Stochastic Backpropagation and Approximate Inference in Deep Generative Models](https://arxiv.org/pdf/1401.4082.pdf)"
   ]
  },
  {
   "cell_type": "code",
   "execution_count": null,
   "metadata": {
    "id": "XlSe6D2Wfmuo"
   },
   "outputs": [],
   "source": []
  }
 ],
 "metadata": {
  "colab": {
   "provenance": []
  },
  "kernelspec": {
   "display_name": "Python 3 (ipykernel)",
   "language": "python",
   "name": "python3"
  },
  "language_info": {
   "codemirror_mode": {
    "name": "ipython",
    "version": 3
   },
   "file_extension": ".py",
   "mimetype": "text/x-python",
   "name": "python",
   "nbconvert_exporter": "python",
   "pygments_lexer": "ipython3",
   "version": "3.12.4"
  }
 },
 "nbformat": 4,
 "nbformat_minor": 4
}
