{
 "cells": [
  {
   "cell_type": "code",
   "execution_count": 1,
   "id": "7ff077bd-ede3-4c59-a75b-aa944d14dc4e",
   "metadata": {},
   "outputs": [],
   "source": [
    "import numpy as np"
   ]
  },
  {
   "cell_type": "code",
   "execution_count": 37,
   "id": "3438265d-62d3-464e-9d1c-3a621c6dcb55",
   "metadata": {},
   "outputs": [
    {
     "name": "stdout",
     "output_type": "stream",
     "text": [
      "L1 norm = 10.0\n",
      "L2 norm = 5.477225575051661\n",
      "Infinite norm = 4\n",
      "\n",
      "(10, 5.477225575051661, 4)\n"
     ]
    }
   ],
   "source": [
    "# with numpy library\n",
    "def compute_norms(x):\n",
    "    norm_1 = np.linalg.norm(x,1)\n",
    "    norm_2 = np.linalg.norm(x,2)\n",
    "    norm_inf = np.max(np.abs(x))\n",
    "    return norm_1, norm_2, norm_inf\n",
    "\n",
    "x = np.array([1,-2,3,-4])\n",
    "norms = compute_norms(x)\n",
    "print(f'L1 norm = {norms[0]}\\nL2 norm = {norms[1]}\\nInfinite norm = {norms[2]}\\n')\n",
    "\n",
    "# only python \n",
    "def comp_norms(y):\n",
    "    norm_1 = 0\n",
    "    norm_2 = 0\n",
    "    inf_norm = []\n",
    "    for i in y:\n",
    "        if i < 0:\n",
    "            norm_1 = norm_1 + (i * (-1))\n",
    "            norm_2 = norm_2 + i**2\n",
    "            inf_norm.append(i*(-1))\n",
    "        else:\n",
    "            norm_1 = norm_1 + i\n",
    "            norm_2 = norm_2 + i**2\n",
    "            inf_norm.append(i)\n",
    "            \n",
    "    return norm_1, norm_2 ** (1/2), max(inf_norm)\n",
    "\n",
    "x = np.array([1,-2,3,-4,])\n",
    "norm = comp_norms(x)\n",
    "print(norm)"
   ]
  },
  {
   "cell_type": "code",
   "execution_count": 45,
   "id": "c2e22598-ca43-4d31-8259-64970305b135",
   "metadata": {},
   "outputs": [
    {
     "name": "stdout",
     "output_type": "stream",
     "text": [
      "Triangle inequality holds: True\n"
     ]
    }
   ],
   "source": [
    "def chek_treangle_rule(x, y):\n",
    "    return np.linalg.norm(x+y, 2) <= np.linalg.norm(x,2) + np.linalg.norm(x,2)\n",
    "\n",
    "x = np.array([1, -2, 3])\n",
    "y = np.array([4, -1, 0])\n",
    "print(\"Triangle inequality holds:\", chek_treangle_rule(x, y))"
   ]
  },
  {
   "cell_type": "code",
   "execution_count": 69,
   "id": "177e2973-3358-4c9d-b27a-e4210475377b",
   "metadata": {},
   "outputs": [
    {
     "name": "stdout",
     "output_type": "stream",
     "text": [
      "Matrix A:\n",
      " [[1 2]\n",
      " [3 4]]\n",
      "Matrix B:\n",
      " [[5 6]\n",
      " [7 8]]\n",
      "Matrix A * B =\n",
      " [[19 22]\n",
      " [43 50]]\n",
      "Transpose A:\n",
      "[[1 3]\n",
      " [2 4]]\n",
      "Transpose A:\n",
      "[[-2.   1. ]\n",
      " [ 1.5 -0.5]]\n",
      "Det A:\n",
      "-2.0000000000000004\n",
      "Rank A:\n",
      "2\n"
     ]
    }
   ],
   "source": [
    "# Define two matrices\n",
    "A = np.array([[1, 2], [3, 4]])\n",
    "B = np.array([[5, 6], [7, 8]])\n",
    "\n",
    "# Matrix operations\n",
    "print(\"Matrix A:\\n\", A)\n",
    "print(\"Matrix B:\\n\", B)\n",
    "\n",
    "print('Matrix A * B =\\n', A @ B)\n",
    "\n",
    "print(f'Transpose A:\\n{A.T}')\n",
    "\n",
    "print(f'Transpose A:\\n{np.linalg.inv(A)}')\n",
    "\n",
    "print(f'Det A:\\n{np.linalg.det(A)}')\n",
    "\n",
    "print(f'Rank A:\\n{np.linalg.matrix_rank(A)}')\n"
   ]
  },
  {
   "cell_type": "code",
   "execution_count": 90,
   "id": "acd606c6-85c4-4d6a-abdb-e9cd02c4fa8b",
   "metadata": {},
   "outputs": [
    {
     "name": "stdout",
     "output_type": "stream",
     "text": [
      "Projection of b onto a: [2.2 4.4]\n"
     ]
    }
   ],
   "source": [
    "def projection_vectors(a,b):\n",
    "    projection = np.dot(a,b) / np.dot(a,a) * a\n",
    "    return projection\n",
    "a = np.array([1, 2])\n",
    "b = np.array([3, 4])\n",
    "print(\"Projection of b onto a:\", projection_vectors(a, b))"
   ]
  },
  {
   "cell_type": "code",
   "execution_count": 92,
   "id": "81350a59-ce3b-4c2b-aec1-f679c8b33bb8",
   "metadata": {},
   "outputs": [
    {
     "name": "stdout",
     "output_type": "stream",
     "text": [
      "True\n"
     ]
    }
   ],
   "source": [
    "def chek_orthogonality(x,y):\n",
    "    return np.isclose(np.dot(x,y),0)\n",
    "x = np.array([1,2])\n",
    "y = np.array([-2,1])\n",
    "print(chek_orthogonality(x,y))"
   ]
  }
 ],
 "metadata": {
  "kernelspec": {
   "display_name": "Python 3 (ipykernel)",
   "language": "python",
   "name": "python3"
  },
  "language_info": {
   "codemirror_mode": {
    "name": "ipython",
    "version": 3
   },
   "file_extension": ".py",
   "mimetype": "text/x-python",
   "name": "python",
   "nbconvert_exporter": "python",
   "pygments_lexer": "ipython3",
   "version": "3.12.4"
  }
 },
 "nbformat": 4,
 "nbformat_minor": 5
}
