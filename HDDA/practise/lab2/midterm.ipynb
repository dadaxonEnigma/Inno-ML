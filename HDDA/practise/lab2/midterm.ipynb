{
 "cells": [
  {
   "cell_type": "code",
   "execution_count": 1,
   "id": "6e9b3708-8d37-4094-8b88-e30503f90aa8",
   "metadata": {},
   "outputs": [],
   "source": [
    "import numpy as np\n",
    "# Length and width of a newborn's skull\n",
    "data = [191, 155, 195, 149, 181, 148, 183, 153, 176, 144, 208, 157, 189, 150,\n",
    "197, 159, 188, 152, 192, 150, 179, 158, 183, 147, 174, 150, 190, 159, 188,\n",
    "151, 163, 137, 195, 155, 186, 153, 181, 145, 175, 140, 192, 154, 174, 143,\n",
    "176, 139, 197, 167, 190, 163]\n",
    "x1 = [data[i] for i in range(0,len(data),2)]\n",
    "x2 = [data[i] for i in range(1,len(data),2)]"
   ]
  },
  {
   "cell_type": "code",
   "execution_count": 2,
   "id": "5ee7ae5c-fa4e-4d8f-94ed-ad2d23fd96cf",
   "metadata": {},
   "outputs": [],
   "source": [
    "mean_x1 = np.mean(x1)\n",
    "mean_x2 = np.mean(x2)\n",
    "\n",
    "centered_x1 = x1 - mean_x1\n",
    "centered_x2 = x2 - mean_x2"
   ]
  },
  {
   "cell_type": "code",
   "execution_count": 3,
   "id": "078aed23-cca3-4af5-95ae-1565c470b00b",
   "metadata": {},
   "outputs": [
    {
     "data": {
      "text/plain": [
       "50.753599999999985"
      ]
     },
     "execution_count": 3,
     "metadata": {},
     "output_type": "execute_result"
    }
   ],
   "source": [
    "cov_xy = np.mean(centered_x1 * centered_x2)\n",
    "cov_xy"
   ]
  },
  {
   "cell_type": "code",
   "execution_count": 4,
   "id": "1e6004ee-3542-4639-a416-c6a71462345a",
   "metadata": {},
   "outputs": [
    {
     "name": "stdout",
     "output_type": "stream",
     "text": [
      "Covariance Matrix (manual):\n",
      "[[91.4816 50.7536]\n",
      " [50.7536 52.1856]]\n"
     ]
    }
   ],
   "source": [
    "# Вычисление ковариации вручную\n",
    "cov_x1_x2 = np.mean(centered_x1 * centered_x2)\n",
    "cov_x1_x1 = np.mean(centered_x1 ** 2)\n",
    "cov_x2_x2 = np.mean(centered_x2 ** 2)\n",
    "\n",
    "# Собираем ковариационную матрицу\n",
    "cov_matrix = np.array([[cov_x1_x1, cov_x1_x2],\n",
    "                       [cov_x1_x2, cov_x2_x2]])\n",
    "\n",
    "print(\"Covariance Matrix (manual):\")\n",
    "print(cov_matrix)"
   ]
  },
  {
   "cell_type": "code",
   "execution_count": 16,
   "id": "dbf44a58-e707-44fe-a055-0c5be673a858",
   "metadata": {},
   "outputs": [
    {
     "data": {
      "text/plain": [
       "array([[91.4816, 50.7536],\n",
       "       [50.7536, 52.1856]])"
      ]
     },
     "execution_count": 16,
     "metadata": {},
     "output_type": "execute_result"
    }
   ],
   "source": [
    "A = np.vstack([centered_x1,centered_x2]).T\n",
    "\n",
    "cov_matrix_matrix = A.T @ A / len(A)\n",
    "cov_matrix_matrix"
   ]
  },
  {
   "cell_type": "code",
   "execution_count": 10,
   "id": "8302cc58-43d8-43d1-ba65-8ab3ee5632b5",
   "metadata": {},
   "outputs": [
    {
     "data": {
      "text/plain": [
       "array([[95.29333333, 52.86833333],\n",
       "       [52.86833333, 54.36      ]])"
      ]
     },
     "execution_count": 10,
     "metadata": {},
     "output_type": "execute_result"
    }
   ],
   "source": [
    "cov = np.cov(A.T)\n",
    "cov"
   ]
  },
  {
   "cell_type": "code",
   "execution_count": 68,
   "id": "83da57aa-6d70-4c5d-be70-5e4399a0e5d7",
   "metadata": {},
   "outputs": [],
   "source": [
    "eigenvalues, eigenvectors = np.linalg.eig(cov_matrix_matrix)\n",
    "eigenvalues, eigenvectors\n",
    "\n",
    "sorted_indices = np.argsort(eigenvalues)[::-1]\n",
    "eigvals_sorted = eigenvalues[sorted_indices]\n",
    "eigvecs_sorted = eigenvectors[:, sorted_indices]\n",
    "\n",
    "# Извлекаем главные компоненты\n",
    "v1 = eigvecs_sorted[:, 0]  # Первый вектор\n",
    "v2 = eigvecs_sorted[:, 1] "
   ]
  },
  {
   "cell_type": "code",
   "execution_count": 70,
   "id": "ea04e631-bfa8-4e41-ab80-fe587cba405c",
   "metadata": {},
   "outputs": [
    {
     "data": {
      "text/plain": [
       "array([87.8819942, 12.1180058])"
      ]
     },
     "execution_count": 70,
     "metadata": {},
     "output_type": "execute_result"
    }
   ],
   "source": [
    "total_variance = np.sum(eigenvalues)\n",
    "explained_variance = eigenvalues / total_variance * 100\n",
    "explained_variance"
   ]
  },
  {
   "cell_type": "code",
   "execution_count": 72,
   "id": "1784ff58-bf68-4efa-994f-28430f79c378",
   "metadata": {},
   "outputs": [
    {
     "data": {
      "image/png": "[encoded data removed]",
      "text/plain": [
       "<Figure size 640x480 with 1 Axes>"
      ]
     },
     "metadata": {},
     "output_type": "display_data"
    },
    {
     "data": {
      "text/plain": [
       "<matplotlib.quiver.Quiver at 0x158cce47e60>"
      ]
     },
     "execution_count": 72,
     "metadata": {},
     "output_type": "execute_result"
    },
    {
     "data": {
      "image/png": "[encoded data removed]",
      "text/plain": [
       "<Figure size 640x480 with 1 Axes>"
      ]
     },
     "metadata": {},
     "output_type": "display_data"
    }
   ],
   "source": [
    "import matplotlib.pyplot as plt\n",
    "plt.scatter(x1, x2, s = 20, c = 'red', marker = '+', linewidth = 2)\n",
    "plt.show()\n",
    "def abline(slope, intercept):\n",
    "    axes = plt.gca()\n",
    "    x_vals = np.array(axes.get_xlim())\n",
    "    y_vals = intercept + slope * x_vals\n",
    "    plt.plot(x_vals, y_vals, '--')\n",
    "ax = plt.gca()\n",
    "ax.set_aspect(1)\n",
    "origin = np.array([[0, 0],[0, 0]]) # origin point\n",
    "plt.quiver(*origin, v1[0] v[1,v2[0] , color=['b','g'], scale=5)"
   ]
  }
 ],
 "metadata": {
  "kernelspec": {
   "display_name": "Python 3 (ipykernel)",
   "language": "python",
   "name": "python3"
  },
  "language_info": {
   "codemirror_mode": {
    "name": "ipython",
    "version": 3
   },
   "file_extension": ".py",
   "mimetype": "text/x-python",
   "name": "python",
   "nbconvert_exporter": "python",
   "pygments_lexer": "ipython3",
   "version": "3.12.4"
  }
 },
 "nbformat": 4,
 "nbformat_minor": 5
}
