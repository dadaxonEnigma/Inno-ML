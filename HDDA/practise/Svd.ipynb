{
 "cells": [
  {
   "cell_type": "code",
   "execution_count": 1,
   "id": "e3acd304-ebb4-4734-ab70-74137e5ad8d0",
   "metadata": {},
   "outputs": [],
   "source": [
    "import numpy as np"
   ]
  },
  {
   "cell_type": "code",
   "execution_count": 18,
   "id": "1b9641fe-3780-426c-a459-68866ba3446c",
   "metadata": {},
   "outputs": [
    {
     "name": "stdout",
     "output_type": "stream",
     "text": [
      "Matrix A:\n",
      " [[ 1  2  3  4]\n",
      " [ 5  6  7  8]\n",
      " [ 9 10 11 12]\n",
      " [13 14 15 16]]\n",
      "\n",
      "U Matrix:\n",
      " [[-0.13472212 -0.82574206  0.54432436  0.06091792]\n",
      " [-0.3407577  -0.4288172  -0.77117135  0.32449153]\n",
      " [-0.54679327 -0.03189234 -0.09063038 -0.83173682]\n",
      " [-0.75282884  0.36503251  0.31747737  0.44632737]]\n",
      "\n",
      "Singular Values:\n",
      " [3.86226568e+01 2.07132307e+00 1.52856047e-15 2.72860272e-16]\n",
      "\n",
      "V^T Matrix:\n",
      " [[-0.4284124  -0.47437252 -0.52033264 -0.56629275]\n",
      " [ 0.71865348  0.27380781 -0.17103786 -0.61588352]\n",
      " [-0.15245872 -0.18883588  0.83504791 -0.49375331]\n",
      " [ 0.52607636 -0.81507117  0.05191325  0.23708156]]\n"
     ]
    }
   ],
   "source": [
    "A = np.array([[1, 2, 3, 4], \n",
    "              [5, 6, 7, 8], \n",
    "              [9, 10, 11, 12], \n",
    "              [13, 14, 15, 16]])\n",
    "U, S, Vt = np.linalg.svd(A)\n",
    "print(\"Matrix A:\\n\", A)\n",
    "print(\"\\nU Matrix:\\n\", U)\n",
    "print(\"\\nSingular Values:\\n\", S)\n",
    "print(\"\\nV^T Matrix:\\n\", Vt)"
   ]
  },
  {
   "cell_type": "code",
   "execution_count": 22,
   "id": "e6f1178d-7941-4d8c-940e-26503584a51d",
   "metadata": {},
   "outputs": [
    {
     "name": "stdout",
     "output_type": "stream",
     "text": [
      "[[ 1.  2.  3.  4.]\n",
      " [ 5.  6.  7.  8.]\n",
      " [ 9. 10. 11. 12.]\n",
      " [13. 14. 15. 16.]]\n"
     ]
    }
   ],
   "source": [
    "def reconstract_matrix(U,S,Vt):\n",
    "    return np.dot(U, np.dot(np.diag(S), Vt))\n",
    "recon_A = reconstract_matrix(U,S,Vt)\n",
    "print(recon_A)"
   ]
  },
  {
   "cell_type": "code",
   "execution_count": 25,
   "id": "f6907768-104c-4a67-b7e9-25b03a16b5c6",
   "metadata": {},
   "outputs": [
    {
     "name": "stdout",
     "output_type": "stream",
     "text": [
      "1.0821996385275096e-14\n"
     ]
    }
   ],
   "source": [
    "reconstract_error = np.linalg.norm(A - recon_A,2)\n",
    "print(reconstract_error)"
   ]
  },
  {
   "cell_type": "code",
   "execution_count": 28,
   "id": "537eb665-0d39-455a-ab07-0f89802ea0b2",
   "metadata": {},
   "outputs": [],
   "source": [
    "import matplotlib.pyplot as plt\n",
    "from skimage import io\n",
    "\n"
   ]
  }
 ],
 "metadata": {
  "kernelspec": {
   "display_name": "Python 3 (ipykernel)",
   "language": "python",
   "name": "python3"
  },
  "language_info": {
   "codemirror_mode": {
    "name": "ipython",
    "version": 3
   },
   "file_extension": ".py",
   "mimetype": "text/x-python",
   "name": "python",
   "nbconvert_exporter": "python",
   "pygments_lexer": "ipython3",
   "version": "3.12.4"
  }
 },
 "nbformat": 4,
 "nbformat_minor": 5
}
